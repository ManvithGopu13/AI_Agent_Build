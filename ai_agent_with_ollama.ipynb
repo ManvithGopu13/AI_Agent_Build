{
 "cells": [
  {
   "cell_type": "markdown",
   "id": "49dc91be",
   "metadata": {},
   "source": [
    "### First Try and Initialization"
   ]
  },
  {
   "cell_type": "code",
   "execution_count": 2,
   "id": "1b30fb3c",
   "metadata": {},
   "outputs": [],
   "source": [
    "from smolagents import CodeAgent, LiteLLMModel, DuckDuckGoSearchTool"
   ]
  },
  {
   "cell_type": "code",
   "execution_count": 4,
   "id": "ba69bf30",
   "metadata": {},
   "outputs": [],
   "source": [
    "model = LiteLLMModel(\n",
    "    model_id=\"ollama_chat/qwen2.5:7b\",  # Or try other Ollama-supported models\n",
    "    api_base=\"http://127.0.0.1:11434\",  # Default Ollama local server\n",
    "    api_key=\"1122\",\n",
    "    num_ctx=8192,\n",
    ")"
   ]
  },
  {
   "cell_type": "code",
   "execution_count": 5,
   "id": "6f6d88d8",
   "metadata": {},
   "outputs": [],
   "source": [
    "agent = CodeAgent(tools=[DuckDuckGoSearchTool()], model=model, add_base_tools=True)\n"
   ]
  },
  {
   "cell_type": "code",
   "execution_count": 6,
   "id": "45120ab3",
   "metadata": {},
   "outputs": [
    {
     "data": {
      "text/html": [
       "<pre style=\"white-space:pre;overflow-x:auto;line-height:normal;font-family:Menlo,'DejaVu Sans Mono',consolas,'Courier New',monospace\"><span style=\"color: #d4b702; text-decoration-color: #d4b702\">╭──────────────────────────────────────────────────── </span><span style=\"color: #d4b702; text-decoration-color: #d4b702; font-weight: bold\">New run</span><span style=\"color: #d4b702; text-decoration-color: #d4b702\"> ────────────────────────────────────────────────────╮</span>\n",
       "<span style=\"color: #d4b702; text-decoration-color: #d4b702\">│</span>                                                                                                                 <span style=\"color: #d4b702; text-decoration-color: #d4b702\">│</span>\n",
       "<span style=\"color: #d4b702; text-decoration-color: #d4b702\">│</span> <span style=\"font-weight: bold\">What is the capital of India?</span>                                                                                   <span style=\"color: #d4b702; text-decoration-color: #d4b702\">│</span>\n",
       "<span style=\"color: #d4b702; text-decoration-color: #d4b702\">│</span>                                                                                                                 <span style=\"color: #d4b702; text-decoration-color: #d4b702\">│</span>\n",
       "<span style=\"color: #d4b702; text-decoration-color: #d4b702\">╰─ LiteLLMModel - ollama_chat/qwen2.5:7b ─────────────────────────────────────────────────────────────────────────╯</span>\n",
       "</pre>\n"
      ],
      "text/plain": [
       "\u001b[38;2;212;183;2m╭─\u001b[0m\u001b[38;2;212;183;2m───────────────────────────────────────────────────\u001b[0m\u001b[38;2;212;183;2m \u001b[0m\u001b[1;38;2;212;183;2mNew run\u001b[0m\u001b[38;2;212;183;2m \u001b[0m\u001b[38;2;212;183;2m───────────────────────────────────────────────────\u001b[0m\u001b[38;2;212;183;2m─╮\u001b[0m\n",
       "\u001b[38;2;212;183;2m│\u001b[0m                                                                                                                 \u001b[38;2;212;183;2m│\u001b[0m\n",
       "\u001b[38;2;212;183;2m│\u001b[0m \u001b[1mWhat is the capital of India?\u001b[0m                                                                                   \u001b[38;2;212;183;2m│\u001b[0m\n",
       "\u001b[38;2;212;183;2m│\u001b[0m                                                                                                                 \u001b[38;2;212;183;2m│\u001b[0m\n",
       "\u001b[38;2;212;183;2m╰─\u001b[0m\u001b[38;2;212;183;2m LiteLLMModel - ollama_chat/qwen2.5:7b \u001b[0m\u001b[38;2;212;183;2m────────────────────────────────────────────────────────────────────────\u001b[0m\u001b[38;2;212;183;2m─╯\u001b[0m\n"
      ]
     },
     "metadata": {},
     "output_type": "display_data"
    },
    {
     "data": {
      "text/html": [
       "<pre style=\"white-space:pre;overflow-x:auto;line-height:normal;font-family:Menlo,'DejaVu Sans Mono',consolas,'Courier New',monospace\"><span style=\"color: #d4b702; text-decoration-color: #d4b702\">━━━━━━━━━━━━━━━━━━━━━━━━━━━━━━━━━━━━━━━━━━━━━━━━━━━━━ </span><span style=\"font-weight: bold\">Step </span><span style=\"color: #008080; text-decoration-color: #008080; font-weight: bold\">1</span><span style=\"color: #d4b702; text-decoration-color: #d4b702\"> ━━━━━━━━━━━━━━━━━━━━━━━━━━━━━━━━━━━━━━━━━━━━━━━━━━━━━━</span>\n",
       "</pre>\n"
      ],
      "text/plain": [
       "\u001b[38;2;212;183;2m━━━━━━━━━━━━━━━━━━━━━━━━━━━━━━━━━━━━━━━━━━━━━━━━━━━━━ \u001b[0m\u001b[1mStep \u001b[0m\u001b[1;36m1\u001b[0m\u001b[38;2;212;183;2m ━━━━━━━━━━━━━━━━━━━━━━━━━━━━━━━━━━━━━━━━━━━━━━━━━━━━━━\u001b[0m\n"
      ]
     },
     "metadata": {},
     "output_type": "display_data"
    },
    {
     "data": {
      "text/html": [
       "<pre style=\"white-space:pre;overflow-x:auto;line-height:normal;font-family:Menlo,'DejaVu Sans Mono',consolas,'Courier New',monospace\"> ─ <span style=\"font-weight: bold\">Executing parsed code:</span> ──────────────────────────────────────────────────────────────────────────────────────── \n",
       "  <span style=\"color: #f8f8f2; text-decoration-color: #f8f8f2; background-color: #272822\">result </span><span style=\"color: #ff4689; text-decoration-color: #ff4689; background-color: #272822\">=</span><span style=\"color: #f8f8f2; text-decoration-color: #f8f8f2; background-color: #272822\"> web_search(query</span><span style=\"color: #ff4689; text-decoration-color: #ff4689; background-color: #272822\">=</span><span style=\"color: #e6db74; text-decoration-color: #e6db74; background-color: #272822\">\"capital of India\"</span><span style=\"color: #f8f8f2; text-decoration-color: #f8f8f2; background-color: #272822\">)</span><span style=\"background-color: #272822\">                                                                  </span>  \n",
       "  <span style=\"color: #f8f8f2; text-decoration-color: #f8f8f2; background-color: #272822\">print(result)</span><span style=\"background-color: #272822\">                                                                                                  </span>  \n",
       " ───────────────────────────────────────────────────────────────────────────────────────────────────────────────── \n",
       "</pre>\n"
      ],
      "text/plain": [
       " ─ \u001b[1mExecuting parsed code:\u001b[0m ──────────────────────────────────────────────────────────────────────────────────────── \n",
       "  \u001b[38;2;248;248;242;48;2;39;40;34mresult\u001b[0m\u001b[38;2;248;248;242;48;2;39;40;34m \u001b[0m\u001b[38;2;255;70;137;48;2;39;40;34m=\u001b[0m\u001b[38;2;248;248;242;48;2;39;40;34m \u001b[0m\u001b[38;2;248;248;242;48;2;39;40;34mweb_search\u001b[0m\u001b[38;2;248;248;242;48;2;39;40;34m(\u001b[0m\u001b[38;2;248;248;242;48;2;39;40;34mquery\u001b[0m\u001b[38;2;255;70;137;48;2;39;40;34m=\u001b[0m\u001b[38;2;230;219;116;48;2;39;40;34m\"\u001b[0m\u001b[38;2;230;219;116;48;2;39;40;34mcapital of India\u001b[0m\u001b[38;2;230;219;116;48;2;39;40;34m\"\u001b[0m\u001b[38;2;248;248;242;48;2;39;40;34m)\u001b[0m\u001b[48;2;39;40;34m                                                                  \u001b[0m  \n",
       "  \u001b[38;2;248;248;242;48;2;39;40;34mprint\u001b[0m\u001b[38;2;248;248;242;48;2;39;40;34m(\u001b[0m\u001b[38;2;248;248;242;48;2;39;40;34mresult\u001b[0m\u001b[38;2;248;248;242;48;2;39;40;34m)\u001b[0m\u001b[48;2;39;40;34m                                                                                                  \u001b[0m  \n",
       " ───────────────────────────────────────────────────────────────────────────────────────────────────────────────── \n"
      ]
     },
     "metadata": {},
     "output_type": "display_data"
    },
    {
     "data": {
      "text/html": [
       "<pre style=\"white-space:pre;overflow-x:auto;line-height:normal;font-family:Menlo,'DejaVu Sans Mono',consolas,'Courier New',monospace\"><span style=\"font-weight: bold\">Execution logs:</span>\n",
       "## Search Results\n",
       "\n",
       "[New Delhi - Wikipedia](https://en.wikipedia.org/wiki/New_Delhi)\n",
       "New Delhi (/ ˈ nj uː ˈ d ɛ. l i / ⓘ; [6] Hindi: Naī Dillī , pronounced [ˈnəiː ˈdɪlːiː]) is the capital of India and\n",
       "a part of the National Capital Territory of Delhi (NCT). New Delhi is the seat of all three branches of the \n",
       "Government of India, hosting the Rashtrapati Bhavan, Sansad Bhavan, and the Supreme Court.New Delhi is a \n",
       "municipality within the NCT, administered by the New ...\n",
       "\n",
       "[List of state and union territory capitals in India - \n",
       "Wikipedia](https://en.wikipedia.org/wiki/List_of_state_and_union_territory_capitals_in_India)\n",
       "India is a federal constitutional republic governed under a parliamentary system consisting of 28 states and 8 \n",
       "union territories. [1] All states, as well as the union territories of Jammu and Kashmir, Puducherry and the \n",
       "National Capital Territory of Delhi, have elected legislatures and governments, both patterned on the Westminster \n",
       "model.The remaining five union territories are directly ruled ...\n",
       "\n",
       "[New Delhi | History, Population, Map, &amp; Facts | Britannica](https://www.britannica.com/place/New-Delhi)\n",
       "New Delhi, national capital of India. It is situated in the north-central part of the country on the west bank of \n",
       "the Yamuna River, adjacent to and just south of Delhi city (Old Delhi) and within the Delhi national capital \n",
       "territory. Learn more about New Delhi in this article.\n",
       "\n",
       "[States and Capitals of India, 28 States and 8 UTs in India (Updated in \n",
       "...](https://www.careerpower.in/states-and-capitals-of-india.html)\n",
       "States and Capitals of India. India is the 7th largest country in the world and also the 2nd most populous. India \n",
       "is a diverse and culturally rich Nation that comprises 28 states and 8 Union territories, each with its own unique \n",
       "identity, history, and administrative center. India lies in the southern Asia.\n",
       "\n",
       "[Delhi | History, Population, Map, &amp; Facts | Britannica](https://www.britannica.com/place/Delhi)\n",
       "Delhi is a city and national capital territory in north-central India. The city of Delhi actually consists of two \n",
       "components: Old Delhi, in the north, the historic city; and New Delhi, in the south, since 1947 the capital of \n",
       "India, built in the first part of the 20th century as the capital of British India.\n",
       "\n",
       "[List of capitals of India - Wikipedia](https://en.wikipedia.org/wiki/List_of_capitals_of_India)\n",
       "In 1858, Allahabad (now Prayagraj) became the capital of India for a day when it also served as the capital of \n",
       "North-Western Provinces. [3]During the British Raj, until 1911, Calcutta was the capital of India. [4]By the latter\n",
       "half of the 19th century, Shimla had become the summer capital. [5]King George V proclaimed the transfer of the \n",
       "capital from Calcutta to Delhi at the climax of the 1911 ...\n",
       "\n",
       "[What is the Capital of India? - WorldAtlas](https://www.worldatlas.com/articles/what-is-the-capital-of-india.html)\n",
       "Learn about the history, geography, and problems of New Delhi, the capital city of India. Find out why and how the \n",
       "capital was moved from Kolkata to New Delhi in 1911.\n",
       "\n",
       "[What is the Capital of India? - Mappr](https://www.mappr.co/capital-cities/india/)\n",
       "Learn about the history, geography, culture, and attractions of New Delhi, the capital of India. Find out how New \n",
       "Delhi became the capital in 1912, what is the difference between Delhi and New Delhi, and what is the climate and \n",
       "population of the city.\n",
       "\n",
       "[What is the capital of India? States and union territories \n",
       "explained.](https://www.usatoday.com/story/news/world/2023/05/24/what-is-the-capital-of-india/70195720007/)\n",
       "New Delhi is part of one of India's union territories, the National Capital Territory of Dehli. Old Delhi , now a \n",
       "historic city, is north of New Delhi in the same union territory.\n",
       "\n",
       "[What is the capital city of India? - \n",
       "GeeksforGeeks](https://www.geeksforgeeks.org/what-is-the-capital-city-of-india/)\n",
       "The capital city of India is New Delhi, situated in the northern part of the country. It was officially declared \n",
       "the capital of India in 1911 during British rule, replacing Kolkata. New Delhi serves as the political, cultural, \n",
       "and administrative center of India. The city is renowned for its rich history, diverse culture, and architectural \n",
       "...\n",
       "\n",
       "Out: None\n",
       "</pre>\n"
      ],
      "text/plain": [
       "\u001b[1mExecution logs:\u001b[0m\n",
       "## Search Results\n",
       "\n",
       "[New Delhi - Wikipedia](https://en.wikipedia.org/wiki/New_Delhi)\n",
       "New Delhi (/ ˈ nj uː ˈ d ɛ. l i / ⓘ; [6] Hindi: Naī Dillī , pronounced [ˈnəiː ˈdɪlːiː]) is the capital of India and\n",
       "a part of the National Capital Territory of Delhi (NCT). New Delhi is the seat of all three branches of the \n",
       "Government of India, hosting the Rashtrapati Bhavan, Sansad Bhavan, and the Supreme Court.New Delhi is a \n",
       "municipality within the NCT, administered by the New ...\n",
       "\n",
       "[List of state and union territory capitals in India - \n",
       "Wikipedia](https://en.wikipedia.org/wiki/List_of_state_and_union_territory_capitals_in_India)\n",
       "India is a federal constitutional republic governed under a parliamentary system consisting of 28 states and 8 \n",
       "union territories. [1] All states, as well as the union territories of Jammu and Kashmir, Puducherry and the \n",
       "National Capital Territory of Delhi, have elected legislatures and governments, both patterned on the Westminster \n",
       "model.The remaining five union territories are directly ruled ...\n",
       "\n",
       "[New Delhi | History, Population, Map, & Facts | Britannica](https://www.britannica.com/place/New-Delhi)\n",
       "New Delhi, national capital of India. It is situated in the north-central part of the country on the west bank of \n",
       "the Yamuna River, adjacent to and just south of Delhi city (Old Delhi) and within the Delhi national capital \n",
       "territory. Learn more about New Delhi in this article.\n",
       "\n",
       "[States and Capitals of India, 28 States and 8 UTs in India (Updated in \n",
       "...](https://www.careerpower.in/states-and-capitals-of-india.html)\n",
       "States and Capitals of India. India is the 7th largest country in the world and also the 2nd most populous. India \n",
       "is a diverse and culturally rich Nation that comprises 28 states and 8 Union territories, each with its own unique \n",
       "identity, history, and administrative center. India lies in the southern Asia.\n",
       "\n",
       "[Delhi | History, Population, Map, & Facts | Britannica](https://www.britannica.com/place/Delhi)\n",
       "Delhi is a city and national capital territory in north-central India. The city of Delhi actually consists of two \n",
       "components: Old Delhi, in the north, the historic city; and New Delhi, in the south, since 1947 the capital of \n",
       "India, built in the first part of the 20th century as the capital of British India.\n",
       "\n",
       "[List of capitals of India - Wikipedia](https://en.wikipedia.org/wiki/List_of_capitals_of_India)\n",
       "In 1858, Allahabad (now Prayagraj) became the capital of India for a day when it also served as the capital of \n",
       "North-Western Provinces. [3]During the British Raj, until 1911, Calcutta was the capital of India. [4]By the latter\n",
       "half of the 19th century, Shimla had become the summer capital. [5]King George V proclaimed the transfer of the \n",
       "capital from Calcutta to Delhi at the climax of the 1911 ...\n",
       "\n",
       "[What is the Capital of India? - WorldAtlas](https://www.worldatlas.com/articles/what-is-the-capital-of-india.html)\n",
       "Learn about the history, geography, and problems of New Delhi, the capital city of India. Find out why and how the \n",
       "capital was moved from Kolkata to New Delhi in 1911.\n",
       "\n",
       "[What is the Capital of India? - Mappr](https://www.mappr.co/capital-cities/india/)\n",
       "Learn about the history, geography, culture, and attractions of New Delhi, the capital of India. Find out how New \n",
       "Delhi became the capital in 1912, what is the difference between Delhi and New Delhi, and what is the climate and \n",
       "population of the city.\n",
       "\n",
       "[What is the capital of India? States and union territories \n",
       "explained.](https://www.usatoday.com/story/news/world/2023/05/24/what-is-the-capital-of-india/70195720007/)\n",
       "New Delhi is part of one of India's union territories, the National Capital Territory of Dehli. Old Delhi , now a \n",
       "historic city, is north of New Delhi in the same union territory.\n",
       "\n",
       "[What is the capital city of India? - \n",
       "GeeksforGeeks](https://www.geeksforgeeks.org/what-is-the-capital-city-of-india/)\n",
       "The capital city of India is New Delhi, situated in the northern part of the country. It was officially declared \n",
       "the capital of India in 1911 during British rule, replacing Kolkata. New Delhi serves as the political, cultural, \n",
       "and administrative center of India. The city is renowned for its rich history, diverse culture, and architectural \n",
       "...\n",
       "\n",
       "Out: None\n"
      ]
     },
     "metadata": {},
     "output_type": "display_data"
    },
    {
     "data": {
      "text/html": [
       "<pre style=\"white-space:pre;overflow-x:auto;line-height:normal;font-family:Menlo,'DejaVu Sans Mono',consolas,'Courier New',monospace\"><span style=\"color: #7f7f7f; text-decoration-color: #7f7f7f\">[Step 1: Duration 138.41 seconds| Input tokens: 2,141 | Output tokens: 40]</span>\n",
       "</pre>\n"
      ],
      "text/plain": [
       "\u001b[2m[Step 1: Duration 138.41 seconds| Input tokens: 2,141 | Output tokens: 40]\u001b[0m\n"
      ]
     },
     "metadata": {},
     "output_type": "display_data"
    },
    {
     "data": {
      "text/html": [
       "<pre style=\"white-space:pre;overflow-x:auto;line-height:normal;font-family:Menlo,'DejaVu Sans Mono',consolas,'Courier New',monospace\"><span style=\"color: #d4b702; text-decoration-color: #d4b702\">━━━━━━━━━━━━━━━━━━━━━━━━━━━━━━━━━━━━━━━━━━━━━━━━━━━━━ </span><span style=\"font-weight: bold\">Step </span><span style=\"color: #008080; text-decoration-color: #008080; font-weight: bold\">2</span><span style=\"color: #d4b702; text-decoration-color: #d4b702\"> ━━━━━━━━━━━━━━━━━━━━━━━━━━━━━━━━━━━━━━━━━━━━━━━━━━━━━━</span>\n",
       "</pre>\n"
      ],
      "text/plain": [
       "\u001b[38;2;212;183;2m━━━━━━━━━━━━━━━━━━━━━━━━━━━━━━━━━━━━━━━━━━━━━━━━━━━━━ \u001b[0m\u001b[1mStep \u001b[0m\u001b[1;36m2\u001b[0m\u001b[38;2;212;183;2m ━━━━━━━━━━━━━━━━━━━━━━━━━━━━━━━━━━━━━━━━━━━━━━━━━━━━━━\u001b[0m\n"
      ]
     },
     "metadata": {},
     "output_type": "display_data"
    },
    {
     "data": {
      "text/html": [
       "<pre style=\"white-space:pre;overflow-x:auto;line-height:normal;font-family:Menlo,'DejaVu Sans Mono',consolas,'Courier New',monospace\"> ─ <span style=\"font-weight: bold\">Executing parsed code:</span> ──────────────────────────────────────────────────────────────────────────────────────── \n",
       "  <span style=\"color: #f8f8f2; text-decoration-color: #f8f8f2; background-color: #272822\">final_answer(</span><span style=\"color: #e6db74; text-decoration-color: #e6db74; background-color: #272822\">\"New Delhi\"</span><span style=\"color: #f8f8f2; text-decoration-color: #f8f8f2; background-color: #272822\">)</span><span style=\"background-color: #272822\">                                                                                      </span>  \n",
       " ───────────────────────────────────────────────────────────────────────────────────────────────────────────────── \n",
       "</pre>\n"
      ],
      "text/plain": [
       " ─ \u001b[1mExecuting parsed code:\u001b[0m ──────────────────────────────────────────────────────────────────────────────────────── \n",
       "  \u001b[38;2;248;248;242;48;2;39;40;34mfinal_answer\u001b[0m\u001b[38;2;248;248;242;48;2;39;40;34m(\u001b[0m\u001b[38;2;230;219;116;48;2;39;40;34m\"\u001b[0m\u001b[38;2;230;219;116;48;2;39;40;34mNew Delhi\u001b[0m\u001b[38;2;230;219;116;48;2;39;40;34m\"\u001b[0m\u001b[38;2;248;248;242;48;2;39;40;34m)\u001b[0m\u001b[48;2;39;40;34m                                                                                      \u001b[0m  \n",
       " ───────────────────────────────────────────────────────────────────────────────────────────────────────────────── \n"
      ]
     },
     "metadata": {},
     "output_type": "display_data"
    },
    {
     "data": {
      "text/html": [
       "<pre style=\"white-space:pre;overflow-x:auto;line-height:normal;font-family:Menlo,'DejaVu Sans Mono',consolas,'Courier New',monospace\"><span style=\"color: #d4b702; text-decoration-color: #d4b702; font-weight: bold\">Out - Final answer: New Delhi</span>\n",
       "</pre>\n"
      ],
      "text/plain": [
       "\u001b[1;38;2;212;183;2mOut - Final answer: New Delhi\u001b[0m\n"
      ]
     },
     "metadata": {},
     "output_type": "display_data"
    },
    {
     "data": {
      "text/html": [
       "<pre style=\"white-space:pre;overflow-x:auto;line-height:normal;font-family:Menlo,'DejaVu Sans Mono',consolas,'Courier New',monospace\"><span style=\"color: #7f7f7f; text-decoration-color: #7f7f7f\">[Step 2: Duration 76.10 seconds| Input tokens: 5,429 | Output tokens: 75]</span>\n",
       "</pre>\n"
      ],
      "text/plain": [
       "\u001b[2m[Step 2: Duration 76.10 seconds| Input tokens: 5,429 | Output tokens: 75]\u001b[0m\n"
      ]
     },
     "metadata": {},
     "output_type": "display_data"
    },
    {
     "data": {
      "text/plain": [
       "'New Delhi'"
      ]
     },
     "execution_count": 6,
     "metadata": {},
     "output_type": "execute_result"
    }
   ],
   "source": [
    "agent.run(\"What is the capital of India?\")"
   ]
  },
  {
   "cell_type": "markdown",
   "id": "befaf623",
   "metadata": {},
   "source": [
    "## Messages to Prompt "
   ]
  },
  {
   "cell_type": "code",
   "execution_count": 7,
   "id": "b952a782",
   "metadata": {},
   "outputs": [],
   "source": [
    "messages = [\n",
    "    {\"role\": \"system\", \"content\": \"You are an AI assistant with access to various tools.\"},\n",
    "    {\"role\": \"user\", \"content\": \"Hi !\"},\n",
    "    {\"role\": \"assistant\", \"content\": \"Hi human, what can help you with ?\"},\n",
    "]"
   ]
  },
  {
   "cell_type": "code",
   "execution_count": 8,
   "id": "a1c1228a",
   "metadata": {},
   "outputs": [
    {
     "data": {
      "application/vnd.jupyter.widget-view+json": {
       "model_id": "13269f4a324b447ea332d6444888f9e8",
       "version_major": 2,
       "version_minor": 0
      },
      "text/plain": [
       "tokenizer_config.json:   0%|          | 0.00/3.76k [00:00<?, ?B/s]"
      ]
     },
     "metadata": {},
     "output_type": "display_data"
    },
    {
     "name": "stderr",
     "output_type": "stream",
     "text": [
      "c:\\Users\\saish\\AI_Agents_Build\\venv\\lib\\site-packages\\huggingface_hub\\file_download.py:144: UserWarning: `huggingface_hub` cache-system uses symlinks by default to efficiently store duplicated files but your machine does not support them in C:\\Users\\saish\\.cache\\huggingface\\hub\\models--HuggingFaceTB--SmolLM2-1.7B-Instruct. Caching files will still work but in a degraded version that might require more space on your disk. This warning can be disabled by setting the `HF_HUB_DISABLE_SYMLINKS_WARNING` environment variable. For more details, see https://huggingface.co/docs/huggingface_hub/how-to-cache#limitations.\n",
      "To support symlinks on Windows, you either need to activate Developer Mode or to run Python as an administrator. In order to activate developer mode, see this article: https://docs.microsoft.com/en-us/windows/apps/get-started/enable-your-device-for-development\n",
      "  warnings.warn(message)\n"
     ]
    },
    {
     "data": {
      "application/vnd.jupyter.widget-view+json": {
       "model_id": "f6fa902403dc4838bd1c99923a3e36f5",
       "version_major": 2,
       "version_minor": 0
      },
      "text/plain": [
       "vocab.json:   0%|          | 0.00/801k [00:00<?, ?B/s]"
      ]
     },
     "metadata": {},
     "output_type": "display_data"
    },
    {
     "data": {
      "application/vnd.jupyter.widget-view+json": {
       "model_id": "797dfbbe8a9e471aadd14ab35e05f6e6",
       "version_major": 2,
       "version_minor": 0
      },
      "text/plain": [
       "merges.txt:   0%|          | 0.00/466k [00:00<?, ?B/s]"
      ]
     },
     "metadata": {},
     "output_type": "display_data"
    },
    {
     "data": {
      "application/vnd.jupyter.widget-view+json": {
       "model_id": "d164a9e4594d4c0f965481da9be18592",
       "version_major": 2,
       "version_minor": 0
      },
      "text/plain": [
       "tokenizer.json:   0%|          | 0.00/2.10M [00:00<?, ?B/s]"
      ]
     },
     "metadata": {},
     "output_type": "display_data"
    },
    {
     "data": {
      "application/vnd.jupyter.widget-view+json": {
       "model_id": "fcd72f923a30438eb861120c4d38aa36",
       "version_major": 2,
       "version_minor": 0
      },
      "text/plain": [
       "special_tokens_map.json:   0%|          | 0.00/655 [00:00<?, ?B/s]"
      ]
     },
     "metadata": {},
     "output_type": "display_data"
    }
   ],
   "source": [
    "from transformers import AutoTokenizer\n",
    "\n",
    "tokenizer = AutoTokenizer.from_pretrained(\"HuggingFaceTB/SmolLM2-1.7B-Instruct\")\n",
    "rendered_prompt = tokenizer.apply_chat_template(messages, tokenize=False, add_generation_prompt=True)"
   ]
  },
  {
   "cell_type": "code",
   "execution_count": 9,
   "id": "08dc156f",
   "metadata": {},
   "outputs": [
    {
     "name": "stdout",
     "output_type": "stream",
     "text": [
      "<|im_start|>system\n",
      "You are an AI assistant with access to various tools.<|im_end|>\n",
      "<|im_start|>user\n",
      "Hi !<|im_end|>\n",
      "<|im_start|>assistant\n",
      "Hi human, what can help you with ?<|im_end|>\n",
      "<|im_start|>assistant\n",
      "\n"
     ]
    }
   ],
   "source": [
    "print(rendered_prompt)"
   ]
  },
  {
   "cell_type": "markdown",
   "id": "63a7a431",
   "metadata": {},
   "source": [
    "## Tool Creation"
   ]
  },
  {
   "cell_type": "code",
   "execution_count": 13,
   "id": "b697d82e",
   "metadata": {},
   "outputs": [],
   "source": [
    "class Tool:\n",
    "    \"\"\"\n",
    "    A class representing a reusable piece of code (Tool).\n",
    "\n",
    "    Attributes:\n",
    "        name (str): Name of the tool.\n",
    "        description (str): A textual description of what the tool does.\n",
    "        func (callable): The function this tool wraps.\n",
    "        arguments (list): A list of argument.\n",
    "        outputs (str or list): The return type(s) of the wrapped function.\n",
    "    \"\"\"\n",
    "    def __init__(self,\n",
    "                 name: str,\n",
    "                 description: str,\n",
    "                 func: callable,\n",
    "                 arguments: list,\n",
    "                 outputs: str):\n",
    "        self.name = name\n",
    "        self.description = description\n",
    "        self.func = func\n",
    "        self.arguments = arguments\n",
    "        self.outputs = outputs\n",
    "\n",
    "    def to_string(self) -> str:\n",
    "        \"\"\"\n",
    "        Return a string representation of the tool,\n",
    "        including its name, description, arguments, and outputs.\n",
    "        \"\"\"\n",
    "        args_str = \", \".join([\n",
    "            f\"{arg_name}: {arg_type}\" for arg_name, arg_type in self.arguments\n",
    "        ])\n",
    "\n",
    "        return (\n",
    "            f\"Tool Name: {self.name},\"\n",
    "            f\" Description: {self.description},\"\n",
    "            f\" Arguments: {args_str},\"\n",
    "            f\" Outputs: {self.outputs}\"\n",
    "        )\n",
    "\n",
    "    def __call__(self, *args, **kwargs):\n",
    "        \"\"\"\n",
    "        Invoke the underlying function (callable) with provided arguments.\n",
    "        \"\"\"\n",
    "        return self.func(*args, **kwargs)"
   ]
  },
  {
   "cell_type": "code",
   "execution_count": 20,
   "id": "4a3d9905",
   "metadata": {},
   "outputs": [],
   "source": [
    "\n",
    "def calculator(a: int, b: int) -> int:\n",
    "    \"\"\"Multiply two integers.\"\"\"\n",
    "    return a * b\n"
   ]
  },
  {
   "cell_type": "code",
   "execution_count": 15,
   "id": "c62ca789",
   "metadata": {},
   "outputs": [],
   "source": [
    "Calculator_tool = Tool(\n",
    "    \"calculator\",                   # name\n",
    "    \"Multiply two integers.\",       # description\n",
    "    calculator,                     # function to call\n",
    "    [(\"a\", \"int\"), (\"b\", \"int\")],   # inputs (names and types)\n",
    "    \"int\",                          # output\n",
    ")"
   ]
  },
  {
   "cell_type": "code",
   "execution_count": 22,
   "id": "ed3db229",
   "metadata": {},
   "outputs": [
    {
     "name": "stdout",
     "output_type": "stream",
     "text": [
      "Tool Name: calculator, Description: Multiply two integers., Arguments: a: int, b: int, Outputs: int\n"
     ]
    }
   ],
   "source": [
    "print(Calculator_tool.to_string())"
   ]
  },
  {
   "cell_type": "markdown",
   "id": "a7b6cc7e",
   "metadata": {},
   "source": [
    "## Weather API Call"
   ]
  },
  {
   "cell_type": "code",
   "execution_count": 25,
   "id": "200f3fb7",
   "metadata": {},
   "outputs": [],
   "source": [
    "from dotenv import load_dotenv\n",
    "import os\n",
    "\n",
    "load_dotenv()\n",
    "Weather_API_KEY = os.getenv(\"WEATHER_API_KEY\")"
   ]
  },
  {
   "cell_type": "code",
   "execution_count": 31,
   "id": "245f6d0e",
   "metadata": {},
   "outputs": [
    {
     "name": "stdout",
     "output_type": "stream",
     "text": [
      "The current weather in New York is: {'last_updated_epoch': 1743788700, 'last_updated': '2025-04-04 13:45', 'temp_c': 18.3, 'temp_f': 64.9, 'is_day': 1, 'condition': {'text': 'Sunny', 'icon': '//cdn.weatherapi.com/weather/64x64/day/113.png', 'code': 1000}, 'wind_mph': 12.8, 'wind_kph': 20.5, 'wind_degree': 314, 'wind_dir': 'NW', 'pressure_mb': 1022.0, 'pressure_in': 30.18, 'precip_mm': 0.0, 'precip_in': 0.0, 'humidity': 36, 'cloud': 0, 'feelslike_c': 18.3, 'feelslike_f': 64.9, 'windchill_c': 14.6, 'windchill_f': 58.3, 'heatindex_c': 15.2, 'heatindex_f': 59.3, 'dewpoint_c': 9.3, 'dewpoint_f': 48.7, 'vis_km': 16.0, 'vis_miles': 9.0, 'uv': 5.0, 'gust_mph': 16.2, 'gust_kph': 26.1}\n"
     ]
    }
   ],
   "source": [
    "# Code Agent Example: Retrieve Weather Information\n",
    "def get_weather(city):\n",
    "    import requests\n",
    "    api_url = f\"https://api.weatherapi.com/v1/current.json?key={Weather_API_KEY}&q={city}&aqi=no\"\n",
    "    response = requests.get(api_url)\n",
    "    if response.status_code == 200:\n",
    "        data = response.json()\n",
    "        return data.get(\"current\", \"No weather information available\")\n",
    "    else:\n",
    "        return \"Error: Unable to fetch weather data.\"\n",
    "\n",
    "# Execute the function and prepare the final answer\n",
    "result = get_weather(\"New York\")\n",
    "final_answer = f\"The current weather in New York is: {result}\"\n",
    "print(final_answer)"
   ]
  },
  {
   "cell_type": "code",
   "execution_count": null,
   "id": "5aca2377",
   "metadata": {},
   "outputs": [],
   "source": []
  }
 ],
 "metadata": {
  "kernelspec": {
   "display_name": "venv",
   "language": "python",
   "name": "python3"
  },
  "language_info": {
   "codemirror_mode": {
    "name": "ipython",
    "version": 3
   },
   "file_extension": ".py",
   "mimetype": "text/x-python",
   "name": "python",
   "nbconvert_exporter": "python",
   "pygments_lexer": "ipython3",
   "version": "3.10.0"
  }
 },
 "nbformat": 4,
 "nbformat_minor": 5
}
