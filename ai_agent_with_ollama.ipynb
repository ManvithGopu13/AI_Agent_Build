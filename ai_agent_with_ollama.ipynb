{
 "cells": [
  {
   "cell_type": "markdown",
   "id": "49dc91be",
   "metadata": {},
   "source": [
    "### First Try and Initialization"
   ]
  },
  {
   "cell_type": "code",
   "execution_count": 2,
   "id": "1b30fb3c",
   "metadata": {},
   "outputs": [],
   "source": [
    "from smolagents import CodeAgent, LiteLLMModel, DuckDuckGoSearchTool"
   ]
  },
  {
   "cell_type": "code",
   "execution_count": 4,
   "id": "ba69bf30",
   "metadata": {},
   "outputs": [],
   "source": [
    "model = LiteLLMModel(\n",
    "    model_id=\"ollama_chat/qwen2.5:7b\",  # Or try other Ollama-supported models\n",
    "    api_base=\"http://127.0.0.1:11434\",  # Default Ollama local server\n",
    "    api_key=\"1122\",\n",
    "    num_ctx=8192,\n",
    ")"
   ]
  },
  {
   "cell_type": "code",
   "execution_count": 5,
   "id": "6f6d88d8",
   "metadata": {},
   "outputs": [],
   "source": [
    "agent = CodeAgent(tools=[DuckDuckGoSearchTool()], model=model, add_base_tools=True)\n"
   ]
  },
  {
   "cell_type": "code",
   "execution_count": null,
   "id": "45120ab3",
   "metadata": {},
   "outputs": [
    {
     "data": {
      "text/html": [
       "<pre style=\"white-space:pre;overflow-x:auto;line-height:normal;font-family:Menlo,'DejaVu Sans Mono',consolas,'Courier New',monospace\"><span style=\"color: #d4b702; text-decoration-color: #d4b702\">╭──────────────────────────────────────────────────── </span><span style=\"color: #d4b702; text-decoration-color: #d4b702; font-weight: bold\">New run</span><span style=\"color: #d4b702; text-decoration-color: #d4b702\"> ────────────────────────────────────────────────────╮</span>\n",
       "<span style=\"color: #d4b702; text-decoration-color: #d4b702\">│</span>                                                                                                                 <span style=\"color: #d4b702; text-decoration-color: #d4b702\">│</span>\n",
       "<span style=\"color: #d4b702; text-decoration-color: #d4b702\">│</span> <span style=\"font-weight: bold\">What is the capital of India?</span>                                                                                   <span style=\"color: #d4b702; text-decoration-color: #d4b702\">│</span>\n",
       "<span style=\"color: #d4b702; text-decoration-color: #d4b702\">│</span>                                                                                                                 <span style=\"color: #d4b702; text-decoration-color: #d4b702\">│</span>\n",
       "<span style=\"color: #d4b702; text-decoration-color: #d4b702\">╰─ LiteLLMModel - ollama_chat/qwen2.5:7b ─────────────────────────────────────────────────────────────────────────╯</span>\n",
       "</pre>\n"
      ],
      "text/plain": [
       "\u001b[38;2;212;183;2m╭─\u001b[0m\u001b[38;2;212;183;2m───────────────────────────────────────────────────\u001b[0m\u001b[38;2;212;183;2m \u001b[0m\u001b[1;38;2;212;183;2mNew run\u001b[0m\u001b[38;2;212;183;2m \u001b[0m\u001b[38;2;212;183;2m───────────────────────────────────────────────────\u001b[0m\u001b[38;2;212;183;2m─╮\u001b[0m\n",
       "\u001b[38;2;212;183;2m│\u001b[0m                                                                                                                 \u001b[38;2;212;183;2m│\u001b[0m\n",
       "\u001b[38;2;212;183;2m│\u001b[0m \u001b[1mWhat is the capital of India?\u001b[0m                                                                                   \u001b[38;2;212;183;2m│\u001b[0m\n",
       "\u001b[38;2;212;183;2m│\u001b[0m                                                                                                                 \u001b[38;2;212;183;2m│\u001b[0m\n",
       "\u001b[38;2;212;183;2m╰─\u001b[0m\u001b[38;2;212;183;2m LiteLLMModel - ollama_chat/qwen2.5:7b \u001b[0m\u001b[38;2;212;183;2m────────────────────────────────────────────────────────────────────────\u001b[0m\u001b[38;2;212;183;2m─╯\u001b[0m\n"
      ]
     },
     "metadata": {},
     "output_type": "display_data"
    },
    {
     "data": {
      "text/html": [
       "<pre style=\"white-space:pre;overflow-x:auto;line-height:normal;font-family:Menlo,'DejaVu Sans Mono',consolas,'Courier New',monospace\"><span style=\"color: #d4b702; text-decoration-color: #d4b702\">━━━━━━━━━━━━━━━━━━━━━━━━━━━━━━━━━━━━━━━━━━━━━━━━━━━━━ </span><span style=\"font-weight: bold\">Step </span><span style=\"color: #008080; text-decoration-color: #008080; font-weight: bold\">1</span><span style=\"color: #d4b702; text-decoration-color: #d4b702\"> ━━━━━━━━━━━━━━━━━━━━━━━━━━━━━━━━━━━━━━━━━━━━━━━━━━━━━━</span>\n",
       "</pre>\n"
      ],
      "text/plain": [
       "\u001b[38;2;212;183;2m━━━━━━━━━━━━━━━━━━━━━━━━━━━━━━━━━━━━━━━━━━━━━━━━━━━━━ \u001b[0m\u001b[1mStep \u001b[0m\u001b[1;36m1\u001b[0m\u001b[38;2;212;183;2m ━━━━━━━━━━━━━━━━━━━━━━━━━━━━━━━━━━━━━━━━━━━━━━━━━━━━━━\u001b[0m\n"
      ]
     },
     "metadata": {},
     "output_type": "display_data"
    },
    {
     "data": {
      "text/html": [
       "<pre style=\"white-space:pre;overflow-x:auto;line-height:normal;font-family:Menlo,'DejaVu Sans Mono',consolas,'Courier New',monospace\"> ─ <span style=\"font-weight: bold\">Executing parsed code:</span> ──────────────────────────────────────────────────────────────────────────────────────── \n",
       "  <span style=\"color: #f8f8f2; text-decoration-color: #f8f8f2; background-color: #272822\">result </span><span style=\"color: #ff4689; text-decoration-color: #ff4689; background-color: #272822\">=</span><span style=\"color: #f8f8f2; text-decoration-color: #f8f8f2; background-color: #272822\"> web_search(query</span><span style=\"color: #ff4689; text-decoration-color: #ff4689; background-color: #272822\">=</span><span style=\"color: #e6db74; text-decoration-color: #e6db74; background-color: #272822\">\"capital of India\"</span><span style=\"color: #f8f8f2; text-decoration-color: #f8f8f2; background-color: #272822\">)</span><span style=\"background-color: #272822\">                                                                  </span>  \n",
       "  <span style=\"color: #f8f8f2; text-decoration-color: #f8f8f2; background-color: #272822\">print(result)</span><span style=\"background-color: #272822\">                                                                                                  </span>  \n",
       " ───────────────────────────────────────────────────────────────────────────────────────────────────────────────── \n",
       "</pre>\n"
      ],
      "text/plain": [
       " ─ \u001b[1mExecuting parsed code:\u001b[0m ──────────────────────────────────────────────────────────────────────────────────────── \n",
       "  \u001b[38;2;248;248;242;48;2;39;40;34mresult\u001b[0m\u001b[38;2;248;248;242;48;2;39;40;34m \u001b[0m\u001b[38;2;255;70;137;48;2;39;40;34m=\u001b[0m\u001b[38;2;248;248;242;48;2;39;40;34m \u001b[0m\u001b[38;2;248;248;242;48;2;39;40;34mweb_search\u001b[0m\u001b[38;2;248;248;242;48;2;39;40;34m(\u001b[0m\u001b[38;2;248;248;242;48;2;39;40;34mquery\u001b[0m\u001b[38;2;255;70;137;48;2;39;40;34m=\u001b[0m\u001b[38;2;230;219;116;48;2;39;40;34m\"\u001b[0m\u001b[38;2;230;219;116;48;2;39;40;34mcapital of India\u001b[0m\u001b[38;2;230;219;116;48;2;39;40;34m\"\u001b[0m\u001b[38;2;248;248;242;48;2;39;40;34m)\u001b[0m\u001b[48;2;39;40;34m                                                                  \u001b[0m  \n",
       "  \u001b[38;2;248;248;242;48;2;39;40;34mprint\u001b[0m\u001b[38;2;248;248;242;48;2;39;40;34m(\u001b[0m\u001b[38;2;248;248;242;48;2;39;40;34mresult\u001b[0m\u001b[38;2;248;248;242;48;2;39;40;34m)\u001b[0m\u001b[48;2;39;40;34m                                                                                                  \u001b[0m  \n",
       " ───────────────────────────────────────────────────────────────────────────────────────────────────────────────── \n"
      ]
     },
     "metadata": {},
     "output_type": "display_data"
    },
    {
     "data": {
      "text/html": [
       "<pre style=\"white-space:pre;overflow-x:auto;line-height:normal;font-family:Menlo,'DejaVu Sans Mono',consolas,'Courier New',monospace\"><span style=\"font-weight: bold\">Execution logs:</span>\n",
       "## Search Results\n",
       "\n",
       "[New Delhi - Wikipedia](https://en.wikipedia.org/wiki/New_Delhi)\n",
       "New Delhi (/ ˈ nj uː ˈ d ɛ. l i / ⓘ; [6] Hindi: Naī Dillī , pronounced [ˈnəiː ˈdɪlːiː]) is the capital of India and\n",
       "a part of the National Capital Territory of Delhi (NCT). New Delhi is the seat of all three branches of the \n",
       "Government of India, hosting the Rashtrapati Bhavan, Sansad Bhavan, and the Supreme Court.New Delhi is a \n",
       "municipality within the NCT, administered by the New ...\n",
       "\n",
       "[List of state and union territory capitals in India - \n",
       "Wikipedia](https://en.wikipedia.org/wiki/List_of_state_and_union_territory_capitals_in_India)\n",
       "India is a federal constitutional republic governed under a parliamentary system consisting of 28 states and 8 \n",
       "union territories. [1] All states, as well as the union territories of Jammu and Kashmir, Puducherry and the \n",
       "National Capital Territory of Delhi, have elected legislatures and governments, both patterned on the Westminster \n",
       "model.The remaining five union territories are directly ruled ...\n",
       "\n",
       "[New Delhi | History, Population, Map, &amp; Facts | Britannica](https://www.britannica.com/place/New-Delhi)\n",
       "New Delhi, national capital of India. It is situated in the north-central part of the country on the west bank of \n",
       "the Yamuna River, adjacent to and just south of Delhi city (Old Delhi) and within the Delhi national capital \n",
       "territory. Learn more about New Delhi in this article.\n",
       "\n",
       "[States and Capitals of India, 28 States and 8 UTs in India (Updated in \n",
       "...](https://www.careerpower.in/states-and-capitals-of-india.html)\n",
       "States and Capitals of India. India is the 7th largest country in the world and also the 2nd most populous. India \n",
       "is a diverse and culturally rich Nation that comprises 28 states and 8 Union territories, each with its own unique \n",
       "identity, history, and administrative center. India lies in the southern Asia.\n",
       "\n",
       "[Delhi | History, Population, Map, &amp; Facts | Britannica](https://www.britannica.com/place/Delhi)\n",
       "Delhi is a city and national capital territory in north-central India. The city of Delhi actually consists of two \n",
       "components: Old Delhi, in the north, the historic city; and New Delhi, in the south, since 1947 the capital of \n",
       "India, built in the first part of the 20th century as the capital of British India.\n",
       "\n",
       "[List of capitals of India - Wikipedia](https://en.wikipedia.org/wiki/List_of_capitals_of_India)\n",
       "In 1858, Allahabad (now Prayagraj) became the capital of India for a day when it also served as the capital of \n",
       "North-Western Provinces. [3]During the British Raj, until 1911, Calcutta was the capital of India. [4]By the latter\n",
       "half of the 19th century, Shimla had become the summer capital. [5]King George V proclaimed the transfer of the \n",
       "capital from Calcutta to Delhi at the climax of the 1911 ...\n",
       "\n",
       "[What is the Capital of India? - WorldAtlas](https://www.worldatlas.com/articles/what-is-the-capital-of-india.html)\n",
       "Learn about the history, geography, and problems of New Delhi, the capital city of India. Find out why and how the \n",
       "capital was moved from Kolkata to New Delhi in 1911.\n",
       "\n",
       "[What is the Capital of India? - Mappr](https://www.mappr.co/capital-cities/india/)\n",
       "Learn about the history, geography, culture, and attractions of New Delhi, the capital of India. Find out how New \n",
       "Delhi became the capital in 1912, what is the difference between Delhi and New Delhi, and what is the climate and \n",
       "population of the city.\n",
       "\n",
       "[What is the capital of India? States and union territories \n",
       "explained.](https://www.usatoday.com/story/news/world/2023/05/24/what-is-the-capital-of-india/70195720007/)\n",
       "New Delhi is part of one of India's union territories, the National Capital Territory of Dehli. Old Delhi , now a \n",
       "historic city, is north of New Delhi in the same union territory.\n",
       "\n",
       "[What is the capital city of India? - \n",
       "GeeksforGeeks](https://www.geeksforgeeks.org/what-is-the-capital-city-of-india/)\n",
       "The capital city of India is New Delhi, situated in the northern part of the country. It was officially declared \n",
       "the capital of India in 1911 during British rule, replacing Kolkata. New Delhi serves as the political, cultural, \n",
       "and administrative center of India. The city is renowned for its rich history, diverse culture, and architectural \n",
       "...\n",
       "\n",
       "Out: None\n",
       "</pre>\n"
      ],
      "text/plain": [
       "\u001b[1mExecution logs:\u001b[0m\n",
       "## Search Results\n",
       "\n",
       "[New Delhi - Wikipedia](https://en.wikipedia.org/wiki/New_Delhi)\n",
       "New Delhi (/ ˈ nj uː ˈ d ɛ. l i / ⓘ; [6] Hindi: Naī Dillī , pronounced [ˈnəiː ˈdɪlːiː]) is the capital of India and\n",
       "a part of the National Capital Territory of Delhi (NCT). New Delhi is the seat of all three branches of the \n",
       "Government of India, hosting the Rashtrapati Bhavan, Sansad Bhavan, and the Supreme Court.New Delhi is a \n",
       "municipality within the NCT, administered by the New ...\n",
       "\n",
       "[List of state and union territory capitals in India - \n",
       "Wikipedia](https://en.wikipedia.org/wiki/List_of_state_and_union_territory_capitals_in_India)\n",
       "India is a federal constitutional republic governed under a parliamentary system consisting of 28 states and 8 \n",
       "union territories. [1] All states, as well as the union territories of Jammu and Kashmir, Puducherry and the \n",
       "National Capital Territory of Delhi, have elected legislatures and governments, both patterned on the Westminster \n",
       "model.The remaining five union territories are directly ruled ...\n",
       "\n",
       "[New Delhi | History, Population, Map, & Facts | Britannica](https://www.britannica.com/place/New-Delhi)\n",
       "New Delhi, national capital of India. It is situated in the north-central part of the country on the west bank of \n",
       "the Yamuna River, adjacent to and just south of Delhi city (Old Delhi) and within the Delhi national capital \n",
       "territory. Learn more about New Delhi in this article.\n",
       "\n",
       "[States and Capitals of India, 28 States and 8 UTs in India (Updated in \n",
       "...](https://www.careerpower.in/states-and-capitals-of-india.html)\n",
       "States and Capitals of India. India is the 7th largest country in the world and also the 2nd most populous. India \n",
       "is a diverse and culturally rich Nation that comprises 28 states and 8 Union territories, each with its own unique \n",
       "identity, history, and administrative center. India lies in the southern Asia.\n",
       "\n",
       "[Delhi | History, Population, Map, & Facts | Britannica](https://www.britannica.com/place/Delhi)\n",
       "Delhi is a city and national capital territory in north-central India. The city of Delhi actually consists of two \n",
       "components: Old Delhi, in the north, the historic city; and New Delhi, in the south, since 1947 the capital of \n",
       "India, built in the first part of the 20th century as the capital of British India.\n",
       "\n",
       "[List of capitals of India - Wikipedia](https://en.wikipedia.org/wiki/List_of_capitals_of_India)\n",
       "In 1858, Allahabad (now Prayagraj) became the capital of India for a day when it also served as the capital of \n",
       "North-Western Provinces. [3]During the British Raj, until 1911, Calcutta was the capital of India. [4]By the latter\n",
       "half of the 19th century, Shimla had become the summer capital. [5]King George V proclaimed the transfer of the \n",
       "capital from Calcutta to Delhi at the climax of the 1911 ...\n",
       "\n",
       "[What is the Capital of India? - WorldAtlas](https://www.worldatlas.com/articles/what-is-the-capital-of-india.html)\n",
       "Learn about the history, geography, and problems of New Delhi, the capital city of India. Find out why and how the \n",
       "capital was moved from Kolkata to New Delhi in 1911.\n",
       "\n",
       "[What is the Capital of India? - Mappr](https://www.mappr.co/capital-cities/india/)\n",
       "Learn about the history, geography, culture, and attractions of New Delhi, the capital of India. Find out how New \n",
       "Delhi became the capital in 1912, what is the difference between Delhi and New Delhi, and what is the climate and \n",
       "population of the city.\n",
       "\n",
       "[What is the capital of India? States and union territories \n",
       "explained.](https://www.usatoday.com/story/news/world/2023/05/24/what-is-the-capital-of-india/70195720007/)\n",
       "New Delhi is part of one of India's union territories, the National Capital Territory of Dehli. Old Delhi , now a \n",
       "historic city, is north of New Delhi in the same union territory.\n",
       "\n",
       "[What is the capital city of India? - \n",
       "GeeksforGeeks](https://www.geeksforgeeks.org/what-is-the-capital-city-of-india/)\n",
       "The capital city of India is New Delhi, situated in the northern part of the country. It was officially declared \n",
       "the capital of India in 1911 during British rule, replacing Kolkata. New Delhi serves as the political, cultural, \n",
       "and administrative center of India. The city is renowned for its rich history, diverse culture, and architectural \n",
       "...\n",
       "\n",
       "Out: None\n"
      ]
     },
     "metadata": {},
     "output_type": "display_data"
    },
    {
     "data": {
      "text/html": [
       "<pre style=\"white-space:pre;overflow-x:auto;line-height:normal;font-family:Menlo,'DejaVu Sans Mono',consolas,'Courier New',monospace\"><span style=\"color: #7f7f7f; text-decoration-color: #7f7f7f\">[Step 1: Duration 138.41 seconds| Input tokens: 2,141 | Output tokens: 40]</span>\n",
       "</pre>\n"
      ],
      "text/plain": [
       "\u001b[2m[Step 1: Duration 138.41 seconds| Input tokens: 2,141 | Output tokens: 40]\u001b[0m\n"
      ]
     },
     "metadata": {},
     "output_type": "display_data"
    },
    {
     "data": {
      "text/html": [
       "<pre style=\"white-space:pre;overflow-x:auto;line-height:normal;font-family:Menlo,'DejaVu Sans Mono',consolas,'Courier New',monospace\"><span style=\"color: #d4b702; text-decoration-color: #d4b702\">━━━━━━━━━━━━━━━━━━━━━━━━━━━━━━━━━━━━━━━━━━━━━━━━━━━━━ </span><span style=\"font-weight: bold\">Step </span><span style=\"color: #008080; text-decoration-color: #008080; font-weight: bold\">2</span><span style=\"color: #d4b702; text-decoration-color: #d4b702\"> ━━━━━━━━━━━━━━━━━━━━━━━━━━━━━━━━━━━━━━━━━━━━━━━━━━━━━━</span>\n",
       "</pre>\n"
      ],
      "text/plain": [
       "\u001b[38;2;212;183;2m━━━━━━━━━━━━━━━━━━━━━━━━━━━━━━━━━━━━━━━━━━━━━━━━━━━━━ \u001b[0m\u001b[1mStep \u001b[0m\u001b[1;36m2\u001b[0m\u001b[38;2;212;183;2m ━━━━━━━━━━━━━━━━━━━━━━━━━━━━━━━━━━━━━━━━━━━━━━━━━━━━━━\u001b[0m\n"
      ]
     },
     "metadata": {},
     "output_type": "display_data"
    }
   ],
   "source": [
    "agent.run(\"What is the capital of India?\")"
   ]
  },
  {
   "cell_type": "code",
   "execution_count": null,
   "id": "b952a782",
   "metadata": {},
   "outputs": [],
   "source": []
  }
 ],
 "metadata": {
  "kernelspec": {
   "display_name": "venv",
   "language": "python",
   "name": "python3"
  },
  "language_info": {
   "codemirror_mode": {
    "name": "ipython",
    "version": 3
   },
   "file_extension": ".py",
   "mimetype": "text/x-python",
   "name": "python",
   "nbconvert_exporter": "python",
   "pygments_lexer": "ipython3",
   "version": "3.10.0"
  }
 },
 "nbformat": 4,
 "nbformat_minor": 5
}
