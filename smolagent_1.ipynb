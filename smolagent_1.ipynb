{
 "cells": [
  {
   "cell_type": "markdown",
   "id": "01828996",
   "metadata": {},
   "source": [
    "## Basics\n"
   ]
  },
  {
   "cell_type": "code",
   "execution_count": 1,
   "id": "1717ec3c",
   "metadata": {},
   "outputs": [],
   "source": [
    "from smolagents import CodeAgent, LiteLLMModel, DuckDuckGoSearchTool"
   ]
  },
  {
   "cell_type": "code",
   "execution_count": 2,
   "id": "52c8e6d1",
   "metadata": {},
   "outputs": [],
   "source": [
    "# model_ollama = LiteLLMModel(\n",
    "#     model_id=\"ollama_chat/qwen2.5:7b\",  # Or try other Ollama-supported models\n",
    "#     api_base=\"http://127.0.0.1:11434\",  # Default Ollama local server\n",
    "#     api_key=\"1122\",\n",
    "#     num_ctx=8192,\n",
    "# )"
   ]
  },
  {
   "cell_type": "code",
   "execution_count": 3,
   "id": "b3eaa350",
   "metadata": {},
   "outputs": [],
   "source": [
    "model_ollama = LiteLLMModel(\n",
    "    model_id = \"ollama_chat/qwen2.5:7b\",\n",
    "    api_base=\"http://127.0.0.1:11434\",\n",
    "    api_key=\"1122\",\n",
    "    num_ctx = 8192\n",
    ")"
   ]
  },
  {
   "cell_type": "code",
   "execution_count": 4,
   "id": "ff45f7c3",
   "metadata": {},
   "outputs": [],
   "source": [
    "agent = CodeAgent(\n",
    "    model = model_ollama,\n",
    "    tools = [DuckDuckGoSearchTool()]\n",
    ")"
   ]
  },
  {
   "cell_type": "code",
   "execution_count": 5,
   "id": "d1284cfb",
   "metadata": {},
   "outputs": [
    {
     "data": {
      "text/html": [
       "<pre style=\"white-space:pre;overflow-x:auto;line-height:normal;font-family:Menlo,'DejaVu Sans Mono',consolas,'Courier New',monospace\"><span style=\"color: #d4b702; text-decoration-color: #d4b702\">╭──────────────────────────────────────────────────── </span><span style=\"color: #d4b702; text-decoration-color: #d4b702; font-weight: bold\">New run</span><span style=\"color: #d4b702; text-decoration-color: #d4b702\"> ────────────────────────────────────────────────────╮</span>\n",
       "<span style=\"color: #d4b702; text-decoration-color: #d4b702\">│</span>                                                                                                                 <span style=\"color: #d4b702; text-decoration-color: #d4b702\">│</span>\n",
       "<span style=\"color: #d4b702; text-decoration-color: #d4b702\">│</span> <span style=\"font-weight: bold\">Search for the best music recommendations for a party in Telengana</span>                                              <span style=\"color: #d4b702; text-decoration-color: #d4b702\">│</span>\n",
       "<span style=\"color: #d4b702; text-decoration-color: #d4b702\">│</span>                                                                                                                 <span style=\"color: #d4b702; text-decoration-color: #d4b702\">│</span>\n",
       "<span style=\"color: #d4b702; text-decoration-color: #d4b702\">╰─ LiteLLMModel - ollama_chat/qwen2.5:7b ─────────────────────────────────────────────────────────────────────────╯</span>\n",
       "</pre>\n"
      ],
      "text/plain": [
       "\u001b[38;2;212;183;2m╭─\u001b[0m\u001b[38;2;212;183;2m───────────────────────────────────────────────────\u001b[0m\u001b[38;2;212;183;2m \u001b[0m\u001b[1;38;2;212;183;2mNew run\u001b[0m\u001b[38;2;212;183;2m \u001b[0m\u001b[38;2;212;183;2m───────────────────────────────────────────────────\u001b[0m\u001b[38;2;212;183;2m─╮\u001b[0m\n",
       "\u001b[38;2;212;183;2m│\u001b[0m                                                                                                                 \u001b[38;2;212;183;2m│\u001b[0m\n",
       "\u001b[38;2;212;183;2m│\u001b[0m \u001b[1mSearch for the best music recommendations for a party in Telengana\u001b[0m                                              \u001b[38;2;212;183;2m│\u001b[0m\n",
       "\u001b[38;2;212;183;2m│\u001b[0m                                                                                                                 \u001b[38;2;212;183;2m│\u001b[0m\n",
       "\u001b[38;2;212;183;2m╰─\u001b[0m\u001b[38;2;212;183;2m LiteLLMModel - ollama_chat/qwen2.5:7b \u001b[0m\u001b[38;2;212;183;2m────────────────────────────────────────────────────────────────────────\u001b[0m\u001b[38;2;212;183;2m─╯\u001b[0m\n"
      ]
     },
     "metadata": {},
     "output_type": "display_data"
    },
    {
     "data": {
      "text/html": [
       "<pre style=\"white-space:pre;overflow-x:auto;line-height:normal;font-family:Menlo,'DejaVu Sans Mono',consolas,'Courier New',monospace\"><span style=\"color: #d4b702; text-decoration-color: #d4b702\">━━━━━━━━━━━━━━━━━━━━━━━━━━━━━━━━━━━━━━━━━━━━━━━━━━━━━ </span><span style=\"font-weight: bold\">Step </span><span style=\"color: #008080; text-decoration-color: #008080; font-weight: bold\">1</span><span style=\"color: #d4b702; text-decoration-color: #d4b702\"> ━━━━━━━━━━━━━━━━━━━━━━━━━━━━━━━━━━━━━━━━━━━━━━━━━━━━━━</span>\n",
       "</pre>\n"
      ],
      "text/plain": [
       "\u001b[38;2;212;183;2m━━━━━━━━━━━━━━━━━━━━━━━━━━━━━━━━━━━━━━━━━━━━━━━━━━━━━ \u001b[0m\u001b[1mStep \u001b[0m\u001b[1;36m1\u001b[0m\u001b[38;2;212;183;2m ━━━━━━━━━━━━━━━━━━━━━━━━━━━━━━━━━━━━━━━━━━━━━━━━━━━━━━\u001b[0m\n"
      ]
     },
     "metadata": {},
     "output_type": "display_data"
    },
    {
     "data": {
      "text/html": [
       "<pre style=\"white-space:pre;overflow-x:auto;line-height:normal;font-family:Menlo,'DejaVu Sans Mono',consolas,'Courier New',monospace\"> ─ <span style=\"font-weight: bold\">Executing parsed code:</span> ──────────────────────────────────────────────────────────────────────────────────────── \n",
       "  <span style=\"color: #f8f8f2; text-decoration-color: #f8f8f2; background-color: #272822\">query </span><span style=\"color: #ff4689; text-decoration-color: #ff4689; background-color: #272822\">=</span><span style=\"color: #f8f8f2; text-decoration-color: #f8f8f2; background-color: #272822\"> </span><span style=\"color: #e6db74; text-decoration-color: #e6db74; background-color: #272822\">\"music recommendations for parties in Telangana\"</span><span style=\"background-color: #272822\">                                                       </span>  \n",
       "  <span style=\"color: #f8f8f2; text-decoration-color: #f8f8f2; background-color: #272822\">results </span><span style=\"color: #ff4689; text-decoration-color: #ff4689; background-color: #272822\">=</span><span style=\"color: #f8f8f2; text-decoration-color: #f8f8f2; background-color: #272822\"> web_search(query</span><span style=\"color: #ff4689; text-decoration-color: #ff4689; background-color: #272822\">=</span><span style=\"color: #f8f8f2; text-decoration-color: #f8f8f2; background-color: #272822\">query)</span><span style=\"background-color: #272822\">                                                                              </span>  \n",
       "  <span style=\"color: #f8f8f2; text-decoration-color: #f8f8f2; background-color: #272822\">print(results)  </span><span style=\"color: #959077; text-decoration-color: #959077; background-color: #272822\"># Displaying the search results to observe them.</span><span style=\"background-color: #272822\">                                               </span>  \n",
       " ───────────────────────────────────────────────────────────────────────────────────────────────────────────────── \n",
       "</pre>\n"
      ],
      "text/plain": [
       " ─ \u001b[1mExecuting parsed code:\u001b[0m ──────────────────────────────────────────────────────────────────────────────────────── \n",
       "  \u001b[38;2;248;248;242;48;2;39;40;34mquery\u001b[0m\u001b[38;2;248;248;242;48;2;39;40;34m \u001b[0m\u001b[38;2;255;70;137;48;2;39;40;34m=\u001b[0m\u001b[38;2;248;248;242;48;2;39;40;34m \u001b[0m\u001b[38;2;230;219;116;48;2;39;40;34m\"\u001b[0m\u001b[38;2;230;219;116;48;2;39;40;34mmusic recommendations for parties in Telangana\u001b[0m\u001b[38;2;230;219;116;48;2;39;40;34m\"\u001b[0m\u001b[48;2;39;40;34m                                                       \u001b[0m  \n",
       "  \u001b[38;2;248;248;242;48;2;39;40;34mresults\u001b[0m\u001b[38;2;248;248;242;48;2;39;40;34m \u001b[0m\u001b[38;2;255;70;137;48;2;39;40;34m=\u001b[0m\u001b[38;2;248;248;242;48;2;39;40;34m \u001b[0m\u001b[38;2;248;248;242;48;2;39;40;34mweb_search\u001b[0m\u001b[38;2;248;248;242;48;2;39;40;34m(\u001b[0m\u001b[38;2;248;248;242;48;2;39;40;34mquery\u001b[0m\u001b[38;2;255;70;137;48;2;39;40;34m=\u001b[0m\u001b[38;2;248;248;242;48;2;39;40;34mquery\u001b[0m\u001b[38;2;248;248;242;48;2;39;40;34m)\u001b[0m\u001b[48;2;39;40;34m                                                                              \u001b[0m  \n",
       "  \u001b[38;2;248;248;242;48;2;39;40;34mprint\u001b[0m\u001b[38;2;248;248;242;48;2;39;40;34m(\u001b[0m\u001b[38;2;248;248;242;48;2;39;40;34mresults\u001b[0m\u001b[38;2;248;248;242;48;2;39;40;34m)\u001b[0m\u001b[38;2;248;248;242;48;2;39;40;34m  \u001b[0m\u001b[38;2;149;144;119;48;2;39;40;34m# Displaying the search results to observe them.\u001b[0m\u001b[48;2;39;40;34m                                               \u001b[0m  \n",
       " ───────────────────────────────────────────────────────────────────────────────────────────────────────────────── \n"
      ]
     },
     "metadata": {},
     "output_type": "display_data"
    },
    {
     "data": {
      "text/html": [
       "<pre style=\"white-space:pre;overflow-x:auto;line-height:normal;font-family:Menlo,'DejaVu Sans Mono',consolas,'Courier New',monospace\"><span style=\"font-weight: bold\">Execution logs:</span>\n",
       "## Search Results\n",
       "\n",
       "[13 Live Music Venues In Hyderabad At Bars - LBB](https://lbb.in/hyderabad/best-live-performances-hyderabad/)\n",
       "EXT is an alternate performance and event space for music, culture, art, pop-ups and more, housed inside the famous\n",
       "Moonshine Project. Much like the name suggests, the space hosts artists from various genres, like underground, \n",
       "house, techno, soul, funk, and disco to acoustic and contemporary Indian rock bands aside from Telugu music.\n",
       "\n",
       "[Top 10 places to enjoy Live Music in Hyderabad - The Siasat \n",
       "Daily](https://www.siasat.com/top-10-places-to-enjoy-live-music-in-hyderabad-2454637/)\n",
       "It has three branches across the city that feature some of the finest live music from Telangana's top bands to \n",
       "play. View this post on Instagram. A post shared by Ruffle Hiphop (@ruffle_hiphop) ... This spot is ideal for \n",
       "people who love late-night parties. Ladies' nights is another highlight of this place. View this post on Instagram.\n",
       "A ...\n",
       "\n",
       "[The 15 Best Places with Live Music in Hyderabad - \n",
       "Foursquare](https://foursquare.com/top-places/hyderabad/best-places-live-music)\n",
       "Great open ambience with live music, tasty food and alcohol. ... B1, Aruna Arcade, Road 1, Jubilee Hills, \n",
       "Hyderabad, Telangana. Restaurant · Jubilee Hills · 4 tips and reviews. shy s: Great ambience, live music! don't ...\n",
       "new italian restaurant in town. ordered pasta supremo based on the owner's recommendation and it was delicious. \n",
       "Rushita S ...\n",
       "\n",
       "[Nightlife In Hyderabad 2025: Party At These 21 Best Clubs And \n",
       "Bars](https://traveltriangle.com/blog/nightlife-in-hyderabad/)\n",
       "Air Live is located in the party hub of Hyderabad and is amongst the most popular hangout spots in the city. They \n",
       "do host live music performances and their interesting and comfortable setup offers one of the best food in the \n",
       "city. Their bar is comparatively reasonably priced and is amongst the best party places for youngsters. Open till: \n",
       "12:00 am\n",
       "\n",
       "[Best Upcoming Music Events &amp; Shows in Hyderabad - Insider.in](https://insider.in/music-in-hyderabad)\n",
       "Tickets to music events in Hyderabad. Rock, metal, folk, jazz, fusion, Bollywood, folk, EDM, dance &amp; more. \n",
       "International &amp; Indian artists at the best venues in town. ... Parties (1) Theatre (1) Water Park (1) sort: Music. \n",
       "Rockstar DSP LIVE in Vizag. April 19 | 6:30 PM Onwards. Vishwanadh Sports Club, Visakhapatnam ₹499 onwards. Buy \n",
       "now. Music.\n",
       "\n",
       "[30 Clubs in Hyderabad: 2025 Updated - Thrillophilia](https://www.thrillophilia.com/clubs-in-hyderabad)\n",
       "The music of Block 22 will set your mood to have a fun evening out with your party group. You would just be amazed \n",
       "to be in this place on the weekends when the club is jam-packed with guests. Location: 5, Hitex Exhibition Centre \n",
       "5/6 to, 12, Hitech City Rd, Madhapur, Hyderabad, Telangana 500084 Approx. Cost for Two: INR 1900\n",
       "\n",
       "[Best Top Rated Live music venues in Hyderabad, Telangana](https://yappe.in/telangana/hyderabad/live-music-venue)\n",
       "Best Top Rated Live music venues in Hyderabad, Telangana. 1. The Moonshine Project $ 6241 reviews. 385, Rd Number \n",
       "82, Jubilee Hills, Hyderabad, Telangana 500033, India. 2. Tabula Rasa (Jubilee hills) $$ 3499 reviews. 624-B, Rd \n",
       "Number 35, Guttala_Begumpet, Kavuri Hills, Jubilee Hills, Hyderabad, Telangana 500033, India. 3. La La Land - Club \n",
       "...\n",
       "\n",
       "[Hyderabad weekend guide: Music, art, games, and more \n",
       "await!](https://telanganatoday.com/hyderabad-weekend-guide-music-art-games-and-more-await)\n",
       "Besharam party: Love grooving to desi beats? At 'Besharam Ft. Mukt B2B Interrupter', experience an electrifying \n",
       "fusion of South Asian sounds and global beats with Mukt, the DJ Interrupter from Mumbai keeping the energy high, \n",
       "bringing his twist with Indian trap and Bollywood remixes. When: September 7, 7 pm onwards Where: EXT, The \n",
       "Moonshine\n",
       "\n",
       "[THE 10 BEST Telangana Pubs &amp; Clubs (2025) - with Reviews - \n",
       "Tripadvisor](https://www.tripadvisor.in/Attractions-g7058854-Activities-c20-t99-Telangana.html)\n",
       "Telangana Hotels Things to Do Restaurants Flights Holiday Homes Forums. Asia. India. Telangana. ... Perfect setup \n",
       "awesome music and super delicious starters to munch on. One of the best nightclub... 6. Marco Polo. 4.8 ... \n",
       "Organise night parties, Quality of liquor and the food they serve, Music, Ambience, Their opening and closing hours\n",
       "and\n",
       "\n",
       "[9 Telangana Songs That Set You Grooving At BONALU Celebrations Every \n",
       "Y](https://www.chaibisket.com/blogs/blog/telangana-songs-for-bonalu-celebrations)\n",
       "9 Telangana Songs That Set You Grooving At BONALU Celebrations Every Year! ... birthdays, weddings or just a bunch \n",
       "of friends partying, you would love to have this music playing while you Theen-Maar your heart out! 1. LAI LA LA \n",
       "YELLAMMA. 2. YELLU YELLAMMA. 3. PEDDA PULI . 4. GALLU GALLU. 5. Manduloda Ori Mayaloda. 6. Nee Aaru Gurralu 7. \n",
       "Gunna ...\n",
       "\n",
       "Out: None\n",
       "</pre>\n"
      ],
      "text/plain": [
       "\u001b[1mExecution logs:\u001b[0m\n",
       "## Search Results\n",
       "\n",
       "[13 Live Music Venues In Hyderabad At Bars - LBB](https://lbb.in/hyderabad/best-live-performances-hyderabad/)\n",
       "EXT is an alternate performance and event space for music, culture, art, pop-ups and more, housed inside the famous\n",
       "Moonshine Project. Much like the name suggests, the space hosts artists from various genres, like underground, \n",
       "house, techno, soul, funk, and disco to acoustic and contemporary Indian rock bands aside from Telugu music.\n",
       "\n",
       "[Top 10 places to enjoy Live Music in Hyderabad - The Siasat \n",
       "Daily](https://www.siasat.com/top-10-places-to-enjoy-live-music-in-hyderabad-2454637/)\n",
       "It has three branches across the city that feature some of the finest live music from Telangana's top bands to \n",
       "play. View this post on Instagram. A post shared by Ruffle Hiphop (@ruffle_hiphop) ... This spot is ideal for \n",
       "people who love late-night parties. Ladies' nights is another highlight of this place. View this post on Instagram.\n",
       "A ...\n",
       "\n",
       "[The 15 Best Places with Live Music in Hyderabad - \n",
       "Foursquare](https://foursquare.com/top-places/hyderabad/best-places-live-music)\n",
       "Great open ambience with live music, tasty food and alcohol. ... B1, Aruna Arcade, Road 1, Jubilee Hills, \n",
       "Hyderabad, Telangana. Restaurant · Jubilee Hills · 4 tips and reviews. shy s: Great ambience, live music! don't ...\n",
       "new italian restaurant in town. ordered pasta supremo based on the owner's recommendation and it was delicious. \n",
       "Rushita S ...\n",
       "\n",
       "[Nightlife In Hyderabad 2025: Party At These 21 Best Clubs And \n",
       "Bars](https://traveltriangle.com/blog/nightlife-in-hyderabad/)\n",
       "Air Live is located in the party hub of Hyderabad and is amongst the most popular hangout spots in the city. They \n",
       "do host live music performances and their interesting and comfortable setup offers one of the best food in the \n",
       "city. Their bar is comparatively reasonably priced and is amongst the best party places for youngsters. Open till: \n",
       "12:00 am\n",
       "\n",
       "[Best Upcoming Music Events & Shows in Hyderabad - Insider.in](https://insider.in/music-in-hyderabad)\n",
       "Tickets to music events in Hyderabad. Rock, metal, folk, jazz, fusion, Bollywood, folk, EDM, dance & more. \n",
       "International & Indian artists at the best venues in town. ... Parties (1) Theatre (1) Water Park (1) sort: Music. \n",
       "Rockstar DSP LIVE in Vizag. April 19 | 6:30 PM Onwards. Vishwanadh Sports Club, Visakhapatnam ₹499 onwards. Buy \n",
       "now. Music.\n",
       "\n",
       "[30 Clubs in Hyderabad: 2025 Updated - Thrillophilia](https://www.thrillophilia.com/clubs-in-hyderabad)\n",
       "The music of Block 22 will set your mood to have a fun evening out with your party group. You would just be amazed \n",
       "to be in this place on the weekends when the club is jam-packed with guests. Location: 5, Hitex Exhibition Centre \n",
       "5/6 to, 12, Hitech City Rd, Madhapur, Hyderabad, Telangana 500084 Approx. Cost for Two: INR 1900\n",
       "\n",
       "[Best Top Rated Live music venues in Hyderabad, Telangana](https://yappe.in/telangana/hyderabad/live-music-venue)\n",
       "Best Top Rated Live music venues in Hyderabad, Telangana. 1. The Moonshine Project $ 6241 reviews. 385, Rd Number \n",
       "82, Jubilee Hills, Hyderabad, Telangana 500033, India. 2. Tabula Rasa (Jubilee hills) $$ 3499 reviews. 624-B, Rd \n",
       "Number 35, Guttala_Begumpet, Kavuri Hills, Jubilee Hills, Hyderabad, Telangana 500033, India. 3. La La Land - Club \n",
       "...\n",
       "\n",
       "[Hyderabad weekend guide: Music, art, games, and more \n",
       "await!](https://telanganatoday.com/hyderabad-weekend-guide-music-art-games-and-more-await)\n",
       "Besharam party: Love grooving to desi beats? At 'Besharam Ft. Mukt B2B Interrupter', experience an electrifying \n",
       "fusion of South Asian sounds and global beats with Mukt, the DJ Interrupter from Mumbai keeping the energy high, \n",
       "bringing his twist with Indian trap and Bollywood remixes. When: September 7, 7 pm onwards Where: EXT, The \n",
       "Moonshine\n",
       "\n",
       "[THE 10 BEST Telangana Pubs & Clubs (2025) - with Reviews - \n",
       "Tripadvisor](https://www.tripadvisor.in/Attractions-g7058854-Activities-c20-t99-Telangana.html)\n",
       "Telangana Hotels Things to Do Restaurants Flights Holiday Homes Forums. Asia. India. Telangana. ... Perfect setup \n",
       "awesome music and super delicious starters to munch on. One of the best nightclub... 6. Marco Polo. 4.8 ... \n",
       "Organise night parties, Quality of liquor and the food they serve, Music, Ambience, Their opening and closing hours\n",
       "and\n",
       "\n",
       "[9 Telangana Songs That Set You Grooving At BONALU Celebrations Every \n",
       "Y](https://www.chaibisket.com/blogs/blog/telangana-songs-for-bonalu-celebrations)\n",
       "9 Telangana Songs That Set You Grooving At BONALU Celebrations Every Year! ... birthdays, weddings or just a bunch \n",
       "of friends partying, you would love to have this music playing while you Theen-Maar your heart out! 1. LAI LA LA \n",
       "YELLAMMA. 2. YELLU YELLAMMA. 3. PEDDA PULI . 4. GALLU GALLU. 5. Manduloda Ori Mayaloda. 6. Nee Aaru Gurralu 7. \n",
       "Gunna ...\n",
       "\n",
       "Out: None\n"
      ]
     },
     "metadata": {},
     "output_type": "display_data"
    },
    {
     "data": {
      "text/html": [
       "<pre style=\"white-space:pre;overflow-x:auto;line-height:normal;font-family:Menlo,'DejaVu Sans Mono',consolas,'Courier New',monospace\"><span style=\"color: #7f7f7f; text-decoration-color: #7f7f7f\">[Step 1: Duration 128.04 seconds| Input tokens: 2,083 | Output tokens: 100]</span>\n",
       "</pre>\n"
      ],
      "text/plain": [
       "\u001b[2m[Step 1: Duration 128.04 seconds| Input tokens: 2,083 | Output tokens: 100]\u001b[0m\n"
      ]
     },
     "metadata": {},
     "output_type": "display_data"
    },
    {
     "data": {
      "text/html": [
       "<pre style=\"white-space:pre;overflow-x:auto;line-height:normal;font-family:Menlo,'DejaVu Sans Mono',consolas,'Courier New',monospace\"><span style=\"color: #d4b702; text-decoration-color: #d4b702\">━━━━━━━━━━━━━━━━━━━━━━━━━━━━━━━━━━━━━━━━━━━━━━━━━━━━━ </span><span style=\"font-weight: bold\">Step </span><span style=\"color: #008080; text-decoration-color: #008080; font-weight: bold\">2</span><span style=\"color: #d4b702; text-decoration-color: #d4b702\"> ━━━━━━━━━━━━━━━━━━━━━━━━━━━━━━━━━━━━━━━━━━━━━━━━━━━━━━</span>\n",
       "</pre>\n"
      ],
      "text/plain": [
       "\u001b[38;2;212;183;2m━━━━━━━━━━━━━━━━━━━━━━━━━━━━━━━━━━━━━━━━━━━━━━━━━━━━━ \u001b[0m\u001b[1mStep \u001b[0m\u001b[1;36m2\u001b[0m\u001b[38;2;212;183;2m ━━━━━━━━━━━━━━━━━━━━━━━━━━━━━━━━━━━━━━━━━━━━━━━━━━━━━━\u001b[0m\n"
      ]
     },
     "metadata": {},
     "output_type": "display_data"
    },
    {
     "data": {
      "text/html": [
       "<pre style=\"white-space:pre;overflow-x:auto;line-height:normal;font-family:Menlo,'DejaVu Sans Mono',consolas,'Courier New',monospace\"> ─ <span style=\"font-weight: bold\">Executing parsed code:</span> ──────────────────────────────────────────────────────────────────────────────────────── \n",
       "  <span style=\"color: #959077; text-decoration-color: #959077; background-color: #272822\"># Compile the top music recommendations based on the gathered information.</span><span style=\"background-color: #272822\">                                     </span>  \n",
       "  <span style=\"color: #f8f8f2; text-decoration-color: #f8f8f2; background-color: #272822\">music_recommendations </span><span style=\"color: #ff4689; text-decoration-color: #ff4689; background-color: #272822\">=</span><span style=\"color: #f8f8f2; text-decoration-color: #f8f8f2; background-color: #272822\"> [</span><span style=\"background-color: #272822\">                                                                                      </span>  \n",
       "  <span style=\"color: #f8f8f2; text-decoration-color: #f8f8f2; background-color: #272822\">    </span><span style=\"color: #e6db74; text-decoration-color: #e6db74; background-color: #272822\">\"EXT - An alternate performance and event space for various genres such as underground, house, techno, </span><span style=\"background-color: #272822\">    </span>  \n",
       "  <span style=\"color: #e6db74; text-decoration-color: #e6db74; background-color: #272822\">soul, funk, and disco, and contemporary Indian rock bands.\"</span><span style=\"color: #f8f8f2; text-decoration-color: #f8f8f2; background-color: #272822\">,</span><span style=\"background-color: #272822\">                                                   </span>  \n",
       "  <span style=\"color: #f8f8f2; text-decoration-color: #f8f8f2; background-color: #272822\">    </span><span style=\"color: #e6db74; text-decoration-color: #e6db74; background-color: #272822\">\"The Moonshine Project - Hosts live performances in a comfortable setup with great food and alcohol.\"</span><span style=\"color: #f8f8f2; text-decoration-color: #f8f8f2; background-color: #272822\">,</span><span style=\"background-color: #272822\">     </span>  \n",
       "  <span style=\"color: #f8f8f2; text-decoration-color: #f8f8f2; background-color: #272822\">    </span><span style=\"color: #e6db74; text-decoration-color: #e6db74; background-color: #272822\">\"Besharam Ft. Mukt B2B Interrupter - An electrifying fusion of South Asian sounds and global beats, </span><span style=\"background-color: #272822\">       </span>  \n",
       "  <span style=\"color: #e6db74; text-decoration-color: #e6db74; background-color: #272822\">featuring DJ Mukt from Mumbai.\"</span><span style=\"color: #f8f8f2; text-decoration-color: #f8f8f2; background-color: #272822\">,</span><span style=\"background-color: #272822\">                                                                               </span>  \n",
       "  <span style=\"color: #f8f8f2; text-decoration-color: #f8f8f2; background-color: #272822\">    </span><span style=\"color: #e6db74; text-decoration-color: #e6db74; background-color: #272822\">\"9 Telangana Songs for Bonalu Celebrations: LAI LA LA YELLAMMA, YELLU YELLAMMA, PEDDA PULI, GALLU GALLU, </span><span style=\"background-color: #272822\">  </span>  \n",
       "  <span style=\"color: #e6db74; text-decoration-color: #e6db74; background-color: #272822\">Manduloda Ori Mayaloda, Nee Aaru Gurralu, and Gunna.\"</span><span style=\"background-color: #272822\">                                                          </span>  \n",
       "  <span style=\"color: #f8f8f2; text-decoration-color: #f8f8f2; background-color: #272822\">]</span><span style=\"background-color: #272822\">                                                                                                              </span>  \n",
       "  <span style=\"background-color: #272822\">                                                                                                               </span>  \n",
       "  <span style=\"color: #959077; text-decoration-color: #959077; background-color: #272822\"># Use the final_answer tool to provide a final answer.</span><span style=\"background-color: #272822\">                                                         </span>  \n",
       "  <span style=\"color: #f8f8f2; text-decoration-color: #f8f8f2; background-color: #272822\">final_answer(music_recommendations)</span><span style=\"background-color: #272822\">                                                                            </span>  \n",
       " ───────────────────────────────────────────────────────────────────────────────────────────────────────────────── \n",
       "</pre>\n"
      ],
      "text/plain": [
       " ─ \u001b[1mExecuting parsed code:\u001b[0m ──────────────────────────────────────────────────────────────────────────────────────── \n",
       "  \u001b[38;2;149;144;119;48;2;39;40;34m# Compile the top music recommendations based on the gathered information.\u001b[0m\u001b[48;2;39;40;34m                                     \u001b[0m  \n",
       "  \u001b[38;2;248;248;242;48;2;39;40;34mmusic_recommendations\u001b[0m\u001b[38;2;248;248;242;48;2;39;40;34m \u001b[0m\u001b[38;2;255;70;137;48;2;39;40;34m=\u001b[0m\u001b[38;2;248;248;242;48;2;39;40;34m \u001b[0m\u001b[38;2;248;248;242;48;2;39;40;34m[\u001b[0m\u001b[48;2;39;40;34m                                                                                      \u001b[0m  \n",
       "  \u001b[38;2;248;248;242;48;2;39;40;34m    \u001b[0m\u001b[38;2;230;219;116;48;2;39;40;34m\"\u001b[0m\u001b[38;2;230;219;116;48;2;39;40;34mEXT - An alternate performance and event space for various genres such as underground, house, techno, \u001b[0m\u001b[48;2;39;40;34m    \u001b[0m  \n",
       "  \u001b[38;2;230;219;116;48;2;39;40;34msoul, funk, and disco, and contemporary Indian rock bands.\u001b[0m\u001b[38;2;230;219;116;48;2;39;40;34m\"\u001b[0m\u001b[38;2;248;248;242;48;2;39;40;34m,\u001b[0m\u001b[48;2;39;40;34m                                                   \u001b[0m  \n",
       "  \u001b[38;2;248;248;242;48;2;39;40;34m    \u001b[0m\u001b[38;2;230;219;116;48;2;39;40;34m\"\u001b[0m\u001b[38;2;230;219;116;48;2;39;40;34mThe Moonshine Project - Hosts live performances in a comfortable setup with great food and alcohol.\u001b[0m\u001b[38;2;230;219;116;48;2;39;40;34m\"\u001b[0m\u001b[38;2;248;248;242;48;2;39;40;34m,\u001b[0m\u001b[48;2;39;40;34m     \u001b[0m  \n",
       "  \u001b[38;2;248;248;242;48;2;39;40;34m    \u001b[0m\u001b[38;2;230;219;116;48;2;39;40;34m\"\u001b[0m\u001b[38;2;230;219;116;48;2;39;40;34mBesharam Ft. Mukt B2B Interrupter - An electrifying fusion of South Asian sounds and global beats, \u001b[0m\u001b[48;2;39;40;34m       \u001b[0m  \n",
       "  \u001b[38;2;230;219;116;48;2;39;40;34mfeaturing DJ Mukt from Mumbai.\u001b[0m\u001b[38;2;230;219;116;48;2;39;40;34m\"\u001b[0m\u001b[38;2;248;248;242;48;2;39;40;34m,\u001b[0m\u001b[48;2;39;40;34m                                                                               \u001b[0m  \n",
       "  \u001b[38;2;248;248;242;48;2;39;40;34m    \u001b[0m\u001b[38;2;230;219;116;48;2;39;40;34m\"\u001b[0m\u001b[38;2;230;219;116;48;2;39;40;34m9 Telangana Songs for Bonalu Celebrations: LAI LA LA YELLAMMA, YELLU YELLAMMA, PEDDA PULI, GALLU GALLU, \u001b[0m\u001b[48;2;39;40;34m  \u001b[0m  \n",
       "  \u001b[38;2;230;219;116;48;2;39;40;34mManduloda Ori Mayaloda, Nee Aaru Gurralu, and Gunna.\u001b[0m\u001b[38;2;230;219;116;48;2;39;40;34m\"\u001b[0m\u001b[48;2;39;40;34m                                                          \u001b[0m  \n",
       "  \u001b[38;2;248;248;242;48;2;39;40;34m]\u001b[0m\u001b[48;2;39;40;34m                                                                                                              \u001b[0m  \n",
       "  \u001b[48;2;39;40;34m                                                                                                               \u001b[0m  \n",
       "  \u001b[38;2;149;144;119;48;2;39;40;34m# Use the final_answer tool to provide a final answer.\u001b[0m\u001b[48;2;39;40;34m                                                         \u001b[0m  \n",
       "  \u001b[38;2;248;248;242;48;2;39;40;34mfinal_answer\u001b[0m\u001b[38;2;248;248;242;48;2;39;40;34m(\u001b[0m\u001b[38;2;248;248;242;48;2;39;40;34mmusic_recommendations\u001b[0m\u001b[38;2;248;248;242;48;2;39;40;34m)\u001b[0m\u001b[48;2;39;40;34m                                                                            \u001b[0m  \n",
       " ───────────────────────────────────────────────────────────────────────────────────────────────────────────────── \n"
      ]
     },
     "metadata": {},
     "output_type": "display_data"
    },
    {
     "data": {
      "text/html": [
       "<pre style=\"white-space:pre;overflow-x:auto;line-height:normal;font-family:Menlo,'DejaVu Sans Mono',consolas,'Courier New',monospace\"><span style=\"color: #d4b702; text-decoration-color: #d4b702; font-weight: bold\">Out - Final answer: ['EXT - An alternate performance and event space for various genres such as underground, house,</span>\n",
       "<span style=\"color: #d4b702; text-decoration-color: #d4b702; font-weight: bold\">techno, soul, funk, and disco, and contemporary Indian rock bands.', 'The Moonshine Project - Hosts live </span>\n",
       "<span style=\"color: #d4b702; text-decoration-color: #d4b702; font-weight: bold\">performances in a comfortable setup with great food and alcohol.', 'Besharam Ft. Mukt B2B Interrupter - An </span>\n",
       "<span style=\"color: #d4b702; text-decoration-color: #d4b702; font-weight: bold\">electrifying fusion of South Asian sounds and global beats, featuring DJ Mukt from Mumbai.', '9 Telangana Songs for</span>\n",
       "<span style=\"color: #d4b702; text-decoration-color: #d4b702; font-weight: bold\">Bonalu Celebrations: LAI LA LA YELLAMMA, YELLU YELLAMMA, PEDDA PULI, GALLU GALLU, Manduloda Ori Mayaloda, Nee Aaru </span>\n",
       "<span style=\"color: #d4b702; text-decoration-color: #d4b702; font-weight: bold\">Gurralu, and Gunna.']</span>\n",
       "</pre>\n"
      ],
      "text/plain": [
       "\u001b[1;38;2;212;183;2mOut - Final answer: ['EXT - An alternate performance and event space for various genres such as underground, house,\u001b[0m\n",
       "\u001b[1;38;2;212;183;2mtechno, soul, funk, and disco, and contemporary Indian rock bands.', 'The Moonshine Project - Hosts live \u001b[0m\n",
       "\u001b[1;38;2;212;183;2mperformances in a comfortable setup with great food and alcohol.', 'Besharam Ft. Mukt B2B Interrupter - An \u001b[0m\n",
       "\u001b[1;38;2;212;183;2melectrifying fusion of South Asian sounds and global beats, featuring DJ Mukt from Mumbai.', '9 Telangana Songs for\u001b[0m\n",
       "\u001b[1;38;2;212;183;2mBonalu Celebrations: LAI LA LA YELLAMMA, YELLU YELLAMMA, PEDDA PULI, GALLU GALLU, Manduloda Ori Mayaloda, Nee Aaru \u001b[0m\n",
       "\u001b[1;38;2;212;183;2mGurralu, and Gunna.']\u001b[0m\n"
      ]
     },
     "metadata": {},
     "output_type": "display_data"
    },
    {
     "data": {
      "text/html": [
       "<pre style=\"white-space:pre;overflow-x:auto;line-height:normal;font-family:Menlo,'DejaVu Sans Mono',consolas,'Courier New',monospace\"><span style=\"color: #7f7f7f; text-decoration-color: #7f7f7f\">[Step 2: Duration 104.22 seconds| Input tokens: 5,677 | Output tokens: 333]</span>\n",
       "</pre>\n"
      ],
      "text/plain": [
       "\u001b[2m[Step 2: Duration 104.22 seconds| Input tokens: 5,677 | Output tokens: 333]\u001b[0m\n"
      ]
     },
     "metadata": {},
     "output_type": "display_data"
    },
    {
     "data": {
      "text/plain": [
       "['EXT - An alternate performance and event space for various genres such as underground, house, techno, soul, funk, and disco, and contemporary Indian rock bands.',\n",
       " 'The Moonshine Project - Hosts live performances in a comfortable setup with great food and alcohol.',\n",
       " 'Besharam Ft. Mukt B2B Interrupter - An electrifying fusion of South Asian sounds and global beats, featuring DJ Mukt from Mumbai.',\n",
       " '9 Telangana Songs for Bonalu Celebrations: LAI LA LA YELLAMMA, YELLU YELLAMMA, PEDDA PULI, GALLU GALLU, Manduloda Ori Mayaloda, Nee Aaru Gurralu, and Gunna.']"
      ]
     },
     "execution_count": 5,
     "metadata": {},
     "output_type": "execute_result"
    }
   ],
   "source": [
    "agent.run(\"Search for the best music recommendations for a party in Telengana\")"
   ]
  },
  {
   "cell_type": "code",
   "execution_count": null,
   "id": "ca3cbe2f",
   "metadata": {},
   "outputs": [],
   "source": []
  },
  {
   "cell_type": "markdown",
   "id": "53417d40",
   "metadata": {},
   "source": [
    "## Implementing Tools"
   ]
  },
  {
   "cell_type": "code",
   "execution_count": 5,
   "id": "d17e01a3",
   "metadata": {},
   "outputs": [],
   "source": [
    "from smolagents import tool"
   ]
  },
  {
   "cell_type": "code",
   "execution_count": 6,
   "id": "f836d2f9",
   "metadata": {},
   "outputs": [],
   "source": [
    "@tool\n",
    "def suggest_menu(occasion: str) -> str:\n",
    "    \"\"\"\n",
    "        Suggests a menu based on the occasion.\n",
    "        Args:\n",
    "            occasion (str): The typr of occasion for the party. Allowed values are:\n",
    "                            - \"casual\": Menu for casual party\n",
    "                            - \"formal\": Menu for formal party.\n",
    "                            - \"superhero\" : Menu for superhero party.\n",
    "                            - \"custom\": Custom menu. \n",
    "    \"\"\"\n",
    "\n",
    "    if occasion == \"casual\":\n",
    "        return \"Pizza, snacks, and drinks.\"\n",
    "    elif occasion == \"formal\":\n",
    "        return \"3-course dinner with wine and desert.\"\n",
    "    elif occasion == \"superhero\":\n",
    "        return \"Buffet with high-energy and healthy food.\"\n",
    "    else:\n",
    "        return \"Custom menu for the butler.\""
   ]
  },
  {
   "cell_type": "code",
   "execution_count": 7,
   "id": "8a5c674f",
   "metadata": {},
   "outputs": [],
   "source": [
    "agent_2 = CodeAgent(\n",
    "    tools= [suggest_menu],\n",
    "    model = model_ollama,\n",
    "    max_steps=6,\n",
    "    verbosity_level=1,\n",
    "    grammar=None,\n",
    "    planning_interval=None,\n",
    "    name=None,\n",
    "    description=None,\n",
    "    \n",
    ")"
   ]
  },
  {
   "cell_type": "code",
   "execution_count": 8,
   "id": "06af8a84",
   "metadata": {},
   "outputs": [
    {
     "data": {
      "text/html": [
       "<pre style=\"white-space:pre;overflow-x:auto;line-height:normal;font-family:Menlo,'DejaVu Sans Mono',consolas,'Courier New',monospace\"><span style=\"color: #d4b702; text-decoration-color: #d4b702\">╭──────────────────────────────────────────────────── </span><span style=\"color: #d4b702; text-decoration-color: #d4b702; font-weight: bold\">New run</span><span style=\"color: #d4b702; text-decoration-color: #d4b702\"> ────────────────────────────────────────────────────╮</span>\n",
       "<span style=\"color: #d4b702; text-decoration-color: #d4b702\">│</span>                                                                                                                 <span style=\"color: #d4b702; text-decoration-color: #d4b702\">│</span>\n",
       "<span style=\"color: #d4b702; text-decoration-color: #d4b702\">│</span> <span style=\"font-weight: bold\">Prepare a menu for a formal party</span>                                                                               <span style=\"color: #d4b702; text-decoration-color: #d4b702\">│</span>\n",
       "<span style=\"color: #d4b702; text-decoration-color: #d4b702\">│</span>                                                                                                                 <span style=\"color: #d4b702; text-decoration-color: #d4b702\">│</span>\n",
       "<span style=\"color: #d4b702; text-decoration-color: #d4b702\">╰─ LiteLLMModel - ollama_chat/qwen2.5:7b ─────────────────────────────────────────────────────────────────────────╯</span>\n",
       "</pre>\n"
      ],
      "text/plain": [
       "\u001b[38;2;212;183;2m╭─\u001b[0m\u001b[38;2;212;183;2m───────────────────────────────────────────────────\u001b[0m\u001b[38;2;212;183;2m \u001b[0m\u001b[1;38;2;212;183;2mNew run\u001b[0m\u001b[38;2;212;183;2m \u001b[0m\u001b[38;2;212;183;2m───────────────────────────────────────────────────\u001b[0m\u001b[38;2;212;183;2m─╮\u001b[0m\n",
       "\u001b[38;2;212;183;2m│\u001b[0m                                                                                                                 \u001b[38;2;212;183;2m│\u001b[0m\n",
       "\u001b[38;2;212;183;2m│\u001b[0m \u001b[1mPrepare a menu for a formal party\u001b[0m                                                                               \u001b[38;2;212;183;2m│\u001b[0m\n",
       "\u001b[38;2;212;183;2m│\u001b[0m                                                                                                                 \u001b[38;2;212;183;2m│\u001b[0m\n",
       "\u001b[38;2;212;183;2m╰─\u001b[0m\u001b[38;2;212;183;2m LiteLLMModel - ollama_chat/qwen2.5:7b \u001b[0m\u001b[38;2;212;183;2m────────────────────────────────────────────────────────────────────────\u001b[0m\u001b[38;2;212;183;2m─╯\u001b[0m\n"
      ]
     },
     "metadata": {},
     "output_type": "display_data"
    },
    {
     "data": {
      "text/html": [
       "<pre style=\"white-space:pre;overflow-x:auto;line-height:normal;font-family:Menlo,'DejaVu Sans Mono',consolas,'Courier New',monospace\"><span style=\"color: #d4b702; text-decoration-color: #d4b702\">━━━━━━━━━━━━━━━━━━━━━━━━━━━━━━━━━━━━━━━━━━━━━━━━━━━━━ </span><span style=\"font-weight: bold\">Step </span><span style=\"color: #008080; text-decoration-color: #008080; font-weight: bold\">1</span><span style=\"color: #d4b702; text-decoration-color: #d4b702\"> ━━━━━━━━━━━━━━━━━━━━━━━━━━━━━━━━━━━━━━━━━━━━━━━━━━━━━━</span>\n",
       "</pre>\n"
      ],
      "text/plain": [
       "\u001b[38;2;212;183;2m━━━━━━━━━━━━━━━━━━━━━━━━━━━━━━━━━━━━━━━━━━━━━━━━━━━━━ \u001b[0m\u001b[1mStep \u001b[0m\u001b[1;36m1\u001b[0m\u001b[38;2;212;183;2m ━━━━━━━━━━━━━━━━━━━━━━━━━━━━━━━━━━━━━━━━━━━━━━━━━━━━━━\u001b[0m\n"
      ]
     },
     "metadata": {},
     "output_type": "display_data"
    },
    {
     "data": {
      "text/html": [
       "<pre style=\"white-space:pre;overflow-x:auto;line-height:normal;font-family:Menlo,'DejaVu Sans Mono',consolas,'Courier New',monospace\"> ─ <span style=\"font-weight: bold\">Executing parsed code:</span> ──────────────────────────────────────────────────────────────────────────────────────── \n",
       "  <span style=\"color: #f8f8f2; text-decoration-color: #f8f8f2; background-color: #272822\">menu_suggestion </span><span style=\"color: #ff4689; text-decoration-color: #ff4689; background-color: #272822\">=</span><span style=\"color: #f8f8f2; text-decoration-color: #f8f8f2; background-color: #272822\"> suggest_menu(occasion</span><span style=\"color: #ff4689; text-decoration-color: #ff4689; background-color: #272822\">=</span><span style=\"color: #e6db74; text-decoration-color: #e6db74; background-color: #272822\">\"formal\"</span><span style=\"color: #f8f8f2; text-decoration-color: #f8f8f2; background-color: #272822\">)</span><span style=\"background-color: #272822\">                                                              </span>  \n",
       "  <span style=\"color: #f8f8f2; text-decoration-color: #f8f8f2; background-color: #272822\">print(menu_suggestion)</span><span style=\"background-color: #272822\">                                                                                         </span>  \n",
       " ───────────────────────────────────────────────────────────────────────────────────────────────────────────────── \n",
       "</pre>\n"
      ],
      "text/plain": [
       " ─ \u001b[1mExecuting parsed code:\u001b[0m ──────────────────────────────────────────────────────────────────────────────────────── \n",
       "  \u001b[38;2;248;248;242;48;2;39;40;34mmenu_suggestion\u001b[0m\u001b[38;2;248;248;242;48;2;39;40;34m \u001b[0m\u001b[38;2;255;70;137;48;2;39;40;34m=\u001b[0m\u001b[38;2;248;248;242;48;2;39;40;34m \u001b[0m\u001b[38;2;248;248;242;48;2;39;40;34msuggest_menu\u001b[0m\u001b[38;2;248;248;242;48;2;39;40;34m(\u001b[0m\u001b[38;2;248;248;242;48;2;39;40;34moccasion\u001b[0m\u001b[38;2;255;70;137;48;2;39;40;34m=\u001b[0m\u001b[38;2;230;219;116;48;2;39;40;34m\"\u001b[0m\u001b[38;2;230;219;116;48;2;39;40;34mformal\u001b[0m\u001b[38;2;230;219;116;48;2;39;40;34m\"\u001b[0m\u001b[38;2;248;248;242;48;2;39;40;34m)\u001b[0m\u001b[48;2;39;40;34m                                                              \u001b[0m  \n",
       "  \u001b[38;2;248;248;242;48;2;39;40;34mprint\u001b[0m\u001b[38;2;248;248;242;48;2;39;40;34m(\u001b[0m\u001b[38;2;248;248;242;48;2;39;40;34mmenu_suggestion\u001b[0m\u001b[38;2;248;248;242;48;2;39;40;34m)\u001b[0m\u001b[48;2;39;40;34m                                                                                         \u001b[0m  \n",
       " ───────────────────────────────────────────────────────────────────────────────────────────────────────────────── \n"
      ]
     },
     "metadata": {},
     "output_type": "display_data"
    },
    {
     "data": {
      "text/html": [
       "<pre style=\"white-space:pre;overflow-x:auto;line-height:normal;font-family:Menlo,'DejaVu Sans Mono',consolas,'Courier New',monospace\"><span style=\"font-weight: bold\">Execution logs:</span>\n",
       "3-course dinner with wine and desert.\n",
       "\n",
       "Out: None\n",
       "</pre>\n"
      ],
      "text/plain": [
       "\u001b[1mExecution logs:\u001b[0m\n",
       "3-course dinner with wine and desert.\n",
       "\n",
       "Out: None\n"
      ]
     },
     "metadata": {},
     "output_type": "display_data"
    },
    {
     "data": {
      "text/html": [
       "<pre style=\"white-space:pre;overflow-x:auto;line-height:normal;font-family:Menlo,'DejaVu Sans Mono',consolas,'Courier New',monospace\"><span style=\"color: #7f7f7f; text-decoration-color: #7f7f7f\">[Step 1: Duration 35.10 seconds| Input tokens: 2,107 | Output tokens: 56]</span>\n",
       "</pre>\n"
      ],
      "text/plain": [
       "\u001b[2m[Step 1: Duration 35.10 seconds| Input tokens: 2,107 | Output tokens: 56]\u001b[0m\n"
      ]
     },
     "metadata": {},
     "output_type": "display_data"
    },
    {
     "data": {
      "text/html": [
       "<pre style=\"white-space:pre;overflow-x:auto;line-height:normal;font-family:Menlo,'DejaVu Sans Mono',consolas,'Courier New',monospace\"><span style=\"color: #d4b702; text-decoration-color: #d4b702\">━━━━━━━━━━━━━━━━━━━━━━━━━━━━━━━━━━━━━━━━━━━━━━━━━━━━━ </span><span style=\"font-weight: bold\">Step </span><span style=\"color: #008080; text-decoration-color: #008080; font-weight: bold\">2</span><span style=\"color: #d4b702; text-decoration-color: #d4b702\"> ━━━━━━━━━━━━━━━━━━━━━━━━━━━━━━━━━━━━━━━━━━━━━━━━━━━━━━</span>\n",
       "</pre>\n"
      ],
      "text/plain": [
       "\u001b[38;2;212;183;2m━━━━━━━━━━━━━━━━━━━━━━━━━━━━━━━━━━━━━━━━━━━━━━━━━━━━━ \u001b[0m\u001b[1mStep \u001b[0m\u001b[1;36m2\u001b[0m\u001b[38;2;212;183;2m ━━━━━━━━━━━━━━━━━━━━━━━━━━━━━━━━━━━━━━━━━━━━━━━━━━━━━━\u001b[0m\n"
      ]
     },
     "metadata": {},
     "output_type": "display_data"
    },
    {
     "data": {
      "text/html": [
       "<pre style=\"white-space:pre;overflow-x:auto;line-height:normal;font-family:Menlo,'DejaVu Sans Mono',consolas,'Courier New',monospace\"> ─ <span style=\"font-weight: bold\">Executing parsed code:</span> ──────────────────────────────────────────────────────────────────────────────────────── \n",
       "  <span style=\"color: #f8f8f2; text-decoration-color: #f8f8f2; background-color: #272822\">menu </span><span style=\"color: #ff4689; text-decoration-color: #ff4689; background-color: #272822\">=</span><span style=\"color: #f8f8f2; text-decoration-color: #f8f8f2; background-color: #272822\"> [</span><span style=\"background-color: #272822\">                                                                                                       </span>  \n",
       "  <span style=\"color: #f8f8f2; text-decoration-color: #f8f8f2; background-color: #272822\">    </span><span style=\"color: #e6db74; text-decoration-color: #e6db74; background-color: #272822\">\"Amuse-Bouche: Truffle Foie Gras\"</span><span style=\"color: #f8f8f2; text-decoration-color: #f8f8f2; background-color: #272822\">,</span><span style=\"background-color: #272822\">                                                                         </span>  \n",
       "  <span style=\"color: #f8f8f2; text-decoration-color: #f8f8f2; background-color: #272822\">    </span><span style=\"color: #e6db74; text-decoration-color: #e6db74; background-color: #272822\">\"Salad Course: Mixed Green Salad with Pomegranate Seeds and Candied Walnuts\"</span><span style=\"color: #f8f8f2; text-decoration-color: #f8f8f2; background-color: #272822\">,</span><span style=\"background-color: #272822\">                              </span>  \n",
       "  <span style=\"color: #f8f8f2; text-decoration-color: #f8f8f2; background-color: #272822\">    </span><span style=\"color: #e6db74; text-decoration-color: #e6db74; background-color: #272822\">\"Main Course: Filet Mignon with Roasted Vegetables\"</span><span style=\"color: #f8f8f2; text-decoration-color: #f8f8f2; background-color: #272822\">,</span><span style=\"background-color: #272822\">                                                       </span>  \n",
       "  <span style=\"color: #f8f8f2; text-decoration-color: #f8f8f2; background-color: #272822\">    </span><span style=\"color: #e6db74; text-decoration-color: #e6db74; background-color: #272822\">\"Dessert: Chocolate Mousse with Raspberry Coulis\"</span><span style=\"background-color: #272822\">                                                          </span>  \n",
       "  <span style=\"color: #f8f8f2; text-decoration-color: #f8f8f2; background-color: #272822\">]</span><span style=\"background-color: #272822\">                                                                                                              </span>  \n",
       "  <span style=\"color: #f8f8f2; text-decoration-color: #f8f8f2; background-color: #272822\">print(menu)</span><span style=\"background-color: #272822\">                                                                                                    </span>  \n",
       " ───────────────────────────────────────────────────────────────────────────────────────────────────────────────── \n",
       "</pre>\n"
      ],
      "text/plain": [
       " ─ \u001b[1mExecuting parsed code:\u001b[0m ──────────────────────────────────────────────────────────────────────────────────────── \n",
       "  \u001b[38;2;248;248;242;48;2;39;40;34mmenu\u001b[0m\u001b[38;2;248;248;242;48;2;39;40;34m \u001b[0m\u001b[38;2;255;70;137;48;2;39;40;34m=\u001b[0m\u001b[38;2;248;248;242;48;2;39;40;34m \u001b[0m\u001b[38;2;248;248;242;48;2;39;40;34m[\u001b[0m\u001b[48;2;39;40;34m                                                                                                       \u001b[0m  \n",
       "  \u001b[38;2;248;248;242;48;2;39;40;34m    \u001b[0m\u001b[38;2;230;219;116;48;2;39;40;34m\"\u001b[0m\u001b[38;2;230;219;116;48;2;39;40;34mAmuse-Bouche: Truffle Foie Gras\u001b[0m\u001b[38;2;230;219;116;48;2;39;40;34m\"\u001b[0m\u001b[38;2;248;248;242;48;2;39;40;34m,\u001b[0m\u001b[48;2;39;40;34m                                                                         \u001b[0m  \n",
       "  \u001b[38;2;248;248;242;48;2;39;40;34m    \u001b[0m\u001b[38;2;230;219;116;48;2;39;40;34m\"\u001b[0m\u001b[38;2;230;219;116;48;2;39;40;34mSalad Course: Mixed Green Salad with Pomegranate Seeds and Candied Walnuts\u001b[0m\u001b[38;2;230;219;116;48;2;39;40;34m\"\u001b[0m\u001b[38;2;248;248;242;48;2;39;40;34m,\u001b[0m\u001b[48;2;39;40;34m                              \u001b[0m  \n",
       "  \u001b[38;2;248;248;242;48;2;39;40;34m    \u001b[0m\u001b[38;2;230;219;116;48;2;39;40;34m\"\u001b[0m\u001b[38;2;230;219;116;48;2;39;40;34mMain Course: Filet Mignon with Roasted Vegetables\u001b[0m\u001b[38;2;230;219;116;48;2;39;40;34m\"\u001b[0m\u001b[38;2;248;248;242;48;2;39;40;34m,\u001b[0m\u001b[48;2;39;40;34m                                                       \u001b[0m  \n",
       "  \u001b[38;2;248;248;242;48;2;39;40;34m    \u001b[0m\u001b[38;2;230;219;116;48;2;39;40;34m\"\u001b[0m\u001b[38;2;230;219;116;48;2;39;40;34mDessert: Chocolate Mousse with Raspberry Coulis\u001b[0m\u001b[38;2;230;219;116;48;2;39;40;34m\"\u001b[0m\u001b[48;2;39;40;34m                                                          \u001b[0m  \n",
       "  \u001b[38;2;248;248;242;48;2;39;40;34m]\u001b[0m\u001b[48;2;39;40;34m                                                                                                              \u001b[0m  \n",
       "  \u001b[38;2;248;248;242;48;2;39;40;34mprint\u001b[0m\u001b[38;2;248;248;242;48;2;39;40;34m(\u001b[0m\u001b[38;2;248;248;242;48;2;39;40;34mmenu\u001b[0m\u001b[38;2;248;248;242;48;2;39;40;34m)\u001b[0m\u001b[48;2;39;40;34m                                                                                                    \u001b[0m  \n",
       " ───────────────────────────────────────────────────────────────────────────────────────────────────────────────── \n"
      ]
     },
     "metadata": {},
     "output_type": "display_data"
    },
    {
     "data": {
      "text/html": [
       "<pre style=\"white-space:pre;overflow-x:auto;line-height:normal;font-family:Menlo,'DejaVu Sans Mono',consolas,'Courier New',monospace\"><span style=\"font-weight: bold\">Execution logs:</span>\n",
       "['Amuse-Bouche: Truffle Foie Gras', 'Salad Course: Mixed Green Salad with Pomegranate Seeds and Candied Walnuts', \n",
       "'Main Course: Filet Mignon with Roasted Vegetables', 'Dessert: Chocolate Mousse with Raspberry Coulis']\n",
       "\n",
       "Out: None\n",
       "</pre>\n"
      ],
      "text/plain": [
       "\u001b[1mExecution logs:\u001b[0m\n",
       "['Amuse-Bouche: Truffle Foie Gras', 'Salad Course: Mixed Green Salad with Pomegranate Seeds and Candied Walnuts', \n",
       "'Main Course: Filet Mignon with Roasted Vegetables', 'Dessert: Chocolate Mousse with Raspberry Coulis']\n",
       "\n",
       "Out: None\n"
      ]
     },
     "metadata": {},
     "output_type": "display_data"
    },
    {
     "data": {
      "text/html": [
       "<pre style=\"white-space:pre;overflow-x:auto;line-height:normal;font-family:Menlo,'DejaVu Sans Mono',consolas,'Courier New',monospace\"><span style=\"color: #7f7f7f; text-decoration-color: #7f7f7f\">[Step 2: Duration 23.33 seconds| Input tokens: 4,362 | Output tokens: 181]</span>\n",
       "</pre>\n"
      ],
      "text/plain": [
       "\u001b[2m[Step 2: Duration 23.33 seconds| Input tokens: 4,362 | Output tokens: 181]\u001b[0m\n"
      ]
     },
     "metadata": {},
     "output_type": "display_data"
    },
    {
     "data": {
      "text/html": [
       "<pre style=\"white-space:pre;overflow-x:auto;line-height:normal;font-family:Menlo,'DejaVu Sans Mono',consolas,'Courier New',monospace\"><span style=\"color: #d4b702; text-decoration-color: #d4b702\">━━━━━━━━━━━━━━━━━━━━━━━━━━━━━━━━━━━━━━━━━━━━━━━━━━━━━ </span><span style=\"font-weight: bold\">Step </span><span style=\"color: #008080; text-decoration-color: #008080; font-weight: bold\">3</span><span style=\"color: #d4b702; text-decoration-color: #d4b702\"> ━━━━━━━━━━━━━━━━━━━━━━━━━━━━━━━━━━━━━━━━━━━━━━━━━━━━━━</span>\n",
       "</pre>\n"
      ],
      "text/plain": [
       "\u001b[38;2;212;183;2m━━━━━━━━━━━━━━━━━━━━━━━━━━━━━━━━━━━━━━━━━━━━━━━━━━━━━ \u001b[0m\u001b[1mStep \u001b[0m\u001b[1;36m3\u001b[0m\u001b[38;2;212;183;2m ━━━━━━━━━━━━━━━━━━━━━━━━━━━━━━━━━━━━━━━━━━━━━━━━━━━━━━\u001b[0m\n"
      ]
     },
     "metadata": {},
     "output_type": "display_data"
    },
    {
     "data": {
      "text/html": [
       "<pre style=\"white-space:pre;overflow-x:auto;line-height:normal;font-family:Menlo,'DejaVu Sans Mono',consolas,'Courier New',monospace\"> ─ <span style=\"font-weight: bold\">Executing parsed code:</span> ──────────────────────────────────────────────────────────────────────────────────────── \n",
       "  <span style=\"color: #f8f8f2; text-decoration-color: #f8f8f2; background-color: #272822\">final_answer(menu)</span><span style=\"background-color: #272822\">                                                                                             </span>  \n",
       " ───────────────────────────────────────────────────────────────────────────────────────────────────────────────── \n",
       "</pre>\n"
      ],
      "text/plain": [
       " ─ \u001b[1mExecuting parsed code:\u001b[0m ──────────────────────────────────────────────────────────────────────────────────────── \n",
       "  \u001b[38;2;248;248;242;48;2;39;40;34mfinal_answer\u001b[0m\u001b[38;2;248;248;242;48;2;39;40;34m(\u001b[0m\u001b[38;2;248;248;242;48;2;39;40;34mmenu\u001b[0m\u001b[38;2;248;248;242;48;2;39;40;34m)\u001b[0m\u001b[48;2;39;40;34m                                                                                             \u001b[0m  \n",
       " ───────────────────────────────────────────────────────────────────────────────────────────────────────────────── \n"
      ]
     },
     "metadata": {},
     "output_type": "display_data"
    },
    {
     "data": {
      "text/html": [
       "<pre style=\"white-space:pre;overflow-x:auto;line-height:normal;font-family:Menlo,'DejaVu Sans Mono',consolas,'Courier New',monospace\"><span style=\"color: #d4b702; text-decoration-color: #d4b702; font-weight: bold\">Out - Final answer: ['Amuse-Bouche: Truffle Foie Gras', 'Salad Course: Mixed Green Salad with Pomegranate Seeds and</span>\n",
       "<span style=\"color: #d4b702; text-decoration-color: #d4b702; font-weight: bold\">Candied Walnuts', 'Main Course: Filet Mignon with Roasted Vegetables', 'Dessert: Chocolate Mousse with Raspberry </span>\n",
       "<span style=\"color: #d4b702; text-decoration-color: #d4b702; font-weight: bold\">Coulis']</span>\n",
       "</pre>\n"
      ],
      "text/plain": [
       "\u001b[1;38;2;212;183;2mOut - Final answer: ['Amuse-Bouche: Truffle Foie Gras', 'Salad Course: Mixed Green Salad with Pomegranate Seeds and\u001b[0m\n",
       "\u001b[1;38;2;212;183;2mCandied Walnuts', 'Main Course: Filet Mignon with Roasted Vegetables', 'Dessert: Chocolate Mousse with Raspberry \u001b[0m\n",
       "\u001b[1;38;2;212;183;2mCoulis']\u001b[0m\n"
      ]
     },
     "metadata": {},
     "output_type": "display_data"
    },
    {
     "data": {
      "text/html": [
       "<pre style=\"white-space:pre;overflow-x:auto;line-height:normal;font-family:Menlo,'DejaVu Sans Mono',consolas,'Courier New',monospace\"><span style=\"color: #7f7f7f; text-decoration-color: #7f7f7f\">[Step 3: Duration 18.26 seconds| Input tokens: 6,949 | Output tokens: 218]</span>\n",
       "</pre>\n"
      ],
      "text/plain": [
       "\u001b[2m[Step 3: Duration 18.26 seconds| Input tokens: 6,949 | Output tokens: 218]\u001b[0m\n"
      ]
     },
     "metadata": {},
     "output_type": "display_data"
    },
    {
     "data": {
      "text/plain": [
       "['Amuse-Bouche: Truffle Foie Gras',\n",
       " 'Salad Course: Mixed Green Salad with Pomegranate Seeds and Candied Walnuts',\n",
       " 'Main Course: Filet Mignon with Roasted Vegetables',\n",
       " 'Dessert: Chocolate Mousse with Raspberry Coulis']"
      ]
     },
     "execution_count": 8,
     "metadata": {},
     "output_type": "execute_result"
    }
   ],
   "source": [
    "agent_2.run(\"Prepare a menu for a formal party\")"
   ]
  },
  {
   "cell_type": "code",
   "execution_count": null,
   "id": "dd008960",
   "metadata": {},
   "outputs": [],
   "source": []
  },
  {
   "cell_type": "markdown",
   "id": "86b9c94f",
   "metadata": {},
   "source": [
    "## Authorized Imports"
   ]
  },
  {
   "cell_type": "code",
   "execution_count": 4,
   "id": "fb9a0b91",
   "metadata": {},
   "outputs": [],
   "source": [
    "from smolagents import CodeAgent, LiteLLMModel\n",
    "import numpy as np\n",
    "import time\n",
    "import datetime"
   ]
  },
  {
   "cell_type": "code",
   "execution_count": 5,
   "id": "44baaa85",
   "metadata": {},
   "outputs": [],
   "source": [
    "model_new = LiteLLMModel(\n",
    "    model_id=\"ollama_chat/qwen2.5:7b\",\n",
    "    api_base=\"http://127.0.0.1:11434\",\n",
    "    api_key=\"1122\"\n",
    ")"
   ]
  },
  {
   "cell_type": "code",
   "execution_count": null,
   "id": "3ac0cee5",
   "metadata": {},
   "outputs": [],
   "source": [
    "agent_new = CodeAgent(\n",
    "    tools = [],\n",
    "    model = model_new,\n",
    "    additional_authorized_imports=['datetime']\n",
    ")"
   ]
  },
  {
   "cell_type": "code",
   "execution_count": null,
   "id": "daeafc94",
   "metadata": {},
   "outputs": [
    {
     "data": {
      "text/html": [
       "<pre style=\"white-space:pre;overflow-x:auto;line-height:normal;font-family:Menlo,'DejaVu Sans Mono',consolas,'Courier New',monospace\"><span style=\"color: #d4b702; text-decoration-color: #d4b702\">╭──────────────────────────────────────────────────── </span><span style=\"color: #d4b702; text-decoration-color: #d4b702; font-weight: bold\">New run</span><span style=\"color: #d4b702; text-decoration-color: #d4b702\"> ────────────────────────────────────────────────────╮</span>\n",
       "<span style=\"color: #d4b702; text-decoration-color: #d4b702\">│</span>                                                                                                                 <span style=\"color: #d4b702; text-decoration-color: #d4b702\">│</span>\n",
       "<span style=\"color: #d4b702; text-decoration-color: #d4b702\">│</span> <span style=\"font-weight: bold\">Alfred needs to prepare for the party. Here are the tasks: 1. Prepare the drinks - 30 minutes. 2. Decorate the </span> <span style=\"color: #d4b702; text-decoration-color: #d4b702\">│</span>\n",
       "<span style=\"color: #d4b702; text-decoration-color: #d4b702\">│</span> <span style=\"font-weight: bold\">mansion - 60 minutes. 3. Set up the menu - 45 minutes. 4. Prepare the music and playlist - 45 minutes. If we </span>   <span style=\"color: #d4b702; text-decoration-color: #d4b702\">│</span>\n",
       "<span style=\"color: #d4b702; text-decoration-color: #d4b702\">│</span> <span style=\"font-weight: bold\">start right now, at what time will the party be ready?</span>                                                          <span style=\"color: #d4b702; text-decoration-color: #d4b702\">│</span>\n",
       "<span style=\"color: #d4b702; text-decoration-color: #d4b702\">│</span>                                                                                                                 <span style=\"color: #d4b702; text-decoration-color: #d4b702\">│</span>\n",
       "<span style=\"color: #d4b702; text-decoration-color: #d4b702\">╰─ LiteLLMModel - ollama_chat/qwen2.5:7b ─────────────────────────────────────────────────────────────────────────╯</span>\n",
       "</pre>\n"
      ],
      "text/plain": [
       "\u001b[38;2;212;183;2m╭─\u001b[0m\u001b[38;2;212;183;2m───────────────────────────────────────────────────\u001b[0m\u001b[38;2;212;183;2m \u001b[0m\u001b[1;38;2;212;183;2mNew run\u001b[0m\u001b[38;2;212;183;2m \u001b[0m\u001b[38;2;212;183;2m───────────────────────────────────────────────────\u001b[0m\u001b[38;2;212;183;2m─╮\u001b[0m\n",
       "\u001b[38;2;212;183;2m│\u001b[0m                                                                                                                 \u001b[38;2;212;183;2m│\u001b[0m\n",
       "\u001b[38;2;212;183;2m│\u001b[0m \u001b[1mAlfred needs to prepare for the party. Here are the tasks: 1. Prepare the drinks - 30 minutes. 2. Decorate the \u001b[0m \u001b[38;2;212;183;2m│\u001b[0m\n",
       "\u001b[38;2;212;183;2m│\u001b[0m \u001b[1mmansion - 60 minutes. 3. Set up the menu - 45 minutes. 4. Prepare the music and playlist - 45 minutes. If we \u001b[0m   \u001b[38;2;212;183;2m│\u001b[0m\n",
       "\u001b[38;2;212;183;2m│\u001b[0m \u001b[1mstart right now, at what time will the party be ready?\u001b[0m                                                          \u001b[38;2;212;183;2m│\u001b[0m\n",
       "\u001b[38;2;212;183;2m│\u001b[0m                                                                                                                 \u001b[38;2;212;183;2m│\u001b[0m\n",
       "\u001b[38;2;212;183;2m╰─\u001b[0m\u001b[38;2;212;183;2m LiteLLMModel - ollama_chat/qwen2.5:7b \u001b[0m\u001b[38;2;212;183;2m────────────────────────────────────────────────────────────────────────\u001b[0m\u001b[38;2;212;183;2m─╯\u001b[0m\n"
      ]
     },
     "metadata": {},
     "output_type": "display_data"
    },
    {
     "data": {
      "text/html": [
       "<pre style=\"white-space:pre;overflow-x:auto;line-height:normal;font-family:Menlo,'DejaVu Sans Mono',consolas,'Courier New',monospace\"><span style=\"color: #d4b702; text-decoration-color: #d4b702\">━━━━━━━━━━━━━━━━━━━━━━━━━━━━━━━━━━━━━━━━━━━━━━━━━━━━━ </span><span style=\"font-weight: bold\">Step </span><span style=\"color: #008080; text-decoration-color: #008080; font-weight: bold\">1</span><span style=\"color: #d4b702; text-decoration-color: #d4b702\"> ━━━━━━━━━━━━━━━━━━━━━━━━━━━━━━━━━━━━━━━━━━━━━━━━━━━━━━</span>\n",
       "</pre>\n"
      ],
      "text/plain": [
       "\u001b[38;2;212;183;2m━━━━━━━━━━━━━━━━━━━━━━━━━━━━━━━━━━━━━━━━━━━━━━━━━━━━━ \u001b[0m\u001b[1mStep \u001b[0m\u001b[1;36m1\u001b[0m\u001b[38;2;212;183;2m ━━━━━━━━━━━━━━━━━━━━━━━━━━━━━━━━━━━━━━━━━━━━━━━━━━━━━━\u001b[0m\n"
      ]
     },
     "metadata": {},
     "output_type": "display_data"
    },
    {
     "data": {
      "text/html": [
       "<pre style=\"white-space:pre;overflow-x:auto;line-height:normal;font-family:Menlo,'DejaVu Sans Mono',consolas,'Courier New',monospace\"><span style=\"color: #800000; text-decoration-color: #800000; font-weight: bold\">Error in code parsing:</span>\n",
       "<span style=\"color: #800000; text-decoration-color: #800000; font-weight: bold\">Your code snippet is invalid, because the regex pattern ```(?:py|python)?\\</span><span style=\"color: #800080; text-decoration-color: #800080; font-weight: bold\">n</span><span style=\"color: #800000; text-decoration-color: #800000; font-weight: bold\">(.*?)\\n``` was not found in it.</span>\n",
       "<span style=\"color: #800000; text-decoration-color: #800000; font-weight: bold\">            Here is your code snippet:</span>\n",
       "<span style=\"color: #800000; text-decoration-color: #800000; font-weight: bold\">            To determine when the party will be ready, let's add up the total time required for all tasks:</span>\n",
       "\n",
       "<span style=\"color: #008080; text-decoration-color: #008080; font-weight: bold\">1</span><span style=\"color: #800000; text-decoration-color: #800000; font-weight: bold\">. **Prepare the drinks**: </span><span style=\"color: #008080; text-decoration-color: #008080; font-weight: bold\">30</span><span style=\"color: #800000; text-decoration-color: #800000; font-weight: bold\"> minutes</span>\n",
       "<span style=\"color: #008080; text-decoration-color: #008080; font-weight: bold\">2</span><span style=\"color: #800000; text-decoration-color: #800000; font-weight: bold\">. **Decorate the mansion**: </span><span style=\"color: #008080; text-decoration-color: #008080; font-weight: bold\">60</span><span style=\"color: #800000; text-decoration-color: #800000; font-weight: bold\"> minutes</span>\n",
       "<span style=\"color: #008080; text-decoration-color: #008080; font-weight: bold\">3</span><span style=\"color: #800000; text-decoration-color: #800000; font-weight: bold\">. **Set up the menu**: </span><span style=\"color: #008080; text-decoration-color: #008080; font-weight: bold\">45</span><span style=\"color: #800000; text-decoration-color: #800000; font-weight: bold\"> minutes</span>\n",
       "<span style=\"color: #008080; text-decoration-color: #008080; font-weight: bold\">4</span><span style=\"color: #800000; text-decoration-color: #800000; font-weight: bold\">. **Prepare the music and playlist**: </span><span style=\"color: #008080; text-decoration-color: #008080; font-weight: bold\">45</span><span style=\"color: #800000; text-decoration-color: #800000; font-weight: bold\"> minutes</span>\n",
       "\n",
       "<span style=\"color: #800000; text-decoration-color: #800000; font-weight: bold\">Now, summing these times:</span>\n",
       "<span style=\"color: #800000; text-decoration-color: #800000; font-weight: bold\">\\[ </span><span style=\"color: #008080; text-decoration-color: #008080; font-weight: bold\">30</span><span style=\"color: #800000; text-decoration-color: #800000; font-weight: bold\"> + </span><span style=\"color: #008080; text-decoration-color: #008080; font-weight: bold\">60</span><span style=\"color: #800000; text-decoration-color: #800000; font-weight: bold\"> + </span><span style=\"color: #008080; text-decoration-color: #008080; font-weight: bold\">45</span><span style=\"color: #800000; text-decoration-color: #800000; font-weight: bold\"> + </span><span style=\"color: #008080; text-decoration-color: #008080; font-weight: bold\">45</span><span style=\"color: #800000; text-decoration-color: #800000; font-weight: bold\"> = </span><span style=\"color: #008080; text-decoration-color: #008080; font-weight: bold\">180</span><span style=\"color: #800000; text-decoration-color: #800000; font-weight: bold\"> \\text{ minutes} \\\\]</span>\n",
       "\n",
       "<span style=\"color: #800000; text-decoration-color: #800000; font-weight: bold\">Convert </span><span style=\"color: #008080; text-decoration-color: #008080; font-weight: bold\">180</span><span style=\"color: #800000; text-decoration-color: #800000; font-weight: bold\"> minutes to hours:</span>\n",
       "<span style=\"color: #800000; text-decoration-color: #800000; font-weight: bold\">\\[ </span><span style=\"color: #008080; text-decoration-color: #008080; font-weight: bold\">180</span><span style=\"color: #800000; text-decoration-color: #800000; font-weight: bold\"> \\div </span><span style=\"color: #008080; text-decoration-color: #008080; font-weight: bold\">60</span><span style=\"color: #800000; text-decoration-color: #800000; font-weight: bold\"> = </span><span style=\"color: #008080; text-decoration-color: #008080; font-weight: bold\">3</span><span style=\"color: #800000; text-decoration-color: #800000; font-weight: bold\"> \\text{ hours} \\\\]</span>\n",
       "\n",
       "<span style=\"color: #800000; text-decoration-color: #800000; font-weight: bold\">If we start right now, adding </span><span style=\"color: #008080; text-decoration-color: #008080; font-weight: bold\">3</span><span style=\"color: #800000; text-decoration-color: #800000; font-weight: bold\"> hours will give us the time when the party will be ready. Without a specific </span>\n",
       "<span style=\"color: #800000; text-decoration-color: #800000; font-weight: bold\">starting time provided in your message, let's assume it is currently \\( X \\) o'clock.</span>\n",
       "\n",
       "<span style=\"color: #800000; text-decoration-color: #800000; font-weight: bold\">Adding </span><span style=\"color: #008080; text-decoration-color: #008080; font-weight: bold\">3</span><span style=\"color: #800000; text-decoration-color: #800000; font-weight: bold\"> hours to \\( X \\) o'clock:</span>\n",
       "<span style=\"color: #800000; text-decoration-color: #800000; font-weight: bold\">\\[ X + </span><span style=\"color: #008080; text-decoration-color: #008080; font-weight: bold\">3</span><span style=\"color: #800000; text-decoration-color: #800000; font-weight: bold\"> \\text{ hours} \\\\]</span>\n",
       "\n",
       "<span style=\"color: #800000; text-decoration-color: #800000; font-weight: bold\">So, the party will be ready at \\( (X+</span><span style=\"color: #008080; text-decoration-color: #008080; font-weight: bold\">3</span><span style=\"color: #800000; text-decoration-color: #800000; font-weight: bold\">) \\) o'clock. For example, if it’s currently </span><span style=\"color: #00ff00; text-decoration-color: #00ff00; font-weight: bold\">2:00</span><span style=\"color: #800000; text-decoration-color: #800000; font-weight: bold\"> PM, then the party would be</span>\n",
       "<span style=\"color: #800000; text-decoration-color: #800000; font-weight: bold\">ready by </span><span style=\"color: #00ff00; text-decoration-color: #00ff00; font-weight: bold\">5:00</span><span style=\"color: #800000; text-decoration-color: #800000; font-weight: bold\"> PM.</span>\n",
       "\n",
       "<span style=\"color: #800000; text-decoration-color: #800000; font-weight: bold\">Let me know if you need a specific time based on the current hour!</span>\n",
       "<span style=\"color: #800000; text-decoration-color: #800000; font-weight: bold\">            Make sure to include code with the correct pattern, for instance:</span>\n",
       "<span style=\"color: #800000; text-decoration-color: #800000; font-weight: bold\">            Thoughts: Your thoughts</span>\n",
       "<span style=\"color: #800000; text-decoration-color: #800000; font-weight: bold\">            Code:</span>\n",
       "<span style=\"color: #800000; text-decoration-color: #800000; font-weight: bold\">            ```py</span>\n",
       "<span style=\"color: #800000; text-decoration-color: #800000; font-weight: bold\">            # Your python code here</span>\n",
       "<span style=\"color: #800000; text-decoration-color: #800000; font-weight: bold\">            ```&lt;</span><span style=\"color: #ff00ff; text-decoration-color: #ff00ff; font-weight: bold\">end_code</span><span style=\"color: #800000; text-decoration-color: #800000; font-weight: bold\">&gt;</span>\n",
       "<span style=\"color: #800000; text-decoration-color: #800000; font-weight: bold\">Make sure to provide correct code blobs.</span>\n",
       "</pre>\n"
      ],
      "text/plain": [
       "\u001b[1;31mError in code parsing:\u001b[0m\n",
       "\u001b[1;31mYour code snippet is invalid, because the regex pattern ```\u001b[0m\u001b[1;31m(\u001b[0m\u001b[1;31m?:py|python\u001b[0m\u001b[1;31m)\u001b[0m\u001b[1;31m?\\\u001b[0m\u001b[1;35mn\u001b[0m\u001b[1;31m(\u001b[0m\u001b[1;31m.*?\u001b[0m\u001b[1;31m)\u001b[0m\u001b[1;31m\\n``` was not found in it.\u001b[0m\n",
       "\u001b[1;31m            Here is your code snippet:\u001b[0m\n",
       "\u001b[1;31m            To determine when the party will be ready, let's add up the total time required for all tasks:\u001b[0m\n",
       "\n",
       "\u001b[1;36m1\u001b[0m\u001b[1;31m. **Prepare the drinks**: \u001b[0m\u001b[1;36m30\u001b[0m\u001b[1;31m minutes\u001b[0m\n",
       "\u001b[1;36m2\u001b[0m\u001b[1;31m. **Decorate the mansion**: \u001b[0m\u001b[1;36m60\u001b[0m\u001b[1;31m minutes\u001b[0m\n",
       "\u001b[1;36m3\u001b[0m\u001b[1;31m. **Set up the menu**: \u001b[0m\u001b[1;36m45\u001b[0m\u001b[1;31m minutes\u001b[0m\n",
       "\u001b[1;36m4\u001b[0m\u001b[1;31m. **Prepare the music and playlist**: \u001b[0m\u001b[1;36m45\u001b[0m\u001b[1;31m minutes\u001b[0m\n",
       "\n",
       "\u001b[1;31mNow, summing these times:\u001b[0m\n",
       "\u001b[1;31m\\\u001b[0m\u001b[1;31m[\u001b[0m\u001b[1;31m \u001b[0m\u001b[1;36m30\u001b[0m\u001b[1;31m + \u001b[0m\u001b[1;36m60\u001b[0m\u001b[1;31m + \u001b[0m\u001b[1;36m45\u001b[0m\u001b[1;31m + \u001b[0m\u001b[1;36m45\u001b[0m\u001b[1;31m = \u001b[0m\u001b[1;36m180\u001b[0m\u001b[1;31m \\text\u001b[0m\u001b[1;31m{\u001b[0m\u001b[1;31m minutes\u001b[0m\u001b[1;31m}\u001b[0m\u001b[1;31m \\\\\u001b[0m\u001b[1;31m]\u001b[0m\n",
       "\n",
       "\u001b[1;31mConvert \u001b[0m\u001b[1;36m180\u001b[0m\u001b[1;31m minutes to hours:\u001b[0m\n",
       "\u001b[1;31m\\\u001b[0m\u001b[1;31m[\u001b[0m\u001b[1;31m \u001b[0m\u001b[1;36m180\u001b[0m\u001b[1;31m \\div \u001b[0m\u001b[1;36m60\u001b[0m\u001b[1;31m = \u001b[0m\u001b[1;36m3\u001b[0m\u001b[1;31m \\text\u001b[0m\u001b[1;31m{\u001b[0m\u001b[1;31m hours\u001b[0m\u001b[1;31m}\u001b[0m\u001b[1;31m \\\\\u001b[0m\u001b[1;31m]\u001b[0m\n",
       "\n",
       "\u001b[1;31mIf we start right now, adding \u001b[0m\u001b[1;36m3\u001b[0m\u001b[1;31m hours will give us the time when the party will be ready. Without a specific \u001b[0m\n",
       "\u001b[1;31mstarting time provided in your message, let's assume it is currently \\\u001b[0m\u001b[1;31m(\u001b[0m\u001b[1;31m X \\\u001b[0m\u001b[1;31m)\u001b[0m\u001b[1;31m o'clock.\u001b[0m\n",
       "\n",
       "\u001b[1;31mAdding \u001b[0m\u001b[1;36m3\u001b[0m\u001b[1;31m hours to \\\u001b[0m\u001b[1;31m(\u001b[0m\u001b[1;31m X \\\u001b[0m\u001b[1;31m)\u001b[0m\u001b[1;31m o'clock:\u001b[0m\n",
       "\u001b[1;31m\\\u001b[0m\u001b[1;31m[\u001b[0m\u001b[1;31m X + \u001b[0m\u001b[1;36m3\u001b[0m\u001b[1;31m \\text\u001b[0m\u001b[1;31m{\u001b[0m\u001b[1;31m hours\u001b[0m\u001b[1;31m}\u001b[0m\u001b[1;31m \\\\\u001b[0m\u001b[1;31m]\u001b[0m\n",
       "\n",
       "\u001b[1;31mSo, the party will be ready at \\\u001b[0m\u001b[1;31m(\u001b[0m\u001b[1;31m \u001b[0m\u001b[1;31m(\u001b[0m\u001b[1;31mX+\u001b[0m\u001b[1;36m3\u001b[0m\u001b[1;31m)\u001b[0m\u001b[1;31m \\\u001b[0m\u001b[1;31m)\u001b[0m\u001b[1;31m o'clock. For example, if it’s currently \u001b[0m\u001b[1;92m2:00\u001b[0m\u001b[1;31m PM, then the party would be\u001b[0m\n",
       "\u001b[1;31mready by \u001b[0m\u001b[1;92m5:00\u001b[0m\u001b[1;31m PM.\u001b[0m\n",
       "\n",
       "\u001b[1;31mLet me know if you need a specific time based on the current hour!\u001b[0m\n",
       "\u001b[1;31m            Make sure to include code with the correct pattern, for instance:\u001b[0m\n",
       "\u001b[1;31m            Thoughts: Your thoughts\u001b[0m\n",
       "\u001b[1;31m            Code:\u001b[0m\n",
       "\u001b[1;31m            ```py\u001b[0m\n",
       "\u001b[1;31m            # Your python code here\u001b[0m\n",
       "\u001b[1;31m            ```\u001b[0m\u001b[1;31m<\u001b[0m\u001b[1;95mend_code\u001b[0m\u001b[1;31m>\u001b[0m\n",
       "\u001b[1;31mMake sure to provide correct code blobs.\u001b[0m\n"
      ]
     },
     "metadata": {},
     "output_type": "display_data"
    },
    {
     "data": {
      "text/html": [
       "<pre style=\"white-space:pre;overflow-x:auto;line-height:normal;font-family:Menlo,'DejaVu Sans Mono',consolas,'Courier New',monospace\"><span style=\"color: #7f7f7f; text-decoration-color: #7f7f7f\">[Step 1: Duration 46.23 seconds| Input tokens: 92 | Output tokens: 269]</span>\n",
       "</pre>\n"
      ],
      "text/plain": [
       "\u001b[2m[Step 1: Duration 46.23 seconds| Input tokens: 92 | Output tokens: 269]\u001b[0m\n"
      ]
     },
     "metadata": {},
     "output_type": "display_data"
    },
    {
     "data": {
      "text/html": [
       "<pre style=\"white-space:pre;overflow-x:auto;line-height:normal;font-family:Menlo,'DejaVu Sans Mono',consolas,'Courier New',monospace\"><span style=\"color: #d4b702; text-decoration-color: #d4b702\">━━━━━━━━━━━━━━━━━━━━━━━━━━━━━━━━━━━━━━━━━━━━━━━━━━━━━ </span><span style=\"font-weight: bold\">Step </span><span style=\"color: #008080; text-decoration-color: #008080; font-weight: bold\">2</span><span style=\"color: #d4b702; text-decoration-color: #d4b702\"> ━━━━━━━━━━━━━━━━━━━━━━━━━━━━━━━━━━━━━━━━━━━━━━━━━━━━━━</span>\n",
       "</pre>\n"
      ],
      "text/plain": [
       "\u001b[38;2;212;183;2m━━━━━━━━━━━━━━━━━━━━━━━━━━━━━━━━━━━━━━━━━━━━━━━━━━━━━ \u001b[0m\u001b[1mStep \u001b[0m\u001b[1;36m2\u001b[0m\u001b[38;2;212;183;2m ━━━━━━━━━━━━━━━━━━━━━━━━━━━━━━━━━━━━━━━━━━━━━━━━━━━━━━\u001b[0m\n"
      ]
     },
     "metadata": {},
     "output_type": "display_data"
    }
   ],
   "source": [
    "agent_new.run(\"Alfred needs to prepare for the party. Here are the tasks: 1. Prepare the drinks - 30 minutes. 2. Decorate the mansion - 60 minutes. 3. Set up the menu - 45 minutes. 4. Prepare the music and playlist - 45 minutes. If we start right now, at what time will the party be ready?\")"
   ]
  },
  {
   "cell_type": "code",
   "execution_count": null,
   "id": "6f060d1c",
   "metadata": {},
   "outputs": [
    {
     "data": {
      "text/html": [
       "<pre style=\"white-space:pre;overflow-x:auto;line-height:normal;font-family:Menlo,'DejaVu Sans Mono',consolas,'Courier New',monospace\"><span style=\"color: #d4b702; text-decoration-color: #d4b702\">╭──────────────────────────────────────────────────── </span><span style=\"color: #d4b702; text-decoration-color: #d4b702; font-weight: bold\">New run</span><span style=\"color: #d4b702; text-decoration-color: #d4b702\"> ────────────────────────────────────────────────────╮</span>\n",
       "<span style=\"color: #d4b702; text-decoration-color: #d4b702\">│</span>                                                                                                                 <span style=\"color: #d4b702; text-decoration-color: #d4b702\">│</span>\n",
       "<span style=\"color: #d4b702; text-decoration-color: #d4b702\">│</span> <span style=\"font-weight: bold\">Alfred needs to prepare for the party. Here are the tasks:</span>                                                      <span style=\"color: #d4b702; text-decoration-color: #d4b702\">│</span>\n",
       "<span style=\"color: #d4b702; text-decoration-color: #d4b702\">│</span> <span style=\"font-weight: bold\">    1. Prepare the drinks - 30 minutes</span>                                                                          <span style=\"color: #d4b702; text-decoration-color: #d4b702\">│</span>\n",
       "<span style=\"color: #d4b702; text-decoration-color: #d4b702\">│</span> <span style=\"font-weight: bold\">    2. Decorate the mansion - 60 minutes</span>                                                                        <span style=\"color: #d4b702; text-decoration-color: #d4b702\">│</span>\n",
       "<span style=\"color: #d4b702; text-decoration-color: #d4b702\">│</span> <span style=\"font-weight: bold\">    3. Set up the menu - 45 minutes</span>                                                                             <span style=\"color: #d4b702; text-decoration-color: #d4b702\">│</span>\n",
       "<span style=\"color: #d4b702; text-decoration-color: #d4b702\">│</span> <span style=\"font-weight: bold\">    3. Prepare the music and playlist - 45 minutes</span>                                                              <span style=\"color: #d4b702; text-decoration-color: #d4b702\">│</span>\n",
       "<span style=\"color: #d4b702; text-decoration-color: #d4b702\">│</span>                                                                                                                 <span style=\"color: #d4b702; text-decoration-color: #d4b702\">│</span>\n",
       "<span style=\"color: #d4b702; text-decoration-color: #d4b702\">│</span> <span style=\"font-weight: bold\">    If we start right now, at what time will the party be ready?</span>                                                <span style=\"color: #d4b702; text-decoration-color: #d4b702\">│</span>\n",
       "<span style=\"color: #d4b702; text-decoration-color: #d4b702\">│</span>                                                                                                                 <span style=\"color: #d4b702; text-decoration-color: #d4b702\">│</span>\n",
       "<span style=\"color: #d4b702; text-decoration-color: #d4b702\">╰─ LiteLLMModel - ollama_chat/qwen2.5:7b ─────────────────────────────────────────────────────────────────────────╯</span>\n",
       "</pre>\n"
      ],
      "text/plain": [
       "\u001b[38;2;212;183;2m╭─\u001b[0m\u001b[38;2;212;183;2m───────────────────────────────────────────────────\u001b[0m\u001b[38;2;212;183;2m \u001b[0m\u001b[1;38;2;212;183;2mNew run\u001b[0m\u001b[38;2;212;183;2m \u001b[0m\u001b[38;2;212;183;2m───────────────────────────────────────────────────\u001b[0m\u001b[38;2;212;183;2m─╮\u001b[0m\n",
       "\u001b[38;2;212;183;2m│\u001b[0m                                                                                                                 \u001b[38;2;212;183;2m│\u001b[0m\n",
       "\u001b[38;2;212;183;2m│\u001b[0m \u001b[1mAlfred needs to prepare for the party. Here are the tasks:\u001b[0m                                                      \u001b[38;2;212;183;2m│\u001b[0m\n",
       "\u001b[38;2;212;183;2m│\u001b[0m \u001b[1m    1. Prepare the drinks - 30 minutes\u001b[0m                                                                          \u001b[38;2;212;183;2m│\u001b[0m\n",
       "\u001b[38;2;212;183;2m│\u001b[0m \u001b[1m    2. Decorate the mansion - 60 minutes\u001b[0m                                                                        \u001b[38;2;212;183;2m│\u001b[0m\n",
       "\u001b[38;2;212;183;2m│\u001b[0m \u001b[1m    3. Set up the menu - 45 minutes\u001b[0m                                                                             \u001b[38;2;212;183;2m│\u001b[0m\n",
       "\u001b[38;2;212;183;2m│\u001b[0m \u001b[1m    3. Prepare the music and playlist - 45 minutes\u001b[0m                                                              \u001b[38;2;212;183;2m│\u001b[0m\n",
       "\u001b[38;2;212;183;2m│\u001b[0m                                                                                                                 \u001b[38;2;212;183;2m│\u001b[0m\n",
       "\u001b[38;2;212;183;2m│\u001b[0m \u001b[1m    If we start right now, at what time will the party be ready?\u001b[0m                                                \u001b[38;2;212;183;2m│\u001b[0m\n",
       "\u001b[38;2;212;183;2m│\u001b[0m                                                                                                                 \u001b[38;2;212;183;2m│\u001b[0m\n",
       "\u001b[38;2;212;183;2m╰─\u001b[0m\u001b[38;2;212;183;2m LiteLLMModel - ollama_chat/qwen2.5:7b \u001b[0m\u001b[38;2;212;183;2m────────────────────────────────────────────────────────────────────────\u001b[0m\u001b[38;2;212;183;2m─╯\u001b[0m\n"
      ]
     },
     "metadata": {},
     "output_type": "display_data"
    },
    {
     "data": {
      "text/html": [
       "<pre style=\"white-space:pre;overflow-x:auto;line-height:normal;font-family:Menlo,'DejaVu Sans Mono',consolas,'Courier New',monospace\"><span style=\"color: #d4b702; text-decoration-color: #d4b702\">━━━━━━━━━━━━━━━━━━━━━━━━━━━━━━━━━━━━━━━━━━━━━━━━━━━━━ </span><span style=\"font-weight: bold\">Step </span><span style=\"color: #008080; text-decoration-color: #008080; font-weight: bold\">1</span><span style=\"color: #d4b702; text-decoration-color: #d4b702\"> ━━━━━━━━━━━━━━━━━━━━━━━━━━━━━━━━━━━━━━━━━━━━━━━━━━━━━━</span>\n",
       "</pre>\n"
      ],
      "text/plain": [
       "\u001b[38;2;212;183;2m━━━━━━━━━━━━━━━━━━━━━━━━━━━━━━━━━━━━━━━━━━━━━━━━━━━━━ \u001b[0m\u001b[1mStep \u001b[0m\u001b[1;36m1\u001b[0m\u001b[38;2;212;183;2m ━━━━━━━━━━━━━━━━━━━━━━━━━━━━━━━━━━━━━━━━━━━━━━━━━━━━━━\u001b[0m\n"
      ]
     },
     "metadata": {},
     "output_type": "display_data"
    },
    {
     "data": {
      "text/html": [
       "<pre style=\"white-space:pre;overflow-x:auto;line-height:normal;font-family:Menlo,'DejaVu Sans Mono',consolas,'Courier New',monospace\"><span style=\"color: #800000; text-decoration-color: #800000; font-weight: bold\">Error in code parsing:</span>\n",
       "<span style=\"color: #800000; text-decoration-color: #800000; font-weight: bold\">Your code snippet is invalid, because the regex pattern ```(?:py|python)?\\</span><span style=\"color: #800080; text-decoration-color: #800080; font-weight: bold\">n</span><span style=\"color: #800000; text-decoration-color: #800000; font-weight: bold\">(.*?)\\n``` was not found in it.</span>\n",
       "<span style=\"color: #800000; text-decoration-color: #800000; font-weight: bold\">            Here is your code snippet:</span>\n",
       "<span style=\"color: #800000; text-decoration-color: #800000; font-weight: bold\">            To determine when the party will be ready, you need to know the current time. Let's denote the current </span>\n",
       "<span style=\"color: #800000; text-decoration-color: #800000; font-weight: bold\">time as \\( T \\).</span>\n",
       "\n",
       "<span style=\"color: #800000; text-decoration-color: #800000; font-weight: bold\">The total preparation time required is:</span>\n",
       "<span style=\"color: #800000; text-decoration-color: #800000; font-weight: bold\">\\[ </span><span style=\"color: #008080; text-decoration-color: #008080; font-weight: bold\">30</span><span style=\"color: #800000; text-decoration-color: #800000; font-weight: bold\"> \\text{ minutes (drinks)} + </span><span style=\"color: #008080; text-decoration-color: #008080; font-weight: bold\">60</span><span style=\"color: #800000; text-decoration-color: #800000; font-weight: bold\"> \\text{ minutes (decorating)} + </span><span style=\"color: #008080; text-decoration-color: #008080; font-weight: bold\">45</span><span style=\"color: #800000; text-decoration-color: #800000; font-weight: bold\"> \\text{ minutes (menu)} + </span><span style=\"color: #008080; text-decoration-color: #008080; font-weight: bold\">45</span><span style=\"color: #800000; text-decoration-color: #800000; font-weight: bold\"> \\text{ minutes </span>\n",
       "<span style=\"color: #800000; text-decoration-color: #800000; font-weight: bold\">(music and playlist)} = </span><span style=\"color: #008080; text-decoration-color: #008080; font-weight: bold\">180</span><span style=\"color: #800000; text-decoration-color: #800000; font-weight: bold\"> \\text{ minutes} \\\\]</span>\n",
       "\n",
       "<span style=\"color: #800000; text-decoration-color: #800000; font-weight: bold\">To find out the time when the party will be ready, you add these </span><span style=\"color: #008080; text-decoration-color: #008080; font-weight: bold\">180</span><span style=\"color: #800000; text-decoration-color: #800000; font-weight: bold\"> minutes to the current time \\( T \\).</span>\n",
       "\n",
       "<span style=\"color: #800000; text-decoration-color: #800000; font-weight: bold\">For example, if the current time is </span><span style=\"color: #00ff00; text-decoration-color: #00ff00; font-weight: bold\">2:00</span><span style=\"color: #800000; text-decoration-color: #800000; font-weight: bold\"> PM:</span>\n",
       "<span style=\"color: #800000; text-decoration-color: #800000; font-weight: bold\">\\[ </span><span style=\"color: #00ff00; text-decoration-color: #00ff00; font-weight: bold\">2:00</span><span style=\"color: #800000; text-decoration-color: #800000; font-weight: bold\"> \\text{ PM} + </span><span style=\"color: #008080; text-decoration-color: #008080; font-weight: bold\">180</span><span style=\"color: #800000; text-decoration-color: #800000; font-weight: bold\"> \\text{ minutes} = </span><span style=\"color: #00ff00; text-decoration-color: #00ff00; font-weight: bold\">4:30</span><span style=\"color: #800000; text-decoration-color: #800000; font-weight: bold\"> \\text{ PM} \\\\]</span>\n",
       "\n",
       "<span style=\"color: #800000; text-decoration-color: #800000; font-weight: bold\">So, the party will be ready at </span><span style=\"color: #00ff00; text-decoration-color: #00ff00; font-weight: bold\">4:30</span><span style=\"color: #800000; text-decoration-color: #800000; font-weight: bold\"> PM (or </span><span style=\"color: #008080; text-decoration-color: #008080; font-weight: bold\">6</span><span style=\"color: #800000; text-decoration-color: #800000; font-weight: bold\"> hours and </span><span style=\"color: #008080; text-decoration-color: #008080; font-weight: bold\">30</span><span style=\"color: #800000; text-decoration-color: #800000; font-weight: bold\"> minutes after </span><span style=\"color: #00ff00; text-decoration-color: #00ff00; font-weight: bold\">2:00</span><span style=\"color: #800000; text-decoration-color: #800000; font-weight: bold\"> PM).</span>\n",
       "\n",
       "<span style=\"color: #800000; text-decoration-color: #800000; font-weight: bold\">If you provide the current time, I can give you a more specific answer.</span>\n",
       "<span style=\"color: #800000; text-decoration-color: #800000; font-weight: bold\">            Make sure to include code with the correct pattern, for instance:</span>\n",
       "<span style=\"color: #800000; text-decoration-color: #800000; font-weight: bold\">            Thoughts: Your thoughts</span>\n",
       "<span style=\"color: #800000; text-decoration-color: #800000; font-weight: bold\">            Code:</span>\n",
       "<span style=\"color: #800000; text-decoration-color: #800000; font-weight: bold\">            ```py</span>\n",
       "<span style=\"color: #800000; text-decoration-color: #800000; font-weight: bold\">            # Your python code here</span>\n",
       "<span style=\"color: #800000; text-decoration-color: #800000; font-weight: bold\">            ```&lt;</span><span style=\"color: #ff00ff; text-decoration-color: #ff00ff; font-weight: bold\">end_code</span><span style=\"color: #800000; text-decoration-color: #800000; font-weight: bold\">&gt;</span>\n",
       "<span style=\"color: #800000; text-decoration-color: #800000; font-weight: bold\">Make sure to provide correct code blobs.</span>\n",
       "</pre>\n"
      ],
      "text/plain": [
       "\u001b[1;31mError in code parsing:\u001b[0m\n",
       "\u001b[1;31mYour code snippet is invalid, because the regex pattern ```\u001b[0m\u001b[1;31m(\u001b[0m\u001b[1;31m?:py|python\u001b[0m\u001b[1;31m)\u001b[0m\u001b[1;31m?\\\u001b[0m\u001b[1;35mn\u001b[0m\u001b[1;31m(\u001b[0m\u001b[1;31m.*?\u001b[0m\u001b[1;31m)\u001b[0m\u001b[1;31m\\n``` was not found in it.\u001b[0m\n",
       "\u001b[1;31m            Here is your code snippet:\u001b[0m\n",
       "\u001b[1;31m            To determine when the party will be ready, you need to know the current time. Let's denote the current \u001b[0m\n",
       "\u001b[1;31mtime as \\\u001b[0m\u001b[1;31m(\u001b[0m\u001b[1;31m T \\\u001b[0m\u001b[1;31m)\u001b[0m\u001b[1;31m.\u001b[0m\n",
       "\n",
       "\u001b[1;31mThe total preparation time required is:\u001b[0m\n",
       "\u001b[1;31m\\\u001b[0m\u001b[1;31m[\u001b[0m\u001b[1;31m \u001b[0m\u001b[1;36m30\u001b[0m\u001b[1;31m \\text\u001b[0m\u001b[1;31m{\u001b[0m\u001b[1;31m minutes \u001b[0m\u001b[1;31m(\u001b[0m\u001b[1;31mdrinks\u001b[0m\u001b[1;31m)\u001b[0m\u001b[1;31m}\u001b[0m\u001b[1;31m + \u001b[0m\u001b[1;36m60\u001b[0m\u001b[1;31m \\text\u001b[0m\u001b[1;31m{\u001b[0m\u001b[1;31m minutes \u001b[0m\u001b[1;31m(\u001b[0m\u001b[1;31mdecorating\u001b[0m\u001b[1;31m)\u001b[0m\u001b[1;31m}\u001b[0m\u001b[1;31m + \u001b[0m\u001b[1;36m45\u001b[0m\u001b[1;31m \\text\u001b[0m\u001b[1;31m{\u001b[0m\u001b[1;31m minutes \u001b[0m\u001b[1;31m(\u001b[0m\u001b[1;31mmenu\u001b[0m\u001b[1;31m)\u001b[0m\u001b[1;31m}\u001b[0m\u001b[1;31m + \u001b[0m\u001b[1;36m45\u001b[0m\u001b[1;31m \\text\u001b[0m\u001b[1;31m{\u001b[0m\u001b[1;31m minutes \u001b[0m\n",
       "\u001b[1;31m(\u001b[0m\u001b[1;31mmusic and playlist\u001b[0m\u001b[1;31m)\u001b[0m\u001b[1;31m}\u001b[0m\u001b[1;31m = \u001b[0m\u001b[1;36m180\u001b[0m\u001b[1;31m \\text\u001b[0m\u001b[1;31m{\u001b[0m\u001b[1;31m minutes\u001b[0m\u001b[1;31m}\u001b[0m\u001b[1;31m \\\\\u001b[0m\u001b[1;31m]\u001b[0m\n",
       "\n",
       "\u001b[1;31mTo find out the time when the party will be ready, you add these \u001b[0m\u001b[1;36m180\u001b[0m\u001b[1;31m minutes to the current time \\\u001b[0m\u001b[1;31m(\u001b[0m\u001b[1;31m T \\\u001b[0m\u001b[1;31m)\u001b[0m\u001b[1;31m.\u001b[0m\n",
       "\n",
       "\u001b[1;31mFor example, if the current time is \u001b[0m\u001b[1;92m2:00\u001b[0m\u001b[1;31m PM:\u001b[0m\n",
       "\u001b[1;31m\\\u001b[0m\u001b[1;31m[\u001b[0m\u001b[1;31m \u001b[0m\u001b[1;92m2:00\u001b[0m\u001b[1;31m \\text\u001b[0m\u001b[1;31m{\u001b[0m\u001b[1;31m PM\u001b[0m\u001b[1;31m}\u001b[0m\u001b[1;31m + \u001b[0m\u001b[1;36m180\u001b[0m\u001b[1;31m \\text\u001b[0m\u001b[1;31m{\u001b[0m\u001b[1;31m minutes\u001b[0m\u001b[1;31m}\u001b[0m\u001b[1;31m = \u001b[0m\u001b[1;92m4:30\u001b[0m\u001b[1;31m \\text\u001b[0m\u001b[1;31m{\u001b[0m\u001b[1;31m PM\u001b[0m\u001b[1;31m}\u001b[0m\u001b[1;31m \\\\\u001b[0m\u001b[1;31m]\u001b[0m\n",
       "\n",
       "\u001b[1;31mSo, the party will be ready at \u001b[0m\u001b[1;92m4:30\u001b[0m\u001b[1;31m PM \u001b[0m\u001b[1;31m(\u001b[0m\u001b[1;31mor \u001b[0m\u001b[1;36m6\u001b[0m\u001b[1;31m hours and \u001b[0m\u001b[1;36m30\u001b[0m\u001b[1;31m minutes after \u001b[0m\u001b[1;92m2:00\u001b[0m\u001b[1;31m PM\u001b[0m\u001b[1;31m)\u001b[0m\u001b[1;31m.\u001b[0m\n",
       "\n",
       "\u001b[1;31mIf you provide the current time, I can give you a more specific answer.\u001b[0m\n",
       "\u001b[1;31m            Make sure to include code with the correct pattern, for instance:\u001b[0m\n",
       "\u001b[1;31m            Thoughts: Your thoughts\u001b[0m\n",
       "\u001b[1;31m            Code:\u001b[0m\n",
       "\u001b[1;31m            ```py\u001b[0m\n",
       "\u001b[1;31m            # Your python code here\u001b[0m\n",
       "\u001b[1;31m            ```\u001b[0m\u001b[1;31m<\u001b[0m\u001b[1;95mend_code\u001b[0m\u001b[1;31m>\u001b[0m\n",
       "\u001b[1;31mMake sure to provide correct code blobs.\u001b[0m\n"
      ]
     },
     "metadata": {},
     "output_type": "display_data"
    },
    {
     "data": {
      "text/html": [
       "<pre style=\"white-space:pre;overflow-x:auto;line-height:normal;font-family:Menlo,'DejaVu Sans Mono',consolas,'Courier New',monospace\"><span style=\"color: #7f7f7f; text-decoration-color: #7f7f7f\">[Step 1: Duration 39.77 seconds| Input tokens: 98 | Output tokens: 221]</span>\n",
       "</pre>\n"
      ],
      "text/plain": [
       "\u001b[2m[Step 1: Duration 39.77 seconds| Input tokens: 98 | Output tokens: 221]\u001b[0m\n"
      ]
     },
     "metadata": {},
     "output_type": "display_data"
    },
    {
     "data": {
      "text/html": [
       "<pre style=\"white-space:pre;overflow-x:auto;line-height:normal;font-family:Menlo,'DejaVu Sans Mono',consolas,'Courier New',monospace\"><span style=\"color: #d4b702; text-decoration-color: #d4b702\">━━━━━━━━━━━━━━━━━━━━━━━━━━━━━━━━━━━━━━━━━━━━━━━━━━━━━ </span><span style=\"font-weight: bold\">Step </span><span style=\"color: #008080; text-decoration-color: #008080; font-weight: bold\">2</span><span style=\"color: #d4b702; text-decoration-color: #d4b702\"> ━━━━━━━━━━━━━━━━━━━━━━━━━━━━━━━━━━━━━━━━━━━━━━━━━━━━━━</span>\n",
       "</pre>\n"
      ],
      "text/plain": [
       "\u001b[38;2;212;183;2m━━━━━━━━━━━━━━━━━━━━━━━━━━━━━━━━━━━━━━━━━━━━━━━━━━━━━ \u001b[0m\u001b[1mStep \u001b[0m\u001b[1;36m2\u001b[0m\u001b[38;2;212;183;2m ━━━━━━━━━━━━━━━━━━━━━━━━━━━━━━━━━━━━━━━━━━━━━━━━━━━━━━\u001b[0m\n"
      ]
     },
     "metadata": {},
     "output_type": "display_data"
    }
   ],
   "source": [
    "from smolagents import CodeAgent, HfApiModel\n",
    "import numpy as np\n",
    "import time\n",
    "import datetime\n",
    "\n",
    "agent = CodeAgent(tools=[], model=model_new, additional_authorized_imports=['datetime'])\n",
    "\n",
    "agent.run(\n",
    "    \"\"\"\n",
    "    Alfred needs to prepare for the party. Here are the tasks:\n",
    "    1. Prepare the drinks - 30 minutes\n",
    "    2. Decorate the mansion - 60 minutes\n",
    "    3. Set up the menu - 45 minutes\n",
    "    3. Prepare the music and playlist - 45 minutes\n",
    "\n",
    "    If we start right now, at what time will the party be ready?\n",
    "    \"\"\"\n",
    ")"
   ]
  },
  {
   "cell_type": "code",
   "execution_count": null,
   "id": "aaea6bd2",
   "metadata": {},
   "outputs": [],
   "source": []
  }
 ],
 "metadata": {
  "kernelspec": {
   "display_name": "venv",
   "language": "python",
   "name": "python3"
  },
  "language_info": {
   "codemirror_mode": {
    "name": "ipython",
    "version": 3
   },
   "file_extension": ".py",
   "mimetype": "text/x-python",
   "name": "python",
   "nbconvert_exporter": "python",
   "pygments_lexer": "ipython3",
   "version": "3.10.0"
  }
 },
 "nbformat": 4,
 "nbformat_minor": 5
}
