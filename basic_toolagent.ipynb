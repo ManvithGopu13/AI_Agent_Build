{
 "cells": [
  {
   "cell_type": "code",
   "execution_count": 2,
   "id": "721ee6e2",
   "metadata": {},
   "outputs": [],
   "source": [
    "from smolagents import ToolCallingAgent, LiteLLMModel, DuckDuckGoSearchTool"
   ]
  },
  {
   "cell_type": "code",
   "execution_count": 3,
   "id": "e6966599",
   "metadata": {},
   "outputs": [],
   "source": [
    "model = LiteLLMModel(\n",
    "    model_id= \"ollama_chat/qwen2.5:7b\",\n",
    "    api_base=\"http://127.0.0.1:11434\",\n",
    "    api_key=\"1122\"\n",
    ")"
   ]
  },
  {
   "cell_type": "code",
   "execution_count": 4,
   "id": "ed1b754b",
   "metadata": {},
   "outputs": [],
   "source": [
    "agent = ToolCallingAgent(\n",
    "    tools=[DuckDuckGoSearchTool()],\n",
    "    model=model,\n",
    ")"
   ]
  },
  {
   "cell_type": "code",
   "execution_count": null,
   "id": "16c9a940",
   "metadata": {},
   "outputs": [
    {
     "data": {
      "text/html": [
       "<pre style=\"white-space:pre;overflow-x:auto;line-height:normal;font-family:Menlo,'DejaVu Sans Mono',consolas,'Courier New',monospace\"><span style=\"color: #d4b702; text-decoration-color: #d4b702\">╭──────────────────────────────────────────────────── </span><span style=\"color: #d4b702; text-decoration-color: #d4b702; font-weight: bold\">New run</span><span style=\"color: #d4b702; text-decoration-color: #d4b702\"> ────────────────────────────────────────────────────╮</span>\n",
       "<span style=\"color: #d4b702; text-decoration-color: #d4b702\">│</span>                                                                                                                 <span style=\"color: #d4b702; text-decoration-color: #d4b702\">│</span>\n",
       "<span style=\"color: #d4b702; text-decoration-color: #d4b702\">│</span> <span style=\"font-weight: bold\">Search for the best music recommendations for a party at the Wayne's mansion.</span>                                   <span style=\"color: #d4b702; text-decoration-color: #d4b702\">│</span>\n",
       "<span style=\"color: #d4b702; text-decoration-color: #d4b702\">│</span>                                                                                                                 <span style=\"color: #d4b702; text-decoration-color: #d4b702\">│</span>\n",
       "<span style=\"color: #d4b702; text-decoration-color: #d4b702\">╰─ LiteLLMModel - ollama_chat/qwen2.5:7b ─────────────────────────────────────────────────────────────────────────╯</span>\n",
       "</pre>\n"
      ],
      "text/plain": [
       "\u001b[38;2;212;183;2m╭─\u001b[0m\u001b[38;2;212;183;2m───────────────────────────────────────────────────\u001b[0m\u001b[38;2;212;183;2m \u001b[0m\u001b[1;38;2;212;183;2mNew run\u001b[0m\u001b[38;2;212;183;2m \u001b[0m\u001b[38;2;212;183;2m───────────────────────────────────────────────────\u001b[0m\u001b[38;2;212;183;2m─╮\u001b[0m\n",
       "\u001b[38;2;212;183;2m│\u001b[0m                                                                                                                 \u001b[38;2;212;183;2m│\u001b[0m\n",
       "\u001b[38;2;212;183;2m│\u001b[0m \u001b[1mSearch for the best music recommendations for a party at the Wayne's mansion.\u001b[0m                                   \u001b[38;2;212;183;2m│\u001b[0m\n",
       "\u001b[38;2;212;183;2m│\u001b[0m                                                                                                                 \u001b[38;2;212;183;2m│\u001b[0m\n",
       "\u001b[38;2;212;183;2m╰─\u001b[0m\u001b[38;2;212;183;2m LiteLLMModel - ollama_chat/qwen2.5:7b \u001b[0m\u001b[38;2;212;183;2m────────────────────────────────────────────────────────────────────────\u001b[0m\u001b[38;2;212;183;2m─╯\u001b[0m\n"
      ]
     },
     "metadata": {},
     "output_type": "display_data"
    },
    {
     "data": {
      "text/html": [
       "<pre style=\"white-space:pre;overflow-x:auto;line-height:normal;font-family:Menlo,'DejaVu Sans Mono',consolas,'Courier New',monospace\"><span style=\"color: #d4b702; text-decoration-color: #d4b702\">━━━━━━━━━━━━━━━━━━━━━━━━━━━━━━━━━━━━━━━━━━━━━━━━━━━━━ </span><span style=\"font-weight: bold\">Step </span><span style=\"color: #008080; text-decoration-color: #008080; font-weight: bold\">1</span><span style=\"color: #d4b702; text-decoration-color: #d4b702\"> ━━━━━━━━━━━━━━━━━━━━━━━━━━━━━━━━━━━━━━━━━━━━━━━━━━━━━━</span>\n",
       "</pre>\n"
      ],
      "text/plain": [
       "\u001b[38;2;212;183;2m━━━━━━━━━━━━━━━━━━━━━━━━━━━━━━━━━━━━━━━━━━━━━━━━━━━━━ \u001b[0m\u001b[1mStep \u001b[0m\u001b[1;36m1\u001b[0m\u001b[38;2;212;183;2m ━━━━━━━━━━━━━━━━━━━━━━━━━━━━━━━━━━━━━━━━━━━━━━━━━━━━━━\u001b[0m\n"
      ]
     },
     "metadata": {},
     "output_type": "display_data"
    },
    {
     "data": {
      "text/html": [
       "<pre style=\"white-space:pre;overflow-x:auto;line-height:normal;font-family:Menlo,'DejaVu Sans Mono',consolas,'Courier New',monospace\">╭─────────────────────────────────────────────────────────────────────────────────────────────────────────────────╮\n",
       "│ Calling tool: 'web_search' with arguments: {'query': 'best music for party at mansion like gary werner'}        │\n",
       "╰─────────────────────────────────────────────────────────────────────────────────────────────────────────────────╯\n",
       "</pre>\n"
      ],
      "text/plain": [
       "╭─────────────────────────────────────────────────────────────────────────────────────────────────────────────────╮\n",
       "│ Calling tool: 'web_search' with arguments: {'query': 'best music for party at mansion like gary werner'}        │\n",
       "╰─────────────────────────────────────────────────────────────────────────────────────────────────────────────────╯\n"
      ]
     },
     "metadata": {},
     "output_type": "display_data"
    },
    {
     "data": {
      "text/html": [
       "<pre style=\"white-space:pre;overflow-x:auto;line-height:normal;font-family:Menlo,'DejaVu Sans Mono',consolas,'Courier New',monospace\">Observations: ## Search Results\n",
       "\n",
       "|The <span style=\"color: #008080; text-decoration-color: #008080; font-weight: bold\">75</span> Best Party Songs That Will Get Everyone Dancing - \n",
       "Gear4music<span style=\"font-weight: bold\">](</span><span style=\"color: #0000ff; text-decoration-color: #0000ff; text-decoration: underline\">https://www.gear4music.com/blog/best-party-songs/)</span>\n",
       "The best party songs <span style=\"color: #008080; text-decoration-color: #008080; font-weight: bold\">1</span>. <span style=\"color: #008000; text-decoration-color: #008000\">\"September\"</span> - Earth, Wind &amp; Fire <span style=\"font-weight: bold\">(</span><span style=\"color: #008080; text-decoration-color: #008080; font-weight: bold\">1978</span><span style=\"font-weight: bold\">)</span> Quite possibly the best party song. An infectious \n",
       "mix of funk and soul, <span style=\"color: #008000; text-decoration-color: #008000\">\"September\"</span> is celebrated for its upbeat melody and <span style=\"color: #008000; text-decoration-color: #008000\">\"ba-dee-ya\"</span> chorus, making it a timeless \n",
       "dance favorite.\n",
       "\n",
       "|<span style=\"color: #008080; text-decoration-color: #008080; font-weight: bold\">45</span> Songs That Get Your Event Guests on the Dance Floor Every \n",
       "Time<span style=\"font-weight: bold\">](</span><span style=\"color: #0000ff; text-decoration-color: #0000ff; text-decoration: underline\">https://hub.theeventplannerexpo.com/entertainment/35-songs-that-get-your-event-guests-on-the-dance-floor-ever</span>\n",
       "<span style=\"color: #0000ff; text-decoration-color: #0000ff; text-decoration: underline\">y-time)</span>\n",
       "You'll know your client's event best, including music genre preferences and styles. But these songs are wildly \n",
       "popular among many generations and are always great to have on standby should your dance guests need a boost. Party\n",
       "Songs <span style=\"color: #008000; text-decoration-color: #008000\">\"Flowers\"</span> by Miley Cyrus <span style=\"font-weight: bold\">(</span><span style=\"color: #008080; text-decoration-color: #008080; font-weight: bold\">2023</span><span style=\"font-weight: bold\">)</span> <span style=\"color: #008000; text-decoration-color: #008000\">\"TQG\"</span> by KAROL G &amp; Shakira <span style=\"font-weight: bold\">(</span><span style=\"color: #008080; text-decoration-color: #008080; font-weight: bold\">2023</span><span style=\"font-weight: bold\">)</span> <span style=\"color: #008000; text-decoration-color: #008000\">\"TRUSTFALL\"</span> by P!nk <span style=\"font-weight: bold\">(</span><span style=\"color: #008080; text-decoration-color: #008080; font-weight: bold\">2023</span><span style=\"font-weight: bold\">)</span>\n",
       "\n",
       "|<span style=\"color: #008080; text-decoration-color: #008080; font-weight: bold\">50</span> Songs on Every Event Planner's Playlist - \n",
       "Eventbrite<span style=\"font-weight: bold\">](</span><span style=\"color: #0000ff; text-decoration-color: #0000ff; text-decoration: underline\">https://www.eventbrite.com/blog/event-planning-playlist-ds00/)</span>\n",
       "Music sets the mood and provides the soundtrack <span style=\"font-weight: bold\">(</span>literally<span style=\"font-weight: bold\">)</span> for a memorable and exciting time. While the right \n",
       "songs can enhance the experience, the wrong event music can throw off the vibe. For example, fast-paced songs \n",
       "probably aren't the best fit for a formal gala. And smooth jazz is likely to lull your guests at a motivational \n",
       "conference.\n",
       "\n",
       "|<span style=\"color: #008080; text-decoration-color: #008080; font-weight: bold\">50</span>+ Best Songs For Your Next Party in <span style=\"color: #008080; text-decoration-color: #008080; font-weight: bold\">2025</span> - Aleka's \n",
       "Get-Together<span style=\"font-weight: bold\">](</span><span style=\"color: #0000ff; text-decoration-color: #0000ff; text-decoration: underline\">https://alekasgettogether.com/top-songs-for-any-party/)</span>\n",
       "Whether you're planning a How To Host The Best Party At Home or just want to liven up your playlist, we've got you \n",
       "covered with <span style=\"color: #008080; text-decoration-color: #008080; font-weight: bold\">100</span> crowd-pleasing tunes. From timeless classics to modern hits, these songs are guaranteed to keep \n",
       "the energy high and the good times rolling all night long. <span style=\"color: #008080; text-decoration-color: #008080; font-weight: bold\">50</span> Popular Party Songs. Uptown Funk - Mark Ronson ft <span style=\"color: #808000; text-decoration-color: #808000\">...</span>\n",
       "\n",
       "|Dance-party playlist: <span style=\"color: #008080; text-decoration-color: #008080; font-weight: bold\">100</span> greatest songs for an epic party - Time \n",
       "Out<span style=\"font-weight: bold\">](</span><span style=\"color: #0000ff; text-decoration-color: #0000ff; text-decoration: underline\">https://www.timeout.com/music/dance-party-playlist-100-greatest-songs-for-an-epic-party)</span>\n",
       "There are songs your mom likes, songs your cool younger brother likes and above all, songs you like: Party hits so \n",
       "potent, they get you singing along in the supermarket, or air-punching when they <span style=\"color: #808000; text-decoration-color: #808000\">...</span>\n",
       "\n",
       "|Best Songs To Party: DJ's Ultimate Party Songs Playlist - \n",
       "Top40Weekly.com<span style=\"font-weight: bold\">](</span><span style=\"color: #0000ff; text-decoration-color: #0000ff; text-decoration: underline\">https://top40weekly.com/best-songs-to-party/)</span>\n",
       "Don't forget the music! We've compiled the best songs to party that are sure to get everyone in the mood to dance \n",
       "and have a good time. <span style=\"color: #808000; text-decoration-color: #808000\">...</span> The song's catchy chorus, <span style=\"color: #008000; text-decoration-color: #008000\">\"Go, shorty, it's your birthday / We gon' party like it's your </span>\n",
       "<span style=\"color: #008000; text-decoration-color: #008000\">birthday,\"</span> has become a universal invitation to let loose and embrace the carefree spirit of the moment. <span style=\"color: #808000; text-decoration-color: #808000\">...</span>\n",
       "\n",
       "|<span style=\"color: #008080; text-decoration-color: #008080; font-weight: bold\">40</span> Best Party Songs | Songs To Dance To, Ranked By Our Editors - Time \n",
       "Out<span style=\"font-weight: bold\">](</span><span style=\"color: #0000ff; text-decoration-color: #0000ff; text-decoration: underline\">https://www.timeout.com/music/best-party-songs)</span>\n",
       "The best is when you go for the extended version, and find yourself in the midst of the intro for about <span style=\"color: #008080; text-decoration-color: #008080; font-weight: bold\">11</span> minutes.\n",
       "But whichever version you go for, this is the party song, in every way. She <span style=\"color: #808000; text-decoration-color: #808000\">...</span>\n",
       "\n",
       "|<span style=\"color: #008080; text-decoration-color: #008080; font-weight: bold\">100</span> Best Party Songs: The Ultimate Party Playlist<span style=\"font-weight: bold\">](</span><span style=\"color: #0000ff; text-decoration-color: #0000ff; text-decoration: underline\">https://audiocaptain.com/best-party-songs/)</span>\n",
       "Here's the <span style=\"color: #008080; text-decoration-color: #008080; font-weight: bold\">100</span> best party songs of all time you can use to create your ultimate party playlist in <span style=\"color: #008080; text-decoration-color: #008080; font-weight: bold\">2025</span>. Here are \n",
       "the <span style=\"color: #008080; text-decoration-color: #008080; font-weight: bold\">100</span> best party songs of all time that you can use to create your ultimate party playlist. <span style=\"color: #808000; text-decoration-color: #808000\">...</span> <span style=\"color: #008000; text-decoration-color: #008000\">\"get up and </span>\n",
       "<span style=\"color: #008000; text-decoration-color: #008000\">dance!\"</span> Or at least party like it's <span style=\"color: #008080; text-decoration-color: #008080; font-weight: bold\">1999</span>! Listen to the music on YouTube and see if you disagree with us. Best 90s \n",
       "<span style=\"color: #808000; text-decoration-color: #808000\">...</span>\n",
       "\n",
       "|Best Songs for a Party - Deezer The Backstage<span style=\"font-weight: bold\">](</span><span style=\"color: #0000ff; text-decoration-color: #0000ff; text-decoration: underline\">https://thebackstage-deezer.com/tops/best-song-party/)</span>\n",
       "Finally, close your party with a bang. High-energy anthems like Journey's <span style=\"color: #008000; text-decoration-color: #008000\">\"Don't Stop Believin'\"</span> or Daft Punk's \n",
       "<span style=\"color: #008000; text-decoration-color: #008000\">\"One More Time\"</span> ensure your guests leave on a high. The best party songs to get people dancing at the end of the \n",
       "night always keep them on their toes. <span style=\"color: #808000; text-decoration-color: #808000\">...</span> The best party songs blend different genres and eras, to ensure <span style=\"color: #808000; text-decoration-color: #808000\">...</span>\n",
       "\n",
       "|Best Party Playlist: <span style=\"color: #008080; text-decoration-color: #008080; font-weight: bold\">25</span> High-Energy Songs for the Ultimate \n",
       "Celebration<span style=\"font-weight: bold\">](</span><span style=\"color: #0000ff; text-decoration-color: #0000ff; text-decoration: underline\">https://audioassemble.com/best-party-playlist/)</span>\n",
       "Whether you're planning a weekend house party, a birthday bash, or an impromptu dance-off, every celebration \n",
       "deserves the perfect soundtrack. Our selection of <span style=\"color: #008080; text-decoration-color: #008080; font-weight: bold\">25</span> high-energy songs are tried-and-true crowd pleasers that \n",
       "seamlessly blend different genres and eras, ensuring there's something for everyone.\n",
       "</pre>\n"
      ],
      "text/plain": [
       "Observations: ## Search Results\n",
       "\n",
       "|The \u001b[1;36m75\u001b[0m Best Party Songs That Will Get Everyone Dancing - \n",
       "Gear4music\u001b[1m]\u001b[0m\u001b[1m(\u001b[0m\u001b[4;94mhttps://www.gear4music.com/blog/best-party-songs/\u001b[0m\u001b[4;94m)\u001b[0m\n",
       "The best party songs \u001b[1;36m1\u001b[0m. \u001b[32m\"September\"\u001b[0m - Earth, Wind & Fire \u001b[1m(\u001b[0m\u001b[1;36m1978\u001b[0m\u001b[1m)\u001b[0m Quite possibly the best party song. An infectious \n",
       "mix of funk and soul, \u001b[32m\"September\"\u001b[0m is celebrated for its upbeat melody and \u001b[32m\"ba-dee-ya\"\u001b[0m chorus, making it a timeless \n",
       "dance favorite.\n",
       "\n",
       "|\u001b[1;36m45\u001b[0m Songs That Get Your Event Guests on the Dance Floor Every \n",
       "Time\u001b[1m]\u001b[0m\u001b[1m(\u001b[0m\u001b[4;94mhttps://hub.theeventplannerexpo.com/entertainment/35-songs-that-get-your-event-guests-on-the-dance-floor-ever\u001b[0m\n",
       "\u001b[4;94my-time\u001b[0m\u001b[4;94m)\u001b[0m\n",
       "You'll know your client's event best, including music genre preferences and styles. But these songs are wildly \n",
       "popular among many generations and are always great to have on standby should your dance guests need a boost. Party\n",
       "Songs \u001b[32m\"Flowers\"\u001b[0m by Miley Cyrus \u001b[1m(\u001b[0m\u001b[1;36m2023\u001b[0m\u001b[1m)\u001b[0m \u001b[32m\"TQG\"\u001b[0m by KAROL G & Shakira \u001b[1m(\u001b[0m\u001b[1;36m2023\u001b[0m\u001b[1m)\u001b[0m \u001b[32m\"TRUSTFALL\"\u001b[0m by P!nk \u001b[1m(\u001b[0m\u001b[1;36m2023\u001b[0m\u001b[1m)\u001b[0m\n",
       "\n",
       "|\u001b[1;36m50\u001b[0m Songs on Every Event Planner's Playlist - \n",
       "Eventbrite\u001b[1m]\u001b[0m\u001b[1m(\u001b[0m\u001b[4;94mhttps://www.eventbrite.com/blog/event-planning-playlist-ds00/\u001b[0m\u001b[4;94m)\u001b[0m\n",
       "Music sets the mood and provides the soundtrack \u001b[1m(\u001b[0mliterally\u001b[1m)\u001b[0m for a memorable and exciting time. While the right \n",
       "songs can enhance the experience, the wrong event music can throw off the vibe. For example, fast-paced songs \n",
       "probably aren't the best fit for a formal gala. And smooth jazz is likely to lull your guests at a motivational \n",
       "conference.\n",
       "\n",
       "|\u001b[1;36m50\u001b[0m+ Best Songs For Your Next Party in \u001b[1;36m2025\u001b[0m - Aleka's \n",
       "Get-Together\u001b[1m]\u001b[0m\u001b[1m(\u001b[0m\u001b[4;94mhttps://alekasgettogether.com/top-songs-for-any-party/\u001b[0m\u001b[4;94m)\u001b[0m\n",
       "Whether you're planning a How To Host The Best Party At Home or just want to liven up your playlist, we've got you \n",
       "covered with \u001b[1;36m100\u001b[0m crowd-pleasing tunes. From timeless classics to modern hits, these songs are guaranteed to keep \n",
       "the energy high and the good times rolling all night long. \u001b[1;36m50\u001b[0m Popular Party Songs. Uptown Funk - Mark Ronson ft \u001b[33m...\u001b[0m\n",
       "\n",
       "|Dance-party playlist: \u001b[1;36m100\u001b[0m greatest songs for an epic party - Time \n",
       "Out\u001b[1m]\u001b[0m\u001b[1m(\u001b[0m\u001b[4;94mhttps://www.timeout.com/music/dance-party-playlist-100-greatest-songs-for-an-epic-party\u001b[0m\u001b[4;94m)\u001b[0m\n",
       "There are songs your mom likes, songs your cool younger brother likes and above all, songs you like: Party hits so \n",
       "potent, they get you singing along in the supermarket, or air-punching when they \u001b[33m...\u001b[0m\n",
       "\n",
       "|Best Songs To Party: DJ's Ultimate Party Songs Playlist - \n",
       "Top40Weekly.com\u001b[1m]\u001b[0m\u001b[1m(\u001b[0m\u001b[4;94mhttps://top40weekly.com/best-songs-to-party/\u001b[0m\u001b[4;94m)\u001b[0m\n",
       "Don't forget the music! We've compiled the best songs to party that are sure to get everyone in the mood to dance \n",
       "and have a good time. \u001b[33m...\u001b[0m The song's catchy chorus, \u001b[32m\"Go, shorty, it's your birthday / We gon' party like it's your \u001b[0m\n",
       "\u001b[32mbirthday,\"\u001b[0m has become a universal invitation to let loose and embrace the carefree spirit of the moment. \u001b[33m...\u001b[0m\n",
       "\n",
       "|\u001b[1;36m40\u001b[0m Best Party Songs | Songs To Dance To, Ranked By Our Editors - Time \n",
       "Out\u001b[1m]\u001b[0m\u001b[1m(\u001b[0m\u001b[4;94mhttps://www.timeout.com/music/best-party-songs\u001b[0m\u001b[4;94m)\u001b[0m\n",
       "The best is when you go for the extended version, and find yourself in the midst of the intro for about \u001b[1;36m11\u001b[0m minutes.\n",
       "But whichever version you go for, this is the party song, in every way. She \u001b[33m...\u001b[0m\n",
       "\n",
       "|\u001b[1;36m100\u001b[0m Best Party Songs: The Ultimate Party Playlist\u001b[1m]\u001b[0m\u001b[1m(\u001b[0m\u001b[4;94mhttps://audiocaptain.com/best-party-songs/\u001b[0m\u001b[4;94m)\u001b[0m\n",
       "Here's the \u001b[1;36m100\u001b[0m best party songs of all time you can use to create your ultimate party playlist in \u001b[1;36m2025\u001b[0m. Here are \n",
       "the \u001b[1;36m100\u001b[0m best party songs of all time that you can use to create your ultimate party playlist. \u001b[33m...\u001b[0m \u001b[32m\"get up and \u001b[0m\n",
       "\u001b[32mdance!\"\u001b[0m Or at least party like it's \u001b[1;36m1999\u001b[0m! Listen to the music on YouTube and see if you disagree with us. Best 90s \n",
       "\u001b[33m...\u001b[0m\n",
       "\n",
       "|Best Songs for a Party - Deezer The Backstage\u001b[1m]\u001b[0m\u001b[1m(\u001b[0m\u001b[4;94mhttps://thebackstage-deezer.com/tops/best-song-party/\u001b[0m\u001b[4;94m)\u001b[0m\n",
       "Finally, close your party with a bang. High-energy anthems like Journey's \u001b[32m\"Don't Stop Believin'\"\u001b[0m or Daft Punk's \n",
       "\u001b[32m\"One More Time\"\u001b[0m ensure your guests leave on a high. The best party songs to get people dancing at the end of the \n",
       "night always keep them on their toes. \u001b[33m...\u001b[0m The best party songs blend different genres and eras, to ensure \u001b[33m...\u001b[0m\n",
       "\n",
       "|Best Party Playlist: \u001b[1;36m25\u001b[0m High-Energy Songs for the Ultimate \n",
       "Celebration\u001b[1m]\u001b[0m\u001b[1m(\u001b[0m\u001b[4;94mhttps://audioassemble.com/best-party-playlist/\u001b[0m\u001b[4;94m)\u001b[0m\n",
       "Whether you're planning a weekend house party, a birthday bash, or an impromptu dance-off, every celebration \n",
       "deserves the perfect soundtrack. Our selection of \u001b[1;36m25\u001b[0m high-energy songs are tried-and-true crowd pleasers that \n",
       "seamlessly blend different genres and eras, ensuring there's something for everyone.\n"
      ]
     },
     "metadata": {},
     "output_type": "display_data"
    },
    {
     "data": {
      "text/html": [
       "<pre style=\"white-space:pre;overflow-x:auto;line-height:normal;font-family:Menlo,'DejaVu Sans Mono',consolas,'Courier New',monospace\"><span style=\"color: #7f7f7f; text-decoration-color: #7f7f7f\">[Step 1: Duration 153.58 seconds| Input tokens: 1,131 | Output tokens: 30]</span>\n",
       "</pre>\n"
      ],
      "text/plain": [
       "\u001b[2m[Step 1: Duration 153.58 seconds| Input tokens: 1,131 | Output tokens: 30]\u001b[0m\n"
      ]
     },
     "metadata": {},
     "output_type": "display_data"
    },
    {
     "data": {
      "text/html": [
       "<pre style=\"white-space:pre;overflow-x:auto;line-height:normal;font-family:Menlo,'DejaVu Sans Mono',consolas,'Courier New',monospace\"><span style=\"color: #d4b702; text-decoration-color: #d4b702\">━━━━━━━━━━━━━━━━━━━━━━━━━━━━━━━━━━━━━━━━━━━━━━━━━━━━━ </span><span style=\"font-weight: bold\">Step </span><span style=\"color: #008080; text-decoration-color: #008080; font-weight: bold\">2</span><span style=\"color: #d4b702; text-decoration-color: #d4b702\"> ━━━━━━━━━━━━━━━━━━━━━━━━━━━━━━━━━━━━━━━━━━━━━━━━━━━━━━</span>\n",
       "</pre>\n"
      ],
      "text/plain": [
       "\u001b[38;2;212;183;2m━━━━━━━━━━━━━━━━━━━━━━━━━━━━━━━━━━━━━━━━━━━━━━━━━━━━━ \u001b[0m\u001b[1mStep \u001b[0m\u001b[1;36m2\u001b[0m\u001b[38;2;212;183;2m ━━━━━━━━━━━━━━━━━━━━━━━━━━━━━━━━━━━━━━━━━━━━━━━━━━━━━━\u001b[0m\n"
      ]
     },
     "metadata": {},
     "output_type": "display_data"
    },
    {
     "data": {
      "text/html": [
       "<pre style=\"white-space:pre;overflow-x:auto;line-height:normal;font-family:Menlo,'DejaVu Sans Mono',consolas,'Courier New',monospace\"><span style=\"color: #800000; text-decoration-color: #800000; font-weight: bold\">Error while generating or parsing output:</span>\n",
       "<span style=\"color: #800000; text-decoration-color: #800000; font-weight: bold\">The JSON blob you used is invalid due to the following error: Expecting property name enclosed in double quotes: </span>\n",
       "<span style=\"color: #800000; text-decoration-color: #800000; font-weight: bold\">line </span><span style=\"color: #008080; text-decoration-color: #008080; font-weight: bold\">1</span><span style=\"color: #800000; text-decoration-color: #800000; font-weight: bold\"> column </span><span style=\"color: #008080; text-decoration-color: #008080; font-weight: bold\">2</span><span style=\"color: #800000; text-decoration-color: #800000; font-weight: bold\"> (char </span><span style=\"color: #008080; text-decoration-color: #008080; font-weight: bold\">1</span><span style=\"color: #800000; text-decoration-color: #800000; font-weight: bold\">).</span>\n",
       "<span style=\"color: #800000; text-decoration-color: #800000; font-weight: bold\">JSON blob was: &lt;</span><span style=\"color: #ff00ff; text-decoration-color: #ff00ff; font-weight: bold\">tool_call</span><span style=\"color: #800000; text-decoration-color: #800000; font-weight: bold\">&gt;ystem{Since you're looking for party songs, I'll focus on the top suggestions from the </span>\n",
       "<span style=\"color: #800000; text-decoration-color: #800000; font-weight: bold\">sources provided. Here are some popular and energetic party hits:</span>\n",
       "\n",
       "<span style=\"color: #008080; text-decoration-color: #008080; font-weight: bold\">1</span><span style=\"color: #800000; text-decoration-color: #800000; font-weight: bold\">. </span><span style=\"color: #008000; text-decoration-color: #008000\">\"September\"</span><span style=\"color: #800000; text-decoration-color: #800000; font-weight: bold\"> - Earth, Wind &amp; Fire (</span><span style=\"color: #008080; text-decoration-color: #008080; font-weight: bold\">1978</span><span style=\"color: #800000; text-decoration-color: #800000; font-weight: bold\">)</span>\n",
       "<span style=\"color: #008080; text-decoration-color: #008080; font-weight: bold\">2</span><span style=\"color: #800000; text-decoration-color: #800000; font-weight: bold\">. </span><span style=\"color: #008000; text-decoration-color: #008000\">\"Flowers\"</span><span style=\"color: #800000; text-decoration-color: #800000; font-weight: bold\"> by Miley Cyrus (</span><span style=\"color: #008080; text-decoration-color: #008080; font-weight: bold\">2023</span><span style=\"color: #800000; text-decoration-color: #800000; font-weight: bold\">)</span>\n",
       "<span style=\"color: #008080; text-decoration-color: #008080; font-weight: bold\">3</span><span style=\"color: #800000; text-decoration-color: #800000; font-weight: bold\">. </span><span style=\"color: #008000; text-decoration-color: #008000\">\"TQG\"</span><span style=\"color: #800000; text-decoration-color: #800000; font-weight: bold\"> by KAROL G &amp; Shakira (</span><span style=\"color: #008080; text-decoration-color: #008080; font-weight: bold\">2023</span><span style=\"color: #800000; text-decoration-color: #800000; font-weight: bold\">)</span>\n",
       "<span style=\"color: #008080; text-decoration-color: #008080; font-weight: bold\">4</span><span style=\"color: #800000; text-decoration-color: #800000; font-weight: bold\">. </span><span style=\"color: #008000; text-decoration-color: #008000\">\"TRUSTFALL\"</span><span style=\"color: #800000; text-decoration-color: #800000; font-weight: bold\"> by P!nk (</span><span style=\"color: #008080; text-decoration-color: #008080; font-weight: bold\">2023</span><span style=\"color: #800000; text-decoration-color: #800000; font-weight: bold\">)</span>\n",
       "<span style=\"color: #008080; text-decoration-color: #008080; font-weight: bold\">5</span><span style=\"color: #800000; text-decoration-color: #800000; font-weight: bold\">. </span><span style=\"color: #008000; text-decoration-color: #008000\">\"Uptown Funk\"</span><span style=\"color: #800000; text-decoration-color: #800000; font-weight: bold\"> - Mark Ronson ft. Bruno Mars</span>\n",
       "<span style=\"color: #008080; text-decoration-color: #008080; font-weight: bold\">6</span><span style=\"color: #800000; text-decoration-color: #800000; font-weight: bold\">. </span><span style=\"color: #008000; text-decoration-color: #008000\">\"Go, Shorty\"</span><span style=\"color: #800000; text-decoration-color: #800000; font-weight: bold\"> - The Foundations</span>\n",
       "<span style=\"color: #008080; text-decoration-color: #008080; font-weight: bold\">7</span><span style=\"color: #800000; text-decoration-color: #800000; font-weight: bold\">. Various songs from the </span><span style=\"color: #008000; text-decoration-color: #008000\">\"100 Best Party Songs\"</span><span style=\"color: #800000; text-decoration-color: #800000; font-weight: bold\"> list on Audiocaptain.com, such as </span><span style=\"color: #008000; text-decoration-color: #008000\">\"Don't Stop Believin'\"</span><span style=\"color: #800000; text-decoration-color: #800000; font-weight: bold\"> by </span>\n",
       "<span style=\"color: #800000; text-decoration-color: #800000; font-weight: bold\">Journey and </span><span style=\"color: #008000; text-decoration-color: #008000\">\"One More Time\"</span><span style=\"color: #800000; text-decoration-color: #800000; font-weight: bold\"> by Daft Punk.</span>\n",
       "\n",
       "<span style=\"color: #800000; text-decoration-color: #800000; font-weight: bold\">These songs are known for their catchy rhythms and ability to get people dancing and having a good time at parties.</span>\n",
       "<span style=\"color: #800000; text-decoration-color: #800000; font-weight: bold\">You can create a mix of these tracks to ensure a lively atmosphere throughout your event!}, decoding failed on that</span>\n",
       "<span style=\"color: #800000; text-decoration-color: #800000; font-weight: bold\">specific part of the blob:</span>\n",
       "<span style=\"color: #008000; text-decoration-color: #008000\">''</span><span style=\"color: #800000; text-decoration-color: #800000; font-weight: bold\">.</span>\n",
       "</pre>\n"
      ],
      "text/plain": [
       "\u001b[1;31mError while generating or parsing output:\u001b[0m\n",
       "\u001b[1;31mThe JSON blob you used is invalid due to the following error: Expecting property name enclosed in double quotes: \u001b[0m\n",
       "\u001b[1;31mline \u001b[0m\u001b[1;36m1\u001b[0m\u001b[1;31m column \u001b[0m\u001b[1;36m2\u001b[0m\u001b[1;31m \u001b[0m\u001b[1;31m(\u001b[0m\u001b[1;31mchar \u001b[0m\u001b[1;36m1\u001b[0m\u001b[1;31m)\u001b[0m\u001b[1;31m.\u001b[0m\n",
       "\u001b[1;31mJSON blob was: \u001b[0m\u001b[1;31m<\u001b[0m\u001b[1;95mtool_call\u001b[0m\u001b[1;31m>\u001b[0m\u001b[1;31mystem\u001b[0m\u001b[1;31m{\u001b[0m\u001b[1;31mSince you're looking for party songs, I'll focus on the top suggestions from the \u001b[0m\n",
       "\u001b[1;31msources provided. Here are some popular and energetic party hits:\u001b[0m\n",
       "\n",
       "\u001b[1;36m1\u001b[0m\u001b[1;31m. \u001b[0m\u001b[32m\"September\"\u001b[0m\u001b[1;31m - Earth, Wind & Fire \u001b[0m\u001b[1;31m(\u001b[0m\u001b[1;36m1978\u001b[0m\u001b[1;31m)\u001b[0m\n",
       "\u001b[1;36m2\u001b[0m\u001b[1;31m. \u001b[0m\u001b[32m\"Flowers\"\u001b[0m\u001b[1;31m by Miley Cyrus \u001b[0m\u001b[1;31m(\u001b[0m\u001b[1;36m2023\u001b[0m\u001b[1;31m)\u001b[0m\n",
       "\u001b[1;36m3\u001b[0m\u001b[1;31m. \u001b[0m\u001b[32m\"TQG\"\u001b[0m\u001b[1;31m by KAROL G & Shakira \u001b[0m\u001b[1;31m(\u001b[0m\u001b[1;36m2023\u001b[0m\u001b[1;31m)\u001b[0m\n",
       "\u001b[1;36m4\u001b[0m\u001b[1;31m. \u001b[0m\u001b[32m\"TRUSTFALL\"\u001b[0m\u001b[1;31m by P!nk \u001b[0m\u001b[1;31m(\u001b[0m\u001b[1;36m2023\u001b[0m\u001b[1;31m)\u001b[0m\n",
       "\u001b[1;36m5\u001b[0m\u001b[1;31m. \u001b[0m\u001b[32m\"Uptown Funk\"\u001b[0m\u001b[1;31m - Mark Ronson ft. Bruno Mars\u001b[0m\n",
       "\u001b[1;36m6\u001b[0m\u001b[1;31m. \u001b[0m\u001b[32m\"Go, Shorty\"\u001b[0m\u001b[1;31m - The Foundations\u001b[0m\n",
       "\u001b[1;36m7\u001b[0m\u001b[1;31m. Various songs from the \u001b[0m\u001b[32m\"100 Best Party Songs\"\u001b[0m\u001b[1;31m list on Audiocaptain.com, such as \u001b[0m\u001b[32m\"Don't Stop Believin'\"\u001b[0m\u001b[1;31m by \u001b[0m\n",
       "\u001b[1;31mJourney and \u001b[0m\u001b[32m\"One More Time\"\u001b[0m\u001b[1;31m by Daft Punk.\u001b[0m\n",
       "\n",
       "\u001b[1;31mThese songs are known for their catchy rhythms and ability to get people dancing and having a good time at parties.\u001b[0m\n",
       "\u001b[1;31mYou can create a mix of these tracks to ensure a lively atmosphere throughout your event!\u001b[0m\u001b[1;31m}\u001b[0m\u001b[1;31m, decoding failed on that\u001b[0m\n",
       "\u001b[1;31mspecific part of the blob:\u001b[0m\n",
       "\u001b[32m''\u001b[0m\u001b[1;31m.\u001b[0m\n"
      ]
     },
     "metadata": {},
     "output_type": "display_data"
    },
    {
     "data": {
      "text/html": [
       "<pre style=\"white-space:pre;overflow-x:auto;line-height:normal;font-family:Menlo,'DejaVu Sans Mono',consolas,'Courier New',monospace\"><span style=\"color: #7f7f7f; text-decoration-color: #7f7f7f\">[Step 2: Duration 280.48 seconds| Input tokens: 3,179 | Output tokens: 249]</span>\n",
       "</pre>\n"
      ],
      "text/plain": [
       "\u001b[2m[Step 2: Duration 280.48 seconds| Input tokens: 3,179 | Output tokens: 249]\u001b[0m\n"
      ]
     },
     "metadata": {},
     "output_type": "display_data"
    },
    {
     "data": {
      "text/html": [
       "<pre style=\"white-space:pre;overflow-x:auto;line-height:normal;font-family:Menlo,'DejaVu Sans Mono',consolas,'Courier New',monospace\"><span style=\"color: #d4b702; text-decoration-color: #d4b702\">━━━━━━━━━━━━━━━━━━━━━━━━━━━━━━━━━━━━━━━━━━━━━━━━━━━━━ </span><span style=\"font-weight: bold\">Step </span><span style=\"color: #008080; text-decoration-color: #008080; font-weight: bold\">3</span><span style=\"color: #d4b702; text-decoration-color: #d4b702\"> ━━━━━━━━━━━━━━━━━━━━━━━━━━━━━━━━━━━━━━━━━━━━━━━━━━━━━━</span>\n",
       "</pre>\n"
      ],
      "text/plain": [
       "\u001b[38;2;212;183;2m━━━━━━━━━━━━━━━━━━━━━━━━━━━━━━━━━━━━━━━━━━━━━━━━━━━━━ \u001b[0m\u001b[1mStep \u001b[0m\u001b[1;36m3\u001b[0m\u001b[38;2;212;183;2m ━━━━━━━━━━━━━━━━━━━━━━━━━━━━━━━━━━━━━━━━━━━━━━━━━━━━━━\u001b[0m\n"
      ]
     },
     "metadata": {},
     "output_type": "display_data"
    },
    {
     "data": {
      "text/html": [
       "<pre style=\"white-space:pre;overflow-x:auto;line-height:normal;font-family:Menlo,'DejaVu Sans Mono',consolas,'Courier New',monospace\"><span style=\"color: #800000; text-decoration-color: #800000; font-weight: bold\">Error while generating or parsing output:</span>\n",
       "<span style=\"color: #800000; text-decoration-color: #800000; font-weight: bold\">The JSON blob you used is invalid due to the following error: Expecting property name enclosed in double quotes: </span>\n",
       "<span style=\"color: #800000; text-decoration-color: #800000; font-weight: bold\">line </span><span style=\"color: #008080; text-decoration-color: #008080; font-weight: bold\">1</span><span style=\"color: #800000; text-decoration-color: #800000; font-weight: bold\"> column </span><span style=\"color: #008080; text-decoration-color: #008080; font-weight: bold\">2</span><span style=\"color: #800000; text-decoration-color: #800000; font-weight: bold\"> (char </span><span style=\"color: #008080; text-decoration-color: #008080; font-weight: bold\">1</span><span style=\"color: #800000; text-decoration-color: #800000; font-weight: bold\">).</span>\n",
       "<span style=\"color: #800000; text-decoration-color: #800000; font-weight: bold\">JSON blob was: &lt;</span><span style=\"color: #ff00ff; text-decoration-color: #ff00ff; font-weight: bold\">tool_call</span><span style=\"color: #800000; text-decoration-color: #800000; font-weight: bold\">&gt;ystem{Based on the sources provided, here are some popular and energetic party songs that</span>\n",
       "<span style=\"color: #800000; text-decoration-color: #800000; font-weight: bold\">can help create an engaging atmosphere at your event:</span>\n",
       "\n",
       "<span style=\"color: #008080; text-decoration-color: #008080; font-weight: bold\">1</span><span style=\"color: #800000; text-decoration-color: #800000; font-weight: bold\">. **</span><span style=\"color: #008000; text-decoration-color: #008000\">\"September\"</span><span style=\"color: #800000; text-decoration-color: #800000; font-weight: bold\"> - Earth, Wind &amp; Fire** (</span><span style=\"color: #008080; text-decoration-color: #008080; font-weight: bold\">1978</span><span style=\"color: #800000; text-decoration-color: #800000; font-weight: bold\">)</span>\n",
       "<span style=\"color: #008080; text-decoration-color: #008080; font-weight: bold\">2</span><span style=\"color: #800000; text-decoration-color: #800000; font-weight: bold\">. **</span><span style=\"color: #008000; text-decoration-color: #008000\">\"Flowers\"</span><span style=\"color: #800000; text-decoration-color: #800000; font-weight: bold\"> - Miley Cyrus** (</span><span style=\"color: #008080; text-decoration-color: #008080; font-weight: bold\">2023</span><span style=\"color: #800000; text-decoration-color: #800000; font-weight: bold\">)</span>\n",
       "<span style=\"color: #008080; text-decoration-color: #008080; font-weight: bold\">3</span><span style=\"color: #800000; text-decoration-color: #800000; font-weight: bold\">. **</span><span style=\"color: #008000; text-decoration-color: #008000\">\"TQG\"</span><span style=\"color: #800000; text-decoration-color: #800000; font-weight: bold\"> - KAROL G &amp; Shakira** (</span><span style=\"color: #008080; text-decoration-color: #008080; font-weight: bold\">2023</span><span style=\"color: #800000; text-decoration-color: #800000; font-weight: bold\">)</span>\n",
       "<span style=\"color: #008080; text-decoration-color: #008080; font-weight: bold\">4</span><span style=\"color: #800000; text-decoration-color: #800000; font-weight: bold\">. **</span><span style=\"color: #008000; text-decoration-color: #008000\">\"TRUSTFALL\"</span><span style=\"color: #800000; text-decoration-color: #800000; font-weight: bold\"> - P!nk** (</span><span style=\"color: #008080; text-decoration-color: #008080; font-weight: bold\">2023</span><span style=\"color: #800000; text-decoration-color: #800000; font-weight: bold\">)</span>\n",
       "<span style=\"color: #008080; text-decoration-color: #008080; font-weight: bold\">5</span><span style=\"color: #800000; text-decoration-color: #800000; font-weight: bold\">. **</span><span style=\"color: #008000; text-decoration-color: #008000\">\"Uptown Funk\"</span><span style=\"color: #800000; text-decoration-color: #800000; font-weight: bold\"> - Mark Ronson ft. Bruno Mars**</span>\n",
       "<span style=\"color: #008080; text-decoration-color: #008080; font-weight: bold\">6</span><span style=\"color: #800000; text-decoration-color: #800000; font-weight: bold\">. **</span><span style=\"color: #008000; text-decoration-color: #008000\">\"Go, Shorty\"</span><span style=\"color: #800000; text-decoration-color: #800000; font-weight: bold\"> - The Foundations**</span>\n",
       "<span style=\"color: #008080; text-decoration-color: #008080; font-weight: bold\">7</span><span style=\"color: #800000; text-decoration-color: #800000; font-weight: bold\">. Various songs from the </span><span style=\"color: #008000; text-decoration-color: #008000\">\"100 Best Party Songs\"</span><span style=\"color: #800000; text-decoration-color: #800000; font-weight: bold\"> list on Audiocaptain.com, such as:</span>\n",
       "<span style=\"color: #800000; text-decoration-color: #800000; font-weight: bold\">   - **</span><span style=\"color: #008000; text-decoration-color: #008000\">\"Don't Stop Believin'\"</span><span style=\"color: #800000; text-decoration-color: #800000; font-weight: bold\"> - Journey**</span>\n",
       "<span style=\"color: #800000; text-decoration-color: #800000; font-weight: bold\">   - **</span><span style=\"color: #008000; text-decoration-color: #008000\">\"One More Time\"</span><span style=\"color: #800000; text-decoration-color: #800000; font-weight: bold\"> - Daft Punk**</span>\n",
       "\n",
       "<span style=\"color: #800000; text-decoration-color: #800000; font-weight: bold\">These tracks are known for their catchy rhythms and ability to get people dancing. You can mix these songs to </span>\n",
       "<span style=\"color: #800000; text-decoration-color: #800000; font-weight: bold\">ensure a lively atmosphere throughout your event!}, decoding failed on that specific part of the blob:</span>\n",
       "<span style=\"color: #008000; text-decoration-color: #008000\">''</span><span style=\"color: #800000; text-decoration-color: #800000; font-weight: bold\">.</span>\n",
       "</pre>\n"
      ],
      "text/plain": [
       "\u001b[1;31mError while generating or parsing output:\u001b[0m\n",
       "\u001b[1;31mThe JSON blob you used is invalid due to the following error: Expecting property name enclosed in double quotes: \u001b[0m\n",
       "\u001b[1;31mline \u001b[0m\u001b[1;36m1\u001b[0m\u001b[1;31m column \u001b[0m\u001b[1;36m2\u001b[0m\u001b[1;31m \u001b[0m\u001b[1;31m(\u001b[0m\u001b[1;31mchar \u001b[0m\u001b[1;36m1\u001b[0m\u001b[1;31m)\u001b[0m\u001b[1;31m.\u001b[0m\n",
       "\u001b[1;31mJSON blob was: \u001b[0m\u001b[1;31m<\u001b[0m\u001b[1;95mtool_call\u001b[0m\u001b[1;31m>\u001b[0m\u001b[1;31mystem\u001b[0m\u001b[1;31m{\u001b[0m\u001b[1;31mBased on the sources provided, here are some popular and energetic party songs that\u001b[0m\n",
       "\u001b[1;31mcan help create an engaging atmosphere at your event:\u001b[0m\n",
       "\n",
       "\u001b[1;36m1\u001b[0m\u001b[1;31m. **\u001b[0m\u001b[32m\"September\"\u001b[0m\u001b[1;31m - Earth, Wind & Fire** \u001b[0m\u001b[1;31m(\u001b[0m\u001b[1;36m1978\u001b[0m\u001b[1;31m)\u001b[0m\n",
       "\u001b[1;36m2\u001b[0m\u001b[1;31m. **\u001b[0m\u001b[32m\"Flowers\"\u001b[0m\u001b[1;31m - Miley Cyrus** \u001b[0m\u001b[1;31m(\u001b[0m\u001b[1;36m2023\u001b[0m\u001b[1;31m)\u001b[0m\n",
       "\u001b[1;36m3\u001b[0m\u001b[1;31m. **\u001b[0m\u001b[32m\"TQG\"\u001b[0m\u001b[1;31m - KAROL G & Shakira** \u001b[0m\u001b[1;31m(\u001b[0m\u001b[1;36m2023\u001b[0m\u001b[1;31m)\u001b[0m\n",
       "\u001b[1;36m4\u001b[0m\u001b[1;31m. **\u001b[0m\u001b[32m\"TRUSTFALL\"\u001b[0m\u001b[1;31m - P!nk** \u001b[0m\u001b[1;31m(\u001b[0m\u001b[1;36m2023\u001b[0m\u001b[1;31m)\u001b[0m\n",
       "\u001b[1;36m5\u001b[0m\u001b[1;31m. **\u001b[0m\u001b[32m\"Uptown Funk\"\u001b[0m\u001b[1;31m - Mark Ronson ft. Bruno Mars**\u001b[0m\n",
       "\u001b[1;36m6\u001b[0m\u001b[1;31m. **\u001b[0m\u001b[32m\"Go, Shorty\"\u001b[0m\u001b[1;31m - The Foundations**\u001b[0m\n",
       "\u001b[1;36m7\u001b[0m\u001b[1;31m. Various songs from the \u001b[0m\u001b[32m\"100 Best Party Songs\"\u001b[0m\u001b[1;31m list on Audiocaptain.com, such as:\u001b[0m\n",
       "\u001b[1;31m   - **\u001b[0m\u001b[32m\"Don't Stop Believin'\"\u001b[0m\u001b[1;31m - Journey**\u001b[0m\n",
       "\u001b[1;31m   - **\u001b[0m\u001b[32m\"One More Time\"\u001b[0m\u001b[1;31m - Daft Punk**\u001b[0m\n",
       "\n",
       "\u001b[1;31mThese tracks are known for their catchy rhythms and ability to get people dancing. You can mix these songs to \u001b[0m\n",
       "\u001b[1;31mensure a lively atmosphere throughout your event!\u001b[0m\u001b[1;31m}\u001b[0m\u001b[1;31m, decoding failed on that specific part of the blob:\u001b[0m\n",
       "\u001b[32m''\u001b[0m\u001b[1;31m.\u001b[0m\n"
      ]
     },
     "metadata": {},
     "output_type": "display_data"
    },
    {
     "data": {
      "text/html": [
       "<pre style=\"white-space:pre;overflow-x:auto;line-height:normal;font-family:Menlo,'DejaVu Sans Mono',consolas,'Courier New',monospace\"><span style=\"color: #7f7f7f; text-decoration-color: #7f7f7f\">[Step 3: Duration 281.26 seconds| Input tokens: 5,227 | Output tokens: 471]</span>\n",
       "</pre>\n"
      ],
      "text/plain": [
       "\u001b[2m[Step 3: Duration 281.26 seconds| Input tokens: 5,227 | Output tokens: 471]\u001b[0m\n"
      ]
     },
     "metadata": {},
     "output_type": "display_data"
    },
    {
     "data": {
      "text/html": [
       "<pre style=\"white-space:pre;overflow-x:auto;line-height:normal;font-family:Menlo,'DejaVu Sans Mono',consolas,'Courier New',monospace\"><span style=\"color: #d4b702; text-decoration-color: #d4b702\">━━━━━━━━━━━━━━━━━━━━━━━━━━━━━━━━━━━━━━━━━━━━━━━━━━━━━ </span><span style=\"font-weight: bold\">Step </span><span style=\"color: #008080; text-decoration-color: #008080; font-weight: bold\">4</span><span style=\"color: #d4b702; text-decoration-color: #d4b702\"> ━━━━━━━━━━━━━━━━━━━━━━━━━━━━━━━━━━━━━━━━━━━━━━━━━━━━━━</span>\n",
       "</pre>\n"
      ],
      "text/plain": [
       "\u001b[38;2;212;183;2m━━━━━━━━━━━━━━━━━━━━━━━━━━━━━━━━━━━━━━━━━━━━━━━━━━━━━ \u001b[0m\u001b[1mStep \u001b[0m\u001b[1;36m4\u001b[0m\u001b[38;2;212;183;2m ━━━━━━━━━━━━━━━━━━━━━━━━━━━━━━━━━━━━━━━━━━━━━━━━━━━━━━\u001b[0m\n"
      ]
     },
     "metadata": {},
     "output_type": "display_data"
    }
   ],
   "source": [
    "agent.run(\"Search for the best music recommendations for a party at the Wayne's mansion.\")"
   ]
  },
  {
   "cell_type": "code",
   "execution_count": null,
   "id": "e1600f77",
   "metadata": {},
   "outputs": [],
   "source": []
  }
 ],
 "metadata": {
  "kernelspec": {
   "display_name": "venv",
   "language": "python",
   "name": "python3"
  },
  "language_info": {
   "codemirror_mode": {
    "name": "ipython",
    "version": 3
   },
   "file_extension": ".py",
   "mimetype": "text/x-python",
   "name": "python",
   "nbconvert_exporter": "python",
   "pygments_lexer": "ipython3",
   "version": "3.10.0"
  }
 },
 "nbformat": 4,
 "nbformat_minor": 5
}
